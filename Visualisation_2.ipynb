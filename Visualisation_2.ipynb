{
 "cells": [
  {
   "cell_type": "code",
   "execution_count": 1,
   "metadata": {},
   "outputs": [],
   "source": [
    "import seaborn as sns\n",
    "import matplotlib.pyplot as plt\n",
    "import plotly.graph_objects as go\n",
    "from plotly.subplots import make_subplots\n",
    "import numpy as np\n",
    "import pandas as pd\n",
    "%matplotlib inline\n",
    "\n",
    "pd.set_option('display.max_columns', None)\n",
    "pd.set_option('display.max_rows', None)\n",
    "pd.set_option('display.max_colwidth', -1)"
   ]
  },
  {
   "cell_type": "code",
   "execution_count": 2,
   "metadata": {},
   "outputs": [],
   "source": [
    "# kaggle data:\n",
    "lap_times = pd.read_csv(r\"F1_data\\lap_times.csv\")\n",
    "drivers = pd.read_csv(r\"F1_data\\drivers.csv\")\n",
    "results = pd.read_csv(r\"F1_data\\results.csv\")\n",
    "\n",
    "# scraped data:\n",
    "circuits = pd.read_csv(r\"data_cleaned\\circuits.csv\")\n",
    "races = pd.read_csv(r\"data_cleaned\\races.csv\")\n",
    "engines = pd.read_csv(r\"data_cleaned\\engines.csv\")\n",
    "\n",
    "# merged data:\n",
    "teams = pd.read_csv(r\"data_cleaned\\teams.csv\")\n",
    "lap_speeds = pd.read_csv(r\"data_cleaned\\lap_speeds.csv\")\n",
    "main_drivers = pd.read_csv(r\"data_cleaned\\main_drivers .csv\")\n",
    "constructors = pd.read_csv(r\"data_cleaned\\constructors.csv\")"
   ]
  },
  {
   "cell_type": "markdown",
   "metadata": {},
   "source": [
    "### convert point system to be uniform over the years"
   ]
  },
  {
   "cell_type": "code",
   "execution_count": 3,
   "metadata": {},
   "outputs": [
    {
     "data": {
      "text/html": [
       "<div>\n",
       "<style scoped>\n",
       "    .dataframe tbody tr th:only-of-type {\n",
       "        vertical-align: middle;\n",
       "    }\n",
       "\n",
       "    .dataframe tbody tr th {\n",
       "        vertical-align: top;\n",
       "    }\n",
       "\n",
       "    .dataframe thead th {\n",
       "        text-align: right;\n",
       "    }\n",
       "</style>\n",
       "<table border=\"1\" class=\"dataframe\">\n",
       "  <thead>\n",
       "    <tr style=\"text-align: right;\">\n",
       "      <th></th>\n",
       "      <th>resultId</th>\n",
       "      <th>raceId</th>\n",
       "      <th>driverId</th>\n",
       "      <th>constructorId</th>\n",
       "      <th>number</th>\n",
       "      <th>grid</th>\n",
       "      <th>position</th>\n",
       "      <th>positionText</th>\n",
       "      <th>positionOrder</th>\n",
       "      <th>points</th>\n",
       "      <th>laps</th>\n",
       "      <th>time</th>\n",
       "      <th>milliseconds</th>\n",
       "      <th>fastestLap</th>\n",
       "      <th>rank</th>\n",
       "      <th>fastestLapTime</th>\n",
       "      <th>fastestLapSpeed</th>\n",
       "      <th>statusId</th>\n",
       "      <th>point_map</th>\n",
       "    </tr>\n",
       "  </thead>\n",
       "  <tbody>\n",
       "    <tr>\n",
       "      <th>0</th>\n",
       "      <td>1</td>\n",
       "      <td>18</td>\n",
       "      <td>1</td>\n",
       "      <td>1</td>\n",
       "      <td>22</td>\n",
       "      <td>1</td>\n",
       "      <td>1</td>\n",
       "      <td>1</td>\n",
       "      <td>1</td>\n",
       "      <td>10.0</td>\n",
       "      <td>58</td>\n",
       "      <td>1:34:50.616</td>\n",
       "      <td>5690616</td>\n",
       "      <td>39</td>\n",
       "      <td>2</td>\n",
       "      <td>1:27.452</td>\n",
       "      <td>218.300</td>\n",
       "      <td>1</td>\n",
       "      <td>25.0</td>\n",
       "    </tr>\n",
       "    <tr>\n",
       "      <th>1</th>\n",
       "      <td>2</td>\n",
       "      <td>18</td>\n",
       "      <td>2</td>\n",
       "      <td>2</td>\n",
       "      <td>3</td>\n",
       "      <td>5</td>\n",
       "      <td>2</td>\n",
       "      <td>2</td>\n",
       "      <td>2</td>\n",
       "      <td>8.0</td>\n",
       "      <td>58</td>\n",
       "      <td>+5.478</td>\n",
       "      <td>5696094</td>\n",
       "      <td>41</td>\n",
       "      <td>3</td>\n",
       "      <td>1:27.739</td>\n",
       "      <td>217.586</td>\n",
       "      <td>1</td>\n",
       "      <td>18.0</td>\n",
       "    </tr>\n",
       "    <tr>\n",
       "      <th>2</th>\n",
       "      <td>3</td>\n",
       "      <td>18</td>\n",
       "      <td>3</td>\n",
       "      <td>3</td>\n",
       "      <td>7</td>\n",
       "      <td>7</td>\n",
       "      <td>3</td>\n",
       "      <td>3</td>\n",
       "      <td>3</td>\n",
       "      <td>6.0</td>\n",
       "      <td>58</td>\n",
       "      <td>+8.163</td>\n",
       "      <td>5698779</td>\n",
       "      <td>41</td>\n",
       "      <td>5</td>\n",
       "      <td>1:28.090</td>\n",
       "      <td>216.719</td>\n",
       "      <td>1</td>\n",
       "      <td>15.0</td>\n",
       "    </tr>\n",
       "    <tr>\n",
       "      <th>3</th>\n",
       "      <td>4</td>\n",
       "      <td>18</td>\n",
       "      <td>4</td>\n",
       "      <td>4</td>\n",
       "      <td>5</td>\n",
       "      <td>11</td>\n",
       "      <td>4</td>\n",
       "      <td>4</td>\n",
       "      <td>4</td>\n",
       "      <td>5.0</td>\n",
       "      <td>58</td>\n",
       "      <td>+17.181</td>\n",
       "      <td>5707797</td>\n",
       "      <td>58</td>\n",
       "      <td>7</td>\n",
       "      <td>1:28.603</td>\n",
       "      <td>215.464</td>\n",
       "      <td>1</td>\n",
       "      <td>12.0</td>\n",
       "    </tr>\n",
       "    <tr>\n",
       "      <th>4</th>\n",
       "      <td>5</td>\n",
       "      <td>18</td>\n",
       "      <td>5</td>\n",
       "      <td>1</td>\n",
       "      <td>23</td>\n",
       "      <td>3</td>\n",
       "      <td>5</td>\n",
       "      <td>5</td>\n",
       "      <td>5</td>\n",
       "      <td>4.0</td>\n",
       "      <td>58</td>\n",
       "      <td>+18.014</td>\n",
       "      <td>5708630</td>\n",
       "      <td>43</td>\n",
       "      <td>1</td>\n",
       "      <td>1:27.418</td>\n",
       "      <td>218.385</td>\n",
       "      <td>1</td>\n",
       "      <td>10.0</td>\n",
       "    </tr>\n",
       "  </tbody>\n",
       "</table>\n",
       "</div>"
      ],
      "text/plain": [
       "   resultId  raceId  driverId  constructorId number  grid position  \\\n",
       "0  1         18      1         1              22     1     1         \n",
       "1  2         18      2         2              3      5     2         \n",
       "2  3         18      3         3              7      7     3         \n",
       "3  4         18      4         4              5      11    4         \n",
       "4  5         18      5         1              23     3     5         \n",
       "\n",
       "  positionText  positionOrder  points  laps         time milliseconds  \\\n",
       "0  1            1              10.0    58    1:34:50.616  5690616       \n",
       "1  2            2              8.0     58    +5.478       5696094       \n",
       "2  3            3              6.0     58    +8.163       5698779       \n",
       "3  4            4              5.0     58    +17.181      5707797       \n",
       "4  5            5              4.0     58    +18.014      5708630       \n",
       "\n",
       "  fastestLap rank fastestLapTime fastestLapSpeed  statusId  point_map  \n",
       "0  39         2    1:27.452       218.300         1         25.0       \n",
       "1  41         3    1:27.739       217.586         1         18.0       \n",
       "2  41         5    1:28.090       216.719         1         15.0       \n",
       "3  58         7    1:28.603       215.464         1         12.0       \n",
       "4  43         1    1:27.418       218.385         1         10.0       "
      ]
     },
     "execution_count": 3,
     "metadata": {},
     "output_type": "execute_result"
    }
   ],
   "source": [
    "points_map = {1: 25, 2: 18, 3: 15, 4: 12, 5: 10, 6: 8, 7: 6, 8: 4, 9: 2, 10: 1}\n",
    "\n",
    "results['point_map'] = results['positionOrder'].map(points_map)\n",
    "results['point_map'].fillna(0, inplace=True)\n",
    "results.head()"
   ]
  },
  {
   "cell_type": "markdown",
   "metadata": {},
   "source": [
    "### Get all race winners"
   ]
  },
  {
   "cell_type": "code",
   "execution_count": 4,
   "metadata": {},
   "outputs": [
    {
     "data": {
      "text/html": [
       "<div>\n",
       "<style scoped>\n",
       "    .dataframe tbody tr th:only-of-type {\n",
       "        vertical-align: middle;\n",
       "    }\n",
       "\n",
       "    .dataframe tbody tr th {\n",
       "        vertical-align: top;\n",
       "    }\n",
       "\n",
       "    .dataframe thead th {\n",
       "        text-align: right;\n",
       "    }\n",
       "</style>\n",
       "<table border=\"1\" class=\"dataframe\">\n",
       "  <thead>\n",
       "    <tr style=\"text-align: right;\">\n",
       "      <th></th>\n",
       "      <th>raceId</th>\n",
       "      <th>constructorId</th>\n",
       "      <th>year</th>\n",
       "      <th>constructorRef_mapped</th>\n",
       "      <th>engine</th>\n",
       "    </tr>\n",
       "  </thead>\n",
       "  <tbody>\n",
       "    <tr>\n",
       "      <th>0</th>\n",
       "      <td>18</td>\n",
       "      <td>1</td>\n",
       "      <td>2008.0</td>\n",
       "      <td>mclaren</td>\n",
       "      <td>mercedes</td>\n",
       "    </tr>\n",
       "    <tr>\n",
       "      <th>1</th>\n",
       "      <td>19</td>\n",
       "      <td>6</td>\n",
       "      <td>2008.0</td>\n",
       "      <td>ferrari</td>\n",
       "      <td>ferrari</td>\n",
       "    </tr>\n",
       "    <tr>\n",
       "      <th>2</th>\n",
       "      <td>20</td>\n",
       "      <td>6</td>\n",
       "      <td>2008.0</td>\n",
       "      <td>ferrari</td>\n",
       "      <td>ferrari</td>\n",
       "    </tr>\n",
       "    <tr>\n",
       "      <th>3</th>\n",
       "      <td>21</td>\n",
       "      <td>6</td>\n",
       "      <td>2008.0</td>\n",
       "      <td>ferrari</td>\n",
       "      <td>ferrari</td>\n",
       "    </tr>\n",
       "    <tr>\n",
       "      <th>4</th>\n",
       "      <td>22</td>\n",
       "      <td>6</td>\n",
       "      <td>2008.0</td>\n",
       "      <td>ferrari</td>\n",
       "      <td>ferrari</td>\n",
       "    </tr>\n",
       "  </tbody>\n",
       "</table>\n",
       "</div>"
      ],
      "text/plain": [
       "   raceId  constructorId    year constructorRef_mapped    engine\n",
       "0  18      1              2008.0  mclaren               mercedes\n",
       "1  19      6              2008.0  ferrari               ferrari \n",
       "2  20      6              2008.0  ferrari               ferrari \n",
       "3  21      6              2008.0  ferrari               ferrari \n",
       "4  22      6              2008.0  ferrari               ferrari "
      ]
     },
     "execution_count": 4,
     "metadata": {},
     "output_type": "execute_result"
    }
   ],
   "source": [
    "winners = results.loc[results.positionOrder ==1, ['raceId', 'constructorId']]\n",
    "winners = winners.merge(races.loc[races.year > 1995, ['raceId', 'year']], on='raceId', how='left')\n",
    "winners = winners.merge(constructors[['constructorId', 'constructorRef_mapped']], on ='constructorId', how='left')\n",
    "winners = winners.merge(engines[['year', 'engine', 'constructorId']], how='left',\n",
    "                        left_on=['constructorId', 'year'], \n",
    "                        right_on=['constructorId', 'year'])\n",
    "winners.head()"
   ]
  },
  {
   "cell_type": "markdown",
   "metadata": {},
   "source": [
    "### Get expected win count by engine"
   ]
  },
  {
   "cell_type": "code",
   "execution_count": 5,
   "metadata": {},
   "outputs": [
    {
     "data": {
      "text/html": [
       "<div>\n",
       "<style scoped>\n",
       "    .dataframe tbody tr th:only-of-type {\n",
       "        vertical-align: middle;\n",
       "    }\n",
       "\n",
       "    .dataframe tbody tr th {\n",
       "        vertical-align: top;\n",
       "    }\n",
       "\n",
       "    .dataframe thead th {\n",
       "        text-align: right;\n",
       "    }\n",
       "</style>\n",
       "<table border=\"1\" class=\"dataframe\">\n",
       "  <thead>\n",
       "    <tr style=\"text-align: right;\">\n",
       "      <th></th>\n",
       "      <th>engine</th>\n",
       "      <th>year</th>\n",
       "      <th>engine_count</th>\n",
       "      <th>starter_count</th>\n",
       "      <th>race_count</th>\n",
       "      <th>expected</th>\n",
       "      <th>expected wins</th>\n",
       "    </tr>\n",
       "  </thead>\n",
       "  <tbody>\n",
       "    <tr>\n",
       "      <th>0</th>\n",
       "      <td>acer</td>\n",
       "      <td>2001</td>\n",
       "      <td>34</td>\n",
       "      <td>374</td>\n",
       "      <td>17</td>\n",
       "      <td>0.090909</td>\n",
       "      <td>1.545455</td>\n",
       "    </tr>\n",
       "    <tr>\n",
       "      <th>1</th>\n",
       "      <td>arrows</td>\n",
       "      <td>1998</td>\n",
       "      <td>32</td>\n",
       "      <td>349</td>\n",
       "      <td>16</td>\n",
       "      <td>0.091691</td>\n",
       "      <td>1.467049</td>\n",
       "    </tr>\n",
       "    <tr>\n",
       "      <th>2</th>\n",
       "      <td>arrows</td>\n",
       "      <td>1999</td>\n",
       "      <td>32</td>\n",
       "      <td>352</td>\n",
       "      <td>16</td>\n",
       "      <td>0.090909</td>\n",
       "      <td>1.454545</td>\n",
       "    </tr>\n",
       "    <tr>\n",
       "      <th>3</th>\n",
       "      <td>asiatech</td>\n",
       "      <td>2001</td>\n",
       "      <td>34</td>\n",
       "      <td>374</td>\n",
       "      <td>17</td>\n",
       "      <td>0.090909</td>\n",
       "      <td>1.545455</td>\n",
       "    </tr>\n",
       "    <tr>\n",
       "      <th>4</th>\n",
       "      <td>asiatech</td>\n",
       "      <td>2002</td>\n",
       "      <td>32</td>\n",
       "      <td>362</td>\n",
       "      <td>17</td>\n",
       "      <td>0.088398</td>\n",
       "      <td>1.502762</td>\n",
       "    </tr>\n",
       "  </tbody>\n",
       "</table>\n",
       "</div>"
      ],
      "text/plain": [
       "     engine  year  engine_count  starter_count  race_count  expected  \\\n",
       "0  acer      2001  34            374            17          0.090909   \n",
       "1  arrows    1998  32            349            16          0.091691   \n",
       "2  arrows    1999  32            352            16          0.090909   \n",
       "3  asiatech  2001  34            374            17          0.090909   \n",
       "4  asiatech  2002  32            362            17          0.088398   \n",
       "\n",
       "   expected wins  \n",
       "0  1.545455       \n",
       "1  1.467049       \n",
       "2  1.454545       \n",
       "3  1.545455       \n",
       "4  1.502762       "
      ]
     },
     "execution_count": 5,
     "metadata": {},
     "output_type": "execute_result"
    }
   ],
   "source": [
    "expected = results[['raceId', 'constructorId', 'grid']].copy()\n",
    "expected = expected.merge(races.loc[races.year > 1995, ['raceId', 'year']], on='raceId', how='inner')\n",
    "expected = expected.merge(constructors[['constructorId', 'constructorRef_mapped']], on ='constructorId', how='left')\n",
    "expected = expected.merge(engines[['year', 'engine', 'constructorId', 'constructorRef']], how='left',\n",
    "                        left_on=['constructorId', 'year'], \n",
    "                        right_on=['constructorId', 'year'])\n",
    "\n",
    "engine_count  = pd.DataFrame({'engine_count' : expected.groupby(['engine', 'year'])['constructorId'].count()}).reset_index()\n",
    "starter_count = pd.DataFrame({'starter_count' : expected.groupby(['year'])['constructorId'].count()}).reset_index()\n",
    "race_count    = pd.DataFrame({'race_count' : expected.groupby(['year'])['raceId'].nunique()}).reset_index()\n",
    "expected_vals = engine_count.merge(starter_count, how='left', on ='year')\n",
    "expected_vals = expected_vals.merge(race_count, how='left', on ='year')\n",
    "expected_vals['expected'] = expected_vals['engine_count']/expected_vals['starter_count']\n",
    "expected_vals['expected wins'] = expected_vals['expected']*expected_vals['race_count']\n",
    "expected_vals.head()"
   ]
  },
  {
   "cell_type": "markdown",
   "metadata": {},
   "source": [
    "### Engine win count since 1996"
   ]
  },
  {
   "cell_type": "code",
   "execution_count": 28,
   "metadata": {},
   "outputs": [
    {
     "data": {
      "image/png": "[encoded data removed]",
      "text/plain": [
       "<Figure size 720x360 with 1 Axes>"
      ]
     },
     "metadata": {},
     "output_type": "display_data"
    }
   ],
   "source": [
    "engine_wins = pd.DataFrame({'engine_win_count' : winners.groupby(['engine'])['raceId'].count()}).reset_index()\\\n",
    "\n",
    "sns.set(rc={'figure.figsize':(10,5)})\n",
    "sns.set(style=\"white\")\n",
    "\n",
    "ax = sns.barplot(x='engine',\n",
    "            y=\"engine_win_count\", \n",
    "            data=engine_wins, \n",
    "            color='skyblue',\n",
    "            order=engine_wins.sort_values('engine_win_count', ascending=False).engine)\n",
    "\n",
    "for p in ax.patches:\n",
    "    height = p.get_height()\n",
    "    ax.text(x = p.get_x()+(p.get_width()/2), \n",
    "    y = height+3,\n",
    "    s = '{:.0f}'.format(height), \n",
    "    ha = 'center',\n",
    "    fontweight='bold',\n",
    "    fontsize=15) \n",
    "    \n",
    "ax.set_title('Figure 3: Race Win Count by Engine Manufacturer (1996-2020)', fontsize=16, fontweight='bold', y=1.05)\n",
    "\n",
    "for tick in ax.xaxis.get_major_ticks():\n",
    "    tick.label.set_fontsize(15)\n",
    "    tick.label.set_fontweight('bold')\n",
    "\n",
    "plt.xlabel('')\n",
    "plt.ylabel('')\n",
    "plt.yticks([], [])\n",
    "\n",
    "sns.despine(left=True, bottom=True)"
   ]
  },
  {
   "cell_type": "code",
   "execution_count": 7,
   "metadata": {},
   "outputs": [
    {
     "data": {
      "image/png": "[encoded data removed]",
      "text/plain": [
       "<Figure size 720x360 with 1 Axes>"
      ]
     },
     "metadata": {},
     "output_type": "display_data"
    }
   ],
   "source": [
    "engine_count_all  = pd.DataFrame({'engine_count' : expected[expected.year>1995].groupby(['engine'])['raceId'].nunique()}).reset_index()\n",
    "\n",
    "sns.set(rc={'figure.figsize':(10,5)})\n",
    "sns.set(style=\"white\")\n",
    "\n",
    "ax = sns.barplot(y='engine',\n",
    "            x=\"engine_count\", \n",
    "            data=engine_count_all, \n",
    "            color='skyblue',\n",
    "            orient='h',\n",
    "            order=engine_count_all.sort_values('engine_count', ascending=False).engine)\n",
    "    \n",
    "ax.set_title('Race Count by Engine Manufacturer (1996-2020)', fontsize=16, fontweight='bold')\n",
    "\n",
    "for tick in ax.xaxis.get_major_ticks():\n",
    "    tick.label.set_fontsize(15)\n",
    "    tick.label.set_fontweight('bold')\n",
    "\n",
    "plt.xlabel('')\n",
    "plt.ylabel('')\n",
    "\n",
    "sns.despine(left=True, bottom=True)"
   ]
  },
  {
   "cell_type": "code",
   "execution_count": 8,
   "metadata": {
    "scrolled": true
   },
   "outputs": [
    {
     "data": {
      "image/png": "[encoded data removed]",
      "text/plain": [
       "<Figure size 720x360 with 1 Axes>"
      ]
     },
     "metadata": {},
     "output_type": "display_data"
    }
   ],
   "source": [
    "engine_count_top3 = pd.DataFrame({'engine_count' : expected.groupby(['engine', 'year'])['constructorId'].nunique()}).reset_index()\n",
    "engine_count_top3 = engine_count_top3[engine_count_top3.engine.isin(['mercedes', 'ferrari', 'renault'])]\n",
    "\n",
    "engine_count_top3_piv = pd.pivot_table(engine_count_top3, values=\"engine_count\", index=\"year\", columns=\"engine\")\n",
    "engine_count_top3_piv.fillna(0, inplace=True)\n",
    "engine_count_top3 = engine_count_top3_piv.stack().reset_index(name='engine_count')\n",
    "\n",
    "sns.set(rc={'figure.figsize':(10,5)})\n",
    "sns.set(style=\"white\")\n",
    "\n",
    "ax = sns.lineplot(x='year',\n",
    "            y=\"engine_count\", \n",
    "            data=engine_count_top3,\n",
    "            style='engine')\n",
    "    \n",
    "ax.set_title('Figure 3: Number of Teams With A Ferrari, Mercedes or Renault Engine', fontsize=16, fontweight='bold')\n",
    "ax.set_ylabel('Team Count', fontsize=13, fontweight='bold')\n",
    "plt.xlabel('')\n",
    "\n",
    "for tick in ax.xaxis.get_major_ticks():\n",
    "    tick.label.set_fontsize(15)\n",
    "    tick.label.set_fontweight('bold')\n",
    "\n",
    "for tick in ax.yaxis.get_major_ticks():\n",
    "    tick.label.set_fontsize(15)\n",
    "    tick.label.set_fontweight('bold')\n",
    "\n",
    "handles, labels = ax.get_legend_handles_labels()\n",
    "ax.legend(handles=handles[1:], labels=labels[1:], frameon=False)\n",
    "plt.setp(ax.get_legend().get_texts(), fontsize='13', fontweight='bold') \n",
    "\n",
    "sns.despine(left=True, bottom=True)"
   ]
  },
  {
   "cell_type": "code",
   "execution_count": 9,
   "metadata": {},
   "outputs": [
    {
     "data": {
      "text/html": [
       "<div>\n",
       "<style scoped>\n",
       "    .dataframe tbody tr th:only-of-type {\n",
       "        vertical-align: middle;\n",
       "    }\n",
       "\n",
       "    .dataframe tbody tr th {\n",
       "        vertical-align: top;\n",
       "    }\n",
       "\n",
       "    .dataframe thead th {\n",
       "        text-align: right;\n",
       "    }\n",
       "</style>\n",
       "<table border=\"1\" class=\"dataframe\">\n",
       "  <thead>\n",
       "    <tr style=\"text-align: right;\">\n",
       "      <th></th>\n",
       "      <th>raceId</th>\n",
       "      <th>year</th>\n",
       "      <th>driverId</th>\n",
       "      <th>lap</th>\n",
       "      <th>position</th>\n",
       "      <th>km_per_sec</th>\n",
       "      <th>km_per_min</th>\n",
       "      <th>circuitId</th>\n",
       "      <th>constructorId</th>\n",
       "      <th>constructorRef_mapped</th>\n",
       "      <th>circuitRef</th>\n",
       "      <th>engine</th>\n",
       "      <th>constructorRef</th>\n",
       "    </tr>\n",
       "  </thead>\n",
       "  <tbody>\n",
       "    <tr>\n",
       "      <th>0</th>\n",
       "      <td>1</td>\n",
       "      <td>2009</td>\n",
       "      <td>1.0</td>\n",
       "      <td>1.0</td>\n",
       "      <td>13.0</td>\n",
       "      <td>0.048612</td>\n",
       "      <td>2.916728</td>\n",
       "      <td>1</td>\n",
       "      <td>1</td>\n",
       "      <td>mclaren</td>\n",
       "      <td>albert_park</td>\n",
       "      <td>mercedes</td>\n",
       "      <td>mclaren</td>\n",
       "    </tr>\n",
       "    <tr>\n",
       "      <th>1</th>\n",
       "      <td>1</td>\n",
       "      <td>2009</td>\n",
       "      <td>1.0</td>\n",
       "      <td>2.0</td>\n",
       "      <td>12.0</td>\n",
       "      <td>0.056571</td>\n",
       "      <td>3.394282</td>\n",
       "      <td>1</td>\n",
       "      <td>1</td>\n",
       "      <td>mclaren</td>\n",
       "      <td>albert_park</td>\n",
       "      <td>mercedes</td>\n",
       "      <td>mclaren</td>\n",
       "    </tr>\n",
       "    <tr>\n",
       "      <th>2</th>\n",
       "      <td>1</td>\n",
       "      <td>2009</td>\n",
       "      <td>1.0</td>\n",
       "      <td>3.0</td>\n",
       "      <td>11.0</td>\n",
       "      <td>0.057893</td>\n",
       "      <td>3.473581</td>\n",
       "      <td>1</td>\n",
       "      <td>1</td>\n",
       "      <td>mclaren</td>\n",
       "      <td>albert_park</td>\n",
       "      <td>mercedes</td>\n",
       "      <td>mclaren</td>\n",
       "    </tr>\n",
       "    <tr>\n",
       "      <th>3</th>\n",
       "      <td>1</td>\n",
       "      <td>2009</td>\n",
       "      <td>1.0</td>\n",
       "      <td>4.0</td>\n",
       "      <td>10.0</td>\n",
       "      <td>0.058232</td>\n",
       "      <td>3.493911</td>\n",
       "      <td>1</td>\n",
       "      <td>1</td>\n",
       "      <td>mclaren</td>\n",
       "      <td>albert_park</td>\n",
       "      <td>mercedes</td>\n",
       "      <td>mclaren</td>\n",
       "    </tr>\n",
       "    <tr>\n",
       "      <th>4</th>\n",
       "      <td>1</td>\n",
       "      <td>2009</td>\n",
       "      <td>1.0</td>\n",
       "      <td>5.0</td>\n",
       "      <td>10.0</td>\n",
       "      <td>0.057561</td>\n",
       "      <td>3.453636</td>\n",
       "      <td>1</td>\n",
       "      <td>1</td>\n",
       "      <td>mclaren</td>\n",
       "      <td>albert_park</td>\n",
       "      <td>mercedes</td>\n",
       "      <td>mclaren</td>\n",
       "    </tr>\n",
       "  </tbody>\n",
       "</table>\n",
       "</div>"
      ],
      "text/plain": [
       "   raceId  year  driverId  lap  position  km_per_sec  km_per_min  circuitId  \\\n",
       "0  1       2009  1.0       1.0  13.0      0.048612    2.916728    1           \n",
       "1  1       2009  1.0       2.0  12.0      0.056571    3.394282    1           \n",
       "2  1       2009  1.0       3.0  11.0      0.057893    3.473581    1           \n",
       "3  1       2009  1.0       4.0  10.0      0.058232    3.493911    1           \n",
       "4  1       2009  1.0       5.0  10.0      0.057561    3.453636    1           \n",
       "\n",
       "   constructorId constructorRef_mapped   circuitRef    engine constructorRef  \n",
       "0  1              mclaren               albert_park  mercedes  mclaren        \n",
       "1  1              mclaren               albert_park  mercedes  mclaren        \n",
       "2  1              mclaren               albert_park  mercedes  mclaren        \n",
       "3  1              mclaren               albert_park  mercedes  mclaren        \n",
       "4  1              mclaren               albert_park  mercedes  mclaren        "
      ]
     },
     "execution_count": 9,
     "metadata": {},
     "output_type": "execute_result"
    }
   ],
   "source": [
    "df = lap_speeds[['raceId', 'year', 'driverId', 'lap', 'position', 'km_per_sec', 'km_per_min']].merge(races[['raceId', 'circuitId']], on ='raceId', how='left')\n",
    "df = df.merge(teams[['raceId', 'driverId', 'constructorId', 'constructorRef_mapped']], on=['raceId', 'driverId'], how='left')\n",
    "df = df.merge(circuits[['circuitId', 'circuitRef']], on='circuitId', how='left')\n",
    "df = df.merge(engines[['year', 'engine', 'constructorId', 'constructorRef']], how='left',\n",
    "                        left_on=['constructorId', 'year'], \n",
    "                        right_on=['constructorId', 'year'])\n",
    "df.head()"
   ]
  },
  {
   "cell_type": "code",
   "execution_count": 10,
   "metadata": {},
   "outputs": [
    {
     "data": {
      "text/html": [
       "<div>\n",
       "<style scoped>\n",
       "    .dataframe tbody tr th:only-of-type {\n",
       "        vertical-align: middle;\n",
       "    }\n",
       "\n",
       "    .dataframe tbody tr th {\n",
       "        vertical-align: top;\n",
       "    }\n",
       "\n",
       "    .dataframe thead th {\n",
       "        text-align: right;\n",
       "    }\n",
       "</style>\n",
       "<table border=\"1\" class=\"dataframe\">\n",
       "  <thead>\n",
       "    <tr style=\"text-align: right;\">\n",
       "      <th></th>\n",
       "      <th>year</th>\n",
       "      <th>engine</th>\n",
       "      <th>avg_lap_speed</th>\n",
       "    </tr>\n",
       "  </thead>\n",
       "  <tbody>\n",
       "    <tr>\n",
       "      <th>27</th>\n",
       "      <td>1996</td>\n",
       "      <td>ferrari</td>\n",
       "      <td>3.063188</td>\n",
       "    </tr>\n",
       "    <tr>\n",
       "      <th>28</th>\n",
       "      <td>1997</td>\n",
       "      <td>ferrari</td>\n",
       "      <td>3.162114</td>\n",
       "    </tr>\n",
       "    <tr>\n",
       "      <th>29</th>\n",
       "      <td>1998</td>\n",
       "      <td>ferrari</td>\n",
       "      <td>3.158278</td>\n",
       "    </tr>\n",
       "    <tr>\n",
       "      <th>30</th>\n",
       "      <td>1999</td>\n",
       "      <td>ferrari</td>\n",
       "      <td>3.165294</td>\n",
       "    </tr>\n",
       "    <tr>\n",
       "      <th>31</th>\n",
       "      <td>2000</td>\n",
       "      <td>ferrari</td>\n",
       "      <td>3.184019</td>\n",
       "    </tr>\n",
       "  </tbody>\n",
       "</table>\n",
       "</div>"
      ],
      "text/plain": [
       "    year   engine  avg_lap_speed\n",
       "27  1996  ferrari  3.063188     \n",
       "28  1997  ferrari  3.162114     \n",
       "29  1998  ferrari  3.158278     \n",
       "30  1999  ferrari  3.165294     \n",
       "31  2000  ferrari  3.184019     "
      ]
     },
     "execution_count": 10,
     "metadata": {},
     "output_type": "execute_result"
    }
   ],
   "source": [
    "avg_lap_speed = pd.DataFrame({'avg_lap_speed' : df.groupby(['year', 'engine'])['km_per_min']\n",
    "              .mean()}).sort_values(['engine', 'year']).reset_index()\n",
    "\n",
    "avg_lap_speed = avg_lap_speed.sort_values([\"engine\",\"year\"])\n",
    "avg_lap_speed = avg_lap_speed[['year', 'engine', 'avg_lap_speed']].drop_duplicates()\n",
    "avg_lap_speed_top3 = avg_lap_speed.loc[avg_lap_speed.engine.isin(['mercedes', 'ferrari', 'renault'])]\n",
    "avg_lap_speed_top3.head()"
   ]
  },
  {
   "cell_type": "code",
   "execution_count": 11,
   "metadata": {},
   "outputs": [
    {
     "data": {
      "image/png": "[encoded data removed]",
      "text/plain": [
       "<Figure size 720x360 with 1 Axes>"
      ]
     },
     "metadata": {},
     "output_type": "display_data"
    }
   ],
   "source": [
    "sns.set(rc={'figure.figsize':(10,5)})\n",
    "sns.set(style=\"white\")\n",
    "\n",
    "ax = sns.lineplot(x='year',\n",
    "            y=\"avg_lap_speed\", \n",
    "            data=avg_lap_speed_top3,\n",
    "            hue='engine')\n",
    "    \n",
    "ax.set_title('Average Lap Speed by Engine Manufacturer', fontsize=16, fontweight='bold')\n",
    "ax.set_ylabel('Km/min', fontsize=13, fontweight='bold')\n",
    "plt.xlabel('')\n",
    "\n",
    "for tick in ax.xaxis.get_major_ticks():\n",
    "    tick.label.set_fontsize(15)\n",
    "    tick.label.set_fontweight('bold')\n",
    "\n",
    "for tick in ax.yaxis.get_major_ticks():\n",
    "    tick.label.set_fontsize(15)\n",
    "    tick.label.set_fontweight('bold')\n",
    "\n",
    "handles, labels = ax.get_legend_handles_labels()\n",
    "ax.legend(handles=handles[1:], labels=labels[1:], frameon=False)\n",
    "plt.setp(ax.get_legend().get_texts(), fontsize='13', fontweight='bold') \n",
    "\n",
    "sns.despine(left=True, bottom=True)"
   ]
  },
  {
   "cell_type": "code",
   "execution_count": 12,
   "metadata": {},
   "outputs": [
    {
     "data": {
      "text/html": [
       "<div>\n",
       "<style scoped>\n",
       "    .dataframe tbody tr th:only-of-type {\n",
       "        vertical-align: middle;\n",
       "    }\n",
       "\n",
       "    .dataframe tbody tr th {\n",
       "        vertical-align: top;\n",
       "    }\n",
       "\n",
       "    .dataframe thead th {\n",
       "        text-align: right;\n",
       "    }\n",
       "</style>\n",
       "<table border=\"1\" class=\"dataframe\">\n",
       "  <thead>\n",
       "    <tr style=\"text-align: right;\">\n",
       "      <th></th>\n",
       "      <th>engine</th>\n",
       "      <th>year</th>\n",
       "      <th>engine_point_sum</th>\n",
       "      <th>engine_count</th>\n",
       "      <th>point_avg</th>\n",
       "    </tr>\n",
       "  </thead>\n",
       "  <tbody>\n",
       "    <tr>\n",
       "      <th>0</th>\n",
       "      <td>ferrari</td>\n",
       "      <td>1996.0</td>\n",
       "      <td>232.0</td>\n",
       "      <td>32</td>\n",
       "      <td>7.250000</td>\n",
       "    </tr>\n",
       "    <tr>\n",
       "      <th>1</th>\n",
       "      <td>ferrari</td>\n",
       "      <td>1997.0</td>\n",
       "      <td>324.0</td>\n",
       "      <td>34</td>\n",
       "      <td>9.529412</td>\n",
       "    </tr>\n",
       "    <tr>\n",
       "      <th>2</th>\n",
       "      <td>ferrari</td>\n",
       "      <td>1998.0</td>\n",
       "      <td>416.0</td>\n",
       "      <td>32</td>\n",
       "      <td>13.000000</td>\n",
       "    </tr>\n",
       "    <tr>\n",
       "      <th>3</th>\n",
       "      <td>ferrari</td>\n",
       "      <td>1999.0</td>\n",
       "      <td>411.0</td>\n",
       "      <td>32</td>\n",
       "      <td>12.843750</td>\n",
       "    </tr>\n",
       "    <tr>\n",
       "      <th>4</th>\n",
       "      <td>ferrari</td>\n",
       "      <td>2000.0</td>\n",
       "      <td>491.0</td>\n",
       "      <td>34</td>\n",
       "      <td>14.441176</td>\n",
       "    </tr>\n",
       "    <tr>\n",
       "      <th>5</th>\n",
       "      <td>ferrari</td>\n",
       "      <td>2001.0</td>\n",
       "      <td>522.0</td>\n",
       "      <td>34</td>\n",
       "      <td>15.352941</td>\n",
       "    </tr>\n",
       "    <tr>\n",
       "      <th>6</th>\n",
       "      <td>ferrari</td>\n",
       "      <td>2002.0</td>\n",
       "      <td>603.0</td>\n",
       "      <td>34</td>\n",
       "      <td>17.735294</td>\n",
       "    </tr>\n",
       "    <tr>\n",
       "      <th>7</th>\n",
       "      <td>ferrari</td>\n",
       "      <td>2003.0</td>\n",
       "      <td>399.0</td>\n",
       "      <td>32</td>\n",
       "      <td>12.468750</td>\n",
       "    </tr>\n",
       "    <tr>\n",
       "      <th>8</th>\n",
       "      <td>ferrari</td>\n",
       "      <td>2004.0</td>\n",
       "      <td>638.0</td>\n",
       "      <td>36</td>\n",
       "      <td>17.722222</td>\n",
       "    </tr>\n",
       "    <tr>\n",
       "      <th>9</th>\n",
       "      <td>ferrari</td>\n",
       "      <td>2005.0</td>\n",
       "      <td>256.0</td>\n",
       "      <td>38</td>\n",
       "      <td>6.736842</td>\n",
       "    </tr>\n",
       "    <tr>\n",
       "      <th>10</th>\n",
       "      <td>ferrari</td>\n",
       "      <td>2006.0</td>\n",
       "      <td>548.0</td>\n",
       "      <td>72</td>\n",
       "      <td>7.611111</td>\n",
       "    </tr>\n",
       "    <tr>\n",
       "      <th>11</th>\n",
       "      <td>ferrari</td>\n",
       "      <td>2007.0</td>\n",
       "      <td>528.0</td>\n",
       "      <td>102</td>\n",
       "      <td>5.176471</td>\n",
       "    </tr>\n",
       "    <tr>\n",
       "      <th>12</th>\n",
       "      <td>ferrari</td>\n",
       "      <td>2008.0</td>\n",
       "      <td>537.0</td>\n",
       "      <td>108</td>\n",
       "      <td>4.972222</td>\n",
       "    </tr>\n",
       "    <tr>\n",
       "      <th>13</th>\n",
       "      <td>ferrari</td>\n",
       "      <td>2009.0</td>\n",
       "      <td>212.0</td>\n",
       "      <td>68</td>\n",
       "      <td>3.117647</td>\n",
       "    </tr>\n",
       "    <tr>\n",
       "      <th>14</th>\n",
       "      <td>ferrari</td>\n",
       "      <td>2010.0</td>\n",
       "      <td>409.0</td>\n",
       "      <td>76</td>\n",
       "      <td>5.381579</td>\n",
       "    </tr>\n",
       "    <tr>\n",
       "      <th>15</th>\n",
       "      <td>ferrari</td>\n",
       "      <td>2011.0</td>\n",
       "      <td>460.0</td>\n",
       "      <td>114</td>\n",
       "      <td>4.035088</td>\n",
       "    </tr>\n",
       "    <tr>\n",
       "      <th>16</th>\n",
       "      <td>ferrari</td>\n",
       "      <td>2012.0</td>\n",
       "      <td>552.0</td>\n",
       "      <td>120</td>\n",
       "      <td>4.600000</td>\n",
       "    </tr>\n",
       "    <tr>\n",
       "      <th>17</th>\n",
       "      <td>ferrari</td>\n",
       "      <td>2013.0</td>\n",
       "      <td>444.0</td>\n",
       "      <td>114</td>\n",
       "      <td>3.894737</td>\n",
       "    </tr>\n",
       "    <tr>\n",
       "      <th>18</th>\n",
       "      <td>ferrari</td>\n",
       "      <td>2014.0</td>\n",
       "      <td>215.0</td>\n",
       "      <td>107</td>\n",
       "      <td>2.009346</td>\n",
       "    </tr>\n",
       "    <tr>\n",
       "      <th>19</th>\n",
       "      <td>ferrari</td>\n",
       "      <td>2015.0</td>\n",
       "      <td>464.0</td>\n",
       "      <td>76</td>\n",
       "      <td>6.105263</td>\n",
       "    </tr>\n",
       "    <tr>\n",
       "      <th>20</th>\n",
       "      <td>ferrari</td>\n",
       "      <td>2016.0</td>\n",
       "      <td>492.0</td>\n",
       "      <td>168</td>\n",
       "      <td>2.928571</td>\n",
       "    </tr>\n",
       "    <tr>\n",
       "      <th>21</th>\n",
       "      <td>ferrari</td>\n",
       "      <td>2017.0</td>\n",
       "      <td>574.0</td>\n",
       "      <td>120</td>\n",
       "      <td>4.783333</td>\n",
       "    </tr>\n",
       "    <tr>\n",
       "      <th>22</th>\n",
       "      <td>ferrari</td>\n",
       "      <td>2018.0</td>\n",
       "      <td>712.0</td>\n",
       "      <td>126</td>\n",
       "      <td>5.650794</td>\n",
       "    </tr>\n",
       "    <tr>\n",
       "      <th>23</th>\n",
       "      <td>ferrari</td>\n",
       "      <td>2019.0</td>\n",
       "      <td>583.0</td>\n",
       "      <td>126</td>\n",
       "      <td>4.626984</td>\n",
       "    </tr>\n",
       "    <tr>\n",
       "      <th>24</th>\n",
       "      <td>ferrari</td>\n",
       "      <td>2020.0</td>\n",
       "      <td>142.0</td>\n",
       "      <td>102</td>\n",
       "      <td>1.392157</td>\n",
       "    </tr>\n",
       "    <tr>\n",
       "      <th>25</th>\n",
       "      <td>mercedes</td>\n",
       "      <td>1996.0</td>\n",
       "      <td>223.0</td>\n",
       "      <td>32</td>\n",
       "      <td>6.968750</td>\n",
       "    </tr>\n",
       "    <tr>\n",
       "      <th>26</th>\n",
       "      <td>mercedes</td>\n",
       "      <td>1997.0</td>\n",
       "      <td>225.0</td>\n",
       "      <td>34</td>\n",
       "      <td>6.617647</td>\n",
       "    </tr>\n",
       "    <tr>\n",
       "      <th>27</th>\n",
       "      <td>mercedes</td>\n",
       "      <td>1998.0</td>\n",
       "      <td>456.0</td>\n",
       "      <td>32</td>\n",
       "      <td>14.250000</td>\n",
       "    </tr>\n",
       "    <tr>\n",
       "      <th>28</th>\n",
       "      <td>mercedes</td>\n",
       "      <td>1999.0</td>\n",
       "      <td>364.0</td>\n",
       "      <td>32</td>\n",
       "      <td>11.375000</td>\n",
       "    </tr>\n",
       "    <tr>\n",
       "      <th>29</th>\n",
       "      <td>mercedes</td>\n",
       "      <td>2000.0</td>\n",
       "      <td>490.0</td>\n",
       "      <td>34</td>\n",
       "      <td>14.411765</td>\n",
       "    </tr>\n",
       "    <tr>\n",
       "      <th>30</th>\n",
       "      <td>mercedes</td>\n",
       "      <td>2001.0</td>\n",
       "      <td>340.0</td>\n",
       "      <td>34</td>\n",
       "      <td>10.000000</td>\n",
       "    </tr>\n",
       "    <tr>\n",
       "      <th>31</th>\n",
       "      <td>mercedes</td>\n",
       "      <td>2002.0</td>\n",
       "      <td>247.0</td>\n",
       "      <td>34</td>\n",
       "      <td>7.264706</td>\n",
       "    </tr>\n",
       "    <tr>\n",
       "      <th>32</th>\n",
       "      <td>mercedes</td>\n",
       "      <td>2003.0</td>\n",
       "      <td>339.0</td>\n",
       "      <td>32</td>\n",
       "      <td>10.593750</td>\n",
       "    </tr>\n",
       "    <tr>\n",
       "      <th>33</th>\n",
       "      <td>mercedes</td>\n",
       "      <td>2004.0</td>\n",
       "      <td>183.0</td>\n",
       "      <td>36</td>\n",
       "      <td>5.083333</td>\n",
       "    </tr>\n",
       "    <tr>\n",
       "      <th>34</th>\n",
       "      <td>mercedes</td>\n",
       "      <td>2005.0</td>\n",
       "      <td>456.0</td>\n",
       "      <td>38</td>\n",
       "      <td>12.000000</td>\n",
       "    </tr>\n",
       "    <tr>\n",
       "      <th>35</th>\n",
       "      <td>mercedes</td>\n",
       "      <td>2006.0</td>\n",
       "      <td>269.0</td>\n",
       "      <td>36</td>\n",
       "      <td>7.472222</td>\n",
       "    </tr>\n",
       "    <tr>\n",
       "      <th>36</th>\n",
       "      <td>mercedes</td>\n",
       "      <td>2007.0</td>\n",
       "      <td>531.0</td>\n",
       "      <td>34</td>\n",
       "      <td>15.617647</td>\n",
       "    </tr>\n",
       "    <tr>\n",
       "      <th>37</th>\n",
       "      <td>mercedes</td>\n",
       "      <td>2008.0</td>\n",
       "      <td>379.0</td>\n",
       "      <td>36</td>\n",
       "      <td>10.527778</td>\n",
       "    </tr>\n",
       "    <tr>\n",
       "      <th>38</th>\n",
       "      <td>mercedes</td>\n",
       "      <td>2009.0</td>\n",
       "      <td>670.0</td>\n",
       "      <td>102</td>\n",
       "      <td>6.568627</td>\n",
       "    </tr>\n",
       "    <tr>\n",
       "      <th>39</th>\n",
       "      <td>mercedes</td>\n",
       "      <td>2010.0</td>\n",
       "      <td>736.0</td>\n",
       "      <td>114</td>\n",
       "      <td>6.456140</td>\n",
       "    </tr>\n",
       "    <tr>\n",
       "      <th>40</th>\n",
       "      <td>mercedes</td>\n",
       "      <td>2011.0</td>\n",
       "      <td>731.0</td>\n",
       "      <td>114</td>\n",
       "      <td>6.412281</td>\n",
       "    </tr>\n",
       "    <tr>\n",
       "      <th>41</th>\n",
       "      <td>mercedes</td>\n",
       "      <td>2012.0</td>\n",
       "      <td>629.0</td>\n",
       "      <td>120</td>\n",
       "      <td>5.241667</td>\n",
       "    </tr>\n",
       "    <tr>\n",
       "      <th>42</th>\n",
       "      <td>mercedes</td>\n",
       "      <td>2013.0</td>\n",
       "      <td>559.0</td>\n",
       "      <td>114</td>\n",
       "      <td>4.903509</td>\n",
       "    </tr>\n",
       "    <tr>\n",
       "      <th>43</th>\n",
       "      <td>mercedes</td>\n",
       "      <td>2014.0</td>\n",
       "      <td>1134.0</td>\n",
       "      <td>114</td>\n",
       "      <td>9.947368</td>\n",
       "    </tr>\n",
       "    <tr>\n",
       "      <th>44</th>\n",
       "      <td>mercedes</td>\n",
       "      <td>2015.0</td>\n",
       "      <td>1096.0</td>\n",
       "      <td>114</td>\n",
       "      <td>9.614035</td>\n",
       "    </tr>\n",
       "    <tr>\n",
       "      <th>45</th>\n",
       "      <td>mercedes</td>\n",
       "      <td>2016.0</td>\n",
       "      <td>1077.0</td>\n",
       "      <td>168</td>\n",
       "      <td>6.410714</td>\n",
       "    </tr>\n",
       "    <tr>\n",
       "      <th>46</th>\n",
       "      <td>mercedes</td>\n",
       "      <td>2017.0</td>\n",
       "      <td>938.0</td>\n",
       "      <td>120</td>\n",
       "      <td>7.816667</td>\n",
       "    </tr>\n",
       "    <tr>\n",
       "      <th>47</th>\n",
       "      <td>mercedes</td>\n",
       "      <td>2018.0</td>\n",
       "      <td>773.0</td>\n",
       "      <td>126</td>\n",
       "      <td>6.134921</td>\n",
       "    </tr>\n",
       "    <tr>\n",
       "      <th>48</th>\n",
       "      <td>mercedes</td>\n",
       "      <td>2019.0</td>\n",
       "      <td>805.0</td>\n",
       "      <td>126</td>\n",
       "      <td>6.388889</td>\n",
       "    </tr>\n",
       "    <tr>\n",
       "      <th>49</th>\n",
       "      <td>mercedes</td>\n",
       "      <td>2020.0</td>\n",
       "      <td>774.0</td>\n",
       "      <td>102</td>\n",
       "      <td>7.588235</td>\n",
       "    </tr>\n",
       "    <tr>\n",
       "      <th>50</th>\n",
       "      <td>renault</td>\n",
       "      <td>1996.0</td>\n",
       "      <td>743.0</td>\n",
       "      <td>64</td>\n",
       "      <td>11.609375</td>\n",
       "    </tr>\n",
       "    <tr>\n",
       "      <th>51</th>\n",
       "      <td>renault</td>\n",
       "      <td>1997.0</td>\n",
       "      <td>644.0</td>\n",
       "      <td>68</td>\n",
       "      <td>9.470588</td>\n",
       "    </tr>\n",
       "    <tr>\n",
       "      <th>52</th>\n",
       "      <td>renault</td>\n",
       "      <td>2001.0</td>\n",
       "      <td>65.0</td>\n",
       "      <td>34</td>\n",
       "      <td>1.911765</td>\n",
       "    </tr>\n",
       "    <tr>\n",
       "      <th>53</th>\n",
       "      <td>renault</td>\n",
       "      <td>2002.0</td>\n",
       "      <td>133.0</td>\n",
       "      <td>34</td>\n",
       "      <td>3.911765</td>\n",
       "    </tr>\n",
       "    <tr>\n",
       "      <th>54</th>\n",
       "      <td>renault</td>\n",
       "      <td>2003.0</td>\n",
       "      <td>224.0</td>\n",
       "      <td>32</td>\n",
       "      <td>7.000000</td>\n",
       "    </tr>\n",
       "    <tr>\n",
       "      <th>55</th>\n",
       "      <td>renault</td>\n",
       "      <td>2004.0</td>\n",
       "      <td>265.0</td>\n",
       "      <td>36</td>\n",
       "      <td>7.361111</td>\n",
       "    </tr>\n",
       "    <tr>\n",
       "      <th>56</th>\n",
       "      <td>renault</td>\n",
       "      <td>2005.0</td>\n",
       "      <td>467.0</td>\n",
       "      <td>38</td>\n",
       "      <td>12.289474</td>\n",
       "    </tr>\n",
       "    <tr>\n",
       "      <th>57</th>\n",
       "      <td>renault</td>\n",
       "      <td>2006.0</td>\n",
       "      <td>504.0</td>\n",
       "      <td>36</td>\n",
       "      <td>14.000000</td>\n",
       "    </tr>\n",
       "    <tr>\n",
       "      <th>58</th>\n",
       "      <td>renault</td>\n",
       "      <td>2007.0</td>\n",
       "      <td>224.0</td>\n",
       "      <td>68</td>\n",
       "      <td>3.294118</td>\n",
       "    </tr>\n",
       "    <tr>\n",
       "      <th>59</th>\n",
       "      <td>renault</td>\n",
       "      <td>2008.0</td>\n",
       "      <td>296.0</td>\n",
       "      <td>72</td>\n",
       "      <td>4.111111</td>\n",
       "    </tr>\n",
       "    <tr>\n",
       "      <th>60</th>\n",
       "      <td>renault</td>\n",
       "      <td>2009.0</td>\n",
       "      <td>454.0</td>\n",
       "      <td>68</td>\n",
       "      <td>6.676471</td>\n",
       "    </tr>\n",
       "    <tr>\n",
       "      <th>61</th>\n",
       "      <td>renault</td>\n",
       "      <td>2010.0</td>\n",
       "      <td>661.0</td>\n",
       "      <td>76</td>\n",
       "      <td>8.697368</td>\n",
       "    </tr>\n",
       "    <tr>\n",
       "      <th>62</th>\n",
       "      <td>renault</td>\n",
       "      <td>2011.0</td>\n",
       "      <td>723.0</td>\n",
       "      <td>114</td>\n",
       "      <td>6.342105</td>\n",
       "    </tr>\n",
       "    <tr>\n",
       "      <th>63</th>\n",
       "      <td>renault</td>\n",
       "      <td>2012.0</td>\n",
       "      <td>536.0</td>\n",
       "      <td>120</td>\n",
       "      <td>4.466667</td>\n",
       "    </tr>\n",
       "    <tr>\n",
       "      <th>64</th>\n",
       "      <td>renault</td>\n",
       "      <td>2013.0</td>\n",
       "      <td>601.0</td>\n",
       "      <td>114</td>\n",
       "      <td>5.271930</td>\n",
       "    </tr>\n",
       "    <tr>\n",
       "      <th>65</th>\n",
       "      <td>renault</td>\n",
       "      <td>2014.0</td>\n",
       "      <td>419.0</td>\n",
       "      <td>110</td>\n",
       "      <td>3.809091</td>\n",
       "    </tr>\n",
       "    <tr>\n",
       "      <th>66</th>\n",
       "      <td>renault</td>\n",
       "      <td>2015.0</td>\n",
       "      <td>254.0</td>\n",
       "      <td>76</td>\n",
       "      <td>3.342105</td>\n",
       "    </tr>\n",
       "    <tr>\n",
       "      <th>67</th>\n",
       "      <td>renault</td>\n",
       "      <td>2016.0</td>\n",
       "      <td>8.0</td>\n",
       "      <td>42</td>\n",
       "      <td>0.190476</td>\n",
       "    </tr>\n",
       "    <tr>\n",
       "      <th>68</th>\n",
       "      <td>renault</td>\n",
       "      <td>2017.0</td>\n",
       "      <td>110.0</td>\n",
       "      <td>80</td>\n",
       "      <td>1.375000</td>\n",
       "    </tr>\n",
       "    <tr>\n",
       "      <th>69</th>\n",
       "      <td>renault</td>\n",
       "      <td>2018.0</td>\n",
       "      <td>184.0</td>\n",
       "      <td>84</td>\n",
       "      <td>2.190476</td>\n",
       "    </tr>\n",
       "    <tr>\n",
       "      <th>70</th>\n",
       "      <td>renault</td>\n",
       "      <td>2019.0</td>\n",
       "      <td>236.0</td>\n",
       "      <td>84</td>\n",
       "      <td>2.809524</td>\n",
       "    </tr>\n",
       "    <tr>\n",
       "      <th>71</th>\n",
       "      <td>renault</td>\n",
       "      <td>2020.0</td>\n",
       "      <td>378.0</td>\n",
       "      <td>68</td>\n",
       "      <td>5.558824</td>\n",
       "    </tr>\n",
       "  </tbody>\n",
       "</table>\n",
       "</div>"
      ],
      "text/plain": [
       "      engine    year  engine_point_sum  engine_count  point_avg\n",
       "0   ferrari   1996.0  232.0             32            7.250000 \n",
       "1   ferrari   1997.0  324.0             34            9.529412 \n",
       "2   ferrari   1998.0  416.0             32            13.000000\n",
       "3   ferrari   1999.0  411.0             32            12.843750\n",
       "4   ferrari   2000.0  491.0             34            14.441176\n",
       "5   ferrari   2001.0  522.0             34            15.352941\n",
       "6   ferrari   2002.0  603.0             34            17.735294\n",
       "7   ferrari   2003.0  399.0             32            12.468750\n",
       "8   ferrari   2004.0  638.0             36            17.722222\n",
       "9   ferrari   2005.0  256.0             38            6.736842 \n",
       "10  ferrari   2006.0  548.0             72            7.611111 \n",
       "11  ferrari   2007.0  528.0             102           5.176471 \n",
       "12  ferrari   2008.0  537.0             108           4.972222 \n",
       "13  ferrari   2009.0  212.0             68            3.117647 \n",
       "14  ferrari   2010.0  409.0             76            5.381579 \n",
       "15  ferrari   2011.0  460.0             114           4.035088 \n",
       "16  ferrari   2012.0  552.0             120           4.600000 \n",
       "17  ferrari   2013.0  444.0             114           3.894737 \n",
       "18  ferrari   2014.0  215.0             107           2.009346 \n",
       "19  ferrari   2015.0  464.0             76            6.105263 \n",
       "20  ferrari   2016.0  492.0             168           2.928571 \n",
       "21  ferrari   2017.0  574.0             120           4.783333 \n",
       "22  ferrari   2018.0  712.0             126           5.650794 \n",
       "23  ferrari   2019.0  583.0             126           4.626984 \n",
       "24  ferrari   2020.0  142.0             102           1.392157 \n",
       "25  mercedes  1996.0  223.0             32            6.968750 \n",
       "26  mercedes  1997.0  225.0             34            6.617647 \n",
       "27  mercedes  1998.0  456.0             32            14.250000\n",
       "28  mercedes  1999.0  364.0             32            11.375000\n",
       "29  mercedes  2000.0  490.0             34            14.411765\n",
       "30  mercedes  2001.0  340.0             34            10.000000\n",
       "31  mercedes  2002.0  247.0             34            7.264706 \n",
       "32  mercedes  2003.0  339.0             32            10.593750\n",
       "33  mercedes  2004.0  183.0             36            5.083333 \n",
       "34  mercedes  2005.0  456.0             38            12.000000\n",
       "35  mercedes  2006.0  269.0             36            7.472222 \n",
       "36  mercedes  2007.0  531.0             34            15.617647\n",
       "37  mercedes  2008.0  379.0             36            10.527778\n",
       "38  mercedes  2009.0  670.0             102           6.568627 \n",
       "39  mercedes  2010.0  736.0             114           6.456140 \n",
       "40  mercedes  2011.0  731.0             114           6.412281 \n",
       "41  mercedes  2012.0  629.0             120           5.241667 \n",
       "42  mercedes  2013.0  559.0             114           4.903509 \n",
       "43  mercedes  2014.0  1134.0            114           9.947368 \n",
       "44  mercedes  2015.0  1096.0            114           9.614035 \n",
       "45  mercedes  2016.0  1077.0            168           6.410714 \n",
       "46  mercedes  2017.0  938.0             120           7.816667 \n",
       "47  mercedes  2018.0  773.0             126           6.134921 \n",
       "48  mercedes  2019.0  805.0             126           6.388889 \n",
       "49  mercedes  2020.0  774.0             102           7.588235 \n",
       "50  renault   1996.0  743.0             64            11.609375\n",
       "51  renault   1997.0  644.0             68            9.470588 \n",
       "52  renault   2001.0  65.0              34            1.911765 \n",
       "53  renault   2002.0  133.0             34            3.911765 \n",
       "54  renault   2003.0  224.0             32            7.000000 \n",
       "55  renault   2004.0  265.0             36            7.361111 \n",
       "56  renault   2005.0  467.0             38            12.289474\n",
       "57  renault   2006.0  504.0             36            14.000000\n",
       "58  renault   2007.0  224.0             68            3.294118 \n",
       "59  renault   2008.0  296.0             72            4.111111 \n",
       "60  renault   2009.0  454.0             68            6.676471 \n",
       "61  renault   2010.0  661.0             76            8.697368 \n",
       "62  renault   2011.0  723.0             114           6.342105 \n",
       "63  renault   2012.0  536.0             120           4.466667 \n",
       "64  renault   2013.0  601.0             114           5.271930 \n",
       "65  renault   2014.0  419.0             110           3.809091 \n",
       "66  renault   2015.0  254.0             76            3.342105 \n",
       "67  renault   2016.0  8.0               42            0.190476 \n",
       "68  renault   2017.0  110.0             80            1.375000 \n",
       "69  renault   2018.0  184.0             84            2.190476 \n",
       "70  renault   2019.0  236.0             84            2.809524 \n",
       "71  renault   2020.0  378.0             68            5.558824 "
      ]
     },
     "execution_count": 12,
     "metadata": {},
     "output_type": "execute_result"
    }
   ],
   "source": [
    "points = results[['raceId', 'constructorId', 'point_map']].copy()\n",
    "points = points.merge(races.loc[races.year > 1995, ['raceId', 'year']], on='raceId', how='left')\n",
    "points = points.merge(constructors[['constructorId', 'constructorRef_mapped']], on ='constructorId', how='left')\n",
    "points = points.merge(engines[['year', 'engine', 'constructorId']], how='left',\n",
    "                        left_on=['constructorId', 'year'], \n",
    "                        right_on=['constructorId', 'year'])\n",
    "\n",
    "engine_points = pd.DataFrame({'engine_point_sum' : points.groupby(['engine', 'year'])['point_map'].sum()}).reset_index()\n",
    "engine_points_top3 = engine_points.loc[engine_points.engine.isin(['mercedes', 'ferrari', 'renault'])]\n",
    "engine_points_top3 = engine_points_top3.merge(engine_count, on =['year', 'engine'], how='left')\n",
    "engine_points_top3[\"point_avg\"] = engine_points_top3[\"engine_point_sum\"]/engine_points_top3[\"engine_count\"]\n",
    "engine_points_top3"
   ]
  },
  {
   "cell_type": "code",
   "execution_count": 13,
   "metadata": {},
   "outputs": [
    {
     "data": {
      "image/png": "[encoded data removed]",
      "text/plain": [
       "<Figure size 720x360 with 1 Axes>"
      ]
     },
     "metadata": {},
     "output_type": "display_data"
    }
   ],
   "source": [
    "sns.set(rc={'figure.figsize':(10,5)})\n",
    "sns.set(style=\"white\")\n",
    "\n",
    "ax = sns.lineplot(x='year',\n",
    "            y=\"engine_point_sum\", \n",
    "            data=engine_points_top3,\n",
    "            style='engine')\n",
    "    \n",
    "ax.set_title('Points by Engine Manufacturer', fontsize=16, fontweight='bold')\n",
    "ax.set_ylabel('Points', fontsize=13, fontweight='bold')\n",
    "plt.xlabel('')\n",
    "\n",
    "for tick in ax.xaxis.get_major_ticks():\n",
    "    tick.label.set_fontsize(15)\n",
    "    tick.label.set_fontweight('bold')\n",
    "\n",
    "for tick in ax.yaxis.get_major_ticks():\n",
    "    tick.label.set_fontsize(15)\n",
    "    tick.label.set_fontweight('bold')\n",
    "\n",
    "handles, labels = ax.get_legend_handles_labels()\n",
    "ax.legend(handles=handles[1:], labels=labels[1:], frameon=False)\n",
    "plt.setp(ax.get_legend().get_texts(), fontsize='13', fontweight='bold') \n",
    "\n",
    "sns.despine(left=True, bottom=True)"
   ]
  },
  {
   "cell_type": "code",
   "execution_count": 14,
   "metadata": {},
   "outputs": [
    {
     "data": {
      "image/png": "[encoded data removed]",
      "text/plain": [
       "<Figure size 720x360 with 1 Axes>"
      ]
     },
     "metadata": {},
     "output_type": "display_data"
    }
   ],
   "source": [
    "sns.set(rc={'figure.figsize':(10,5)})\n",
    "sns.set(style=\"white\")\n",
    "\n",
    "ax = sns.lineplot(x='year',\n",
    "            y=\"point_avg\", \n",
    "            data=engine_points_top3,\n",
    "            hue='engine')\n",
    "    \n",
    "ax.set_title('Points per Engine on Grid', fontsize=16, fontweight='bold')\n",
    "ax.set_ylabel('Points', fontsize=13, fontweight='bold')\n",
    "plt.xlabel('')\n",
    "\n",
    "for tick in ax.xaxis.get_major_ticks():\n",
    "    tick.label.set_fontsize(15)\n",
    "    tick.label.set_fontweight('bold')\n",
    "\n",
    "for tick in ax.yaxis.get_major_ticks():\n",
    "    tick.label.set_fontsize(15)\n",
    "    tick.label.set_fontweight('bold')\n",
    "\n",
    "handles, labels = ax.get_legend_handles_labels()\n",
    "ax.legend(handles=handles[1:], labels=labels[1:], frameon=False)\n",
    "plt.setp(ax.get_legend().get_texts(), fontsize='13', fontweight='bold') \n",
    "\n",
    "sns.despine(left=True, bottom=True)"
   ]
  },
  {
   "cell_type": "code",
   "execution_count": 27,
   "metadata": {},
   "outputs": [
    {
     "data": {
      "image/png": "[encoded data removed]",
      "text/plain": [
       "<Figure size 720x576 with 1 Axes>"
      ]
     },
     "metadata": {},
     "output_type": "display_data"
    }
   ],
   "source": [
    "circuit_results = results.merge(races[['raceId', 'year', 'circuitId']], how='left', on ='raceId')\n",
    "circuit_results = circuit_results.merge(circuits[['circuitId', 'name']], how='left', on ='circuitId')\n",
    "\n",
    "circuit_results = circuit_results[['raceId', 'constructorId', 'point_map', 'name']].copy()\n",
    "circuit_results = circuit_results.merge(races.loc[races.year > 1995, ['raceId', 'year']], on='raceId', how='left')\n",
    "circuit_results = circuit_results.merge(constructors[['constructorId', 'constructorRef_mapped']], on ='constructorId', how='left')\n",
    "circuit_results = circuit_results.merge(engines[['year', 'engine', 'constructorId']], how='left',\n",
    "                        left_on=['constructorId', 'year'], \n",
    "                        right_on=['constructorId', 'year'])\n",
    "\n",
    "circuit_count = pd.DataFrame({'circuit_count' : circuit_results[circuit_results.year > 1995].groupby(['name', 'engine'])['raceId'].nunique()}).reset_index()\n",
    "circuit_count = circuit_count.sort_values(['engine', 'circuit_count'])\n",
    "\n",
    "circuit_results_winners = circuit_results[(circuit_results.point_map == 25) & (circuit_results.year > 1995)].copy()\n",
    "circuit_results_winners = pd.DataFrame({'circuit_win_count' : circuit_results_winners.groupby(['name', 'engine'])['raceId'].count()}).reset_index()\n",
    "\n",
    "circuit_results_winners.sort_values(['name', 'circuit_win_count'])\n",
    "\n",
    "circuit_props = circuit_results_winners.merge(circuit_count)\n",
    "circuit_props['prop_wins'] = (circuit_props['circuit_win_count']*100/circuit_props['circuit_count']).round()\n",
    "circuit_props[circuit_props.circuit_count >19].sort_values(['name', 'prop_wins'])\n",
    "\n",
    "circuit_results_winners_piv = pd.pivot_table(circuit_props[circuit_props.circuit_count >19], values=\"circuit_win_count\", index=\"name\", columns=\"engine\")\n",
    "circuit_results_winners_piv.fillna(0, inplace=True)\n",
    "circuit_results_winners_piv = circuit_results_winners_piv[[\"mercedes\", \"ferrari\", \"renault\"]]\n",
    "\n",
    "sns.set(rc={'figure.figsize':(10,8)})\n",
    "sns.set(style=\"white\")\n",
    "\n",
    "ax = circuit_results_winners_piv.plot.barh(stacked=True, color=['steelblue', 'lightskyblue', 'powderblue'])\n",
    "\n",
    "ax.set_title('Figure 3: Circuit Wins by Engine Manufacturer', fontsize=16, fontweight='bold')\n",
    "ax.set_xlabel('Win Count', fontsize=13, fontweight='bold')\n",
    "plt.ylabel('')\n",
    "\n",
    "for tick in ax.xaxis.get_major_ticks():\n",
    "    tick.label.set_fontsize(15)\n",
    "    tick.label.set_fontweight('bold')\n",
    "\n",
    "for tick in ax.yaxis.get_major_ticks():\n",
    "    tick.label.set_fontsize(15)\n",
    "    tick.label.set_fontweight('bold')\n",
    "\n",
    "handles, labels = ax.get_legend_handles_labels()\n",
    "ax.legend(frameon=False)\n",
    "plt.setp(ax.get_legend().get_texts(), fontsize='13', fontweight='bold') \n",
    "\n",
    "sns.despine(left=True, bottom=True)\n",
    "\n"
   ]
  },
  {
   "cell_type": "markdown",
   "metadata": {},
   "source": [
    "### Focus on top 3 engines"
   ]
  },
  {
   "cell_type": "code",
   "execution_count": 18,
   "metadata": {},
   "outputs": [],
   "source": [
    "top3 = winners.loc[winners.engine.isin(['mercedes', 'ferrari', 'renault'])]\n",
    "top3_exp = expected_vals.loc[expected_vals.engine.isin(['mercedes', 'ferrari', 'renault'])]\n",
    "\n",
    "top3_win_count = pd.DataFrame({'engine_win_count' : top3.groupby(['engine', 'year'])['raceId'].count()}).reset_index()\\\n",
    "\n",
    "top3_piv = pd.pivot_table(top3_win_count, values=\"engine_win_count\", index=\"year\", columns=\"engine\")\n",
    "top3_exp_piv = pd.pivot_table(top3_exp, values=\"expected wins\", index=\"year\", columns=\"engine\")\n",
    "\n",
    "top3_piv.fillna(0, inplace=True)\n",
    "top3_exp_piv.fillna(0, inplace=True)\n",
    "\n",
    "top3 = top3_piv.stack().reset_index(name='engine_win_count')\n",
    "top3_exp = top3_exp_piv.stack().reset_index(name='expected wins')"
   ]
  },
  {
   "cell_type": "code",
   "execution_count": 19,
   "metadata": {},
   "outputs": [
    {
     "data": {
      "text/html": [
       "<div>\n",
       "<style scoped>\n",
       "    .dataframe tbody tr th:only-of-type {\n",
       "        vertical-align: middle;\n",
       "    }\n",
       "\n",
       "    .dataframe tbody tr th {\n",
       "        vertical-align: top;\n",
       "    }\n",
       "\n",
       "    .dataframe thead th {\n",
       "        text-align: right;\n",
       "    }\n",
       "</style>\n",
       "<table border=\"1\" class=\"dataframe\">\n",
       "  <thead>\n",
       "    <tr style=\"text-align: right;\">\n",
       "      <th></th>\n",
       "      <th>year</th>\n",
       "      <th>engine</th>\n",
       "      <th>engine_win_count</th>\n",
       "    </tr>\n",
       "  </thead>\n",
       "  <tbody>\n",
       "    <tr>\n",
       "      <th>0</th>\n",
       "      <td>1996.0</td>\n",
       "      <td>ferrari</td>\n",
       "      <td>3.0</td>\n",
       "    </tr>\n",
       "    <tr>\n",
       "      <th>1</th>\n",
       "      <td>1996.0</td>\n",
       "      <td>mercedes</td>\n",
       "      <td>0.0</td>\n",
       "    </tr>\n",
       "    <tr>\n",
       "      <th>2</th>\n",
       "      <td>1996.0</td>\n",
       "      <td>renault</td>\n",
       "      <td>12.0</td>\n",
       "    </tr>\n",
       "    <tr>\n",
       "      <th>3</th>\n",
       "      <td>1997.0</td>\n",
       "      <td>ferrari</td>\n",
       "      <td>5.0</td>\n",
       "    </tr>\n",
       "    <tr>\n",
       "      <th>4</th>\n",
       "      <td>1997.0</td>\n",
       "      <td>mercedes</td>\n",
       "      <td>3.0</td>\n",
       "    </tr>\n",
       "  </tbody>\n",
       "</table>\n",
       "</div>"
      ],
      "text/plain": [
       "     year    engine  engine_win_count\n",
       "0  1996.0  ferrari   3.0             \n",
       "1  1996.0  mercedes  0.0             \n",
       "2  1996.0  renault   12.0            \n",
       "3  1997.0  ferrari   5.0             \n",
       "4  1997.0  mercedes  3.0             "
      ]
     },
     "execution_count": 19,
     "metadata": {},
     "output_type": "execute_result"
    }
   ],
   "source": [
    "top3.head()"
   ]
  },
  {
   "cell_type": "code",
   "execution_count": 20,
   "metadata": {},
   "outputs": [
    {
     "data": {
      "text/html": [
       "<div>\n",
       "<style scoped>\n",
       "    .dataframe tbody tr th:only-of-type {\n",
       "        vertical-align: middle;\n",
       "    }\n",
       "\n",
       "    .dataframe tbody tr th {\n",
       "        vertical-align: top;\n",
       "    }\n",
       "\n",
       "    .dataframe thead th {\n",
       "        text-align: right;\n",
       "    }\n",
       "</style>\n",
       "<table border=\"1\" class=\"dataframe\">\n",
       "  <thead>\n",
       "    <tr style=\"text-align: right;\">\n",
       "      <th></th>\n",
       "      <th>year</th>\n",
       "      <th>engine</th>\n",
       "      <th>expected wins</th>\n",
       "    </tr>\n",
       "  </thead>\n",
       "  <tbody>\n",
       "    <tr>\n",
       "      <th>0</th>\n",
       "      <td>1996</td>\n",
       "      <td>ferrari</td>\n",
       "      <td>1.505882</td>\n",
       "    </tr>\n",
       "    <tr>\n",
       "      <th>1</th>\n",
       "      <td>1996</td>\n",
       "      <td>mercedes</td>\n",
       "      <td>1.505882</td>\n",
       "    </tr>\n",
       "    <tr>\n",
       "      <th>2</th>\n",
       "      <td>1996</td>\n",
       "      <td>renault</td>\n",
       "      <td>3.011765</td>\n",
       "    </tr>\n",
       "    <tr>\n",
       "      <th>3</th>\n",
       "      <td>1997</td>\n",
       "      <td>ferrari</td>\n",
       "      <td>1.537234</td>\n",
       "    </tr>\n",
       "    <tr>\n",
       "      <th>4</th>\n",
       "      <td>1997</td>\n",
       "      <td>mercedes</td>\n",
       "      <td>1.537234</td>\n",
       "    </tr>\n",
       "  </tbody>\n",
       "</table>\n",
       "</div>"
      ],
      "text/plain": [
       "   year    engine  expected wins\n",
       "0  1996  ferrari   1.505882     \n",
       "1  1996  mercedes  1.505882     \n",
       "2  1996  renault   3.011765     \n",
       "3  1997  ferrari   1.537234     \n",
       "4  1997  mercedes  1.537234     "
      ]
     },
     "execution_count": 20,
     "metadata": {},
     "output_type": "execute_result"
    }
   ],
   "source": [
    "top3_exp.head()"
   ]
  },
  {
   "cell_type": "code",
   "execution_count": 21,
   "metadata": {},
   "outputs": [],
   "source": [
    "#d73027 #fee090, #91bfdb\n",
    "col_map = {'mercedes': 'royalBlue',\n",
    "          'renault': 'goldenrod',\n",
    "          'ferrari': 'firebrick'}\n",
    "\n",
    "line_map = {'mercedes': 'dot',\n",
    "            'renault': 'dash',\n",
    "            'ferrari': 'solid'}\n",
    "\n",
    "pointer_map = {'mercedes': 'triangle-up',\n",
    "               'renault': 'diamond',\n",
    "               'ferrari': 'circle'}\n",
    "\n",
    "outline_map = {'mercedes': 'white',\n",
    "               'renault': 'black',\n",
    "               'ferrari': 'black'}\n",
    "\n",
    "name_map = {'mercedes': 'Mercedes',\n",
    "               'renault': 'Renault',\n",
    "               'ferrari': 'Ferrari'}"
   ]
  },
  {
   "cell_type": "code",
   "execution_count": 22,
   "metadata": {},
   "outputs": [],
   "source": [
    "import base64\n",
    "with open(\"logos/ferrari.png\", \"rb\") as image_file_ferrari:\n",
    "    encoded_string = base64.b64encode(image_file_ferrari.read()).decode()\n",
    "# Add the prefix that plotly will want when using the string as source\n",
    "encoded_image_ferrari = \"data:image/png;base64,\" + encoded_string\n",
    "\n",
    "with open(\"logos/mercedes.png\", \"rb\") as image_file_mercedes:\n",
    "    encoded_string = base64.b64encode(image_file_mercedes.read()).decode()\n",
    "# Add the prefix that plotly will want when using the string as source\n",
    "encoded_image_mercedes = \"data:image/png;base64,\" + encoded_string\n",
    "\n",
    "with open(\"logos/renault.png\", \"rb\") as image_file_renault:\n",
    "    encoded_string = base64.b64encode(image_file_renault.read()).decode()\n",
    "encoded_image_renault = \"data:image/png;base64,\" + encoded_string"
   ]
  },
  {
   "cell_type": "code",
   "execution_count": 26,
   "metadata": {},
   "outputs": [
    {
     "data": {
      "application/vnd.plotly.v1+json": {
       "config": {
        "plotlyServerURL": "https://plot.ly"
       },
       "data": [
        {
         "hovertemplate": "<b>Year: :</b> %{x} <br><b>Win Count: </b>%{y}<extra></extra>",
         "marker": {
          "color": "firebrick"
         },
         "name": "Ferrari",
         "showlegend": false,
         "type": "bar",
         "x": [
          1996,
          1997,
          1998,
          1999,
          2000,
          2001,
          2002,
          2003,
          2004,
          2005,
          2006,
          2007,
          2008,
          2009,
          2010,
          2011,
          2012,
          2013,
          2014,
          2015,
          2016,
          2017,
          2018,
          2019,
          2020
         ],
         "xaxis": "x",
         "y": [
          3,
          5,
          6,
          6,
          10,
          9,
          15,
          8,
          15,
          1,
          9,
          9,
          9,
          1,
          5,
          1,
          3,
          2,
          0,
          3,
          0,
          5,
          6,
          3,
          0
         ],
         "yaxis": "y"
        },
        {
         "hovertemplate": "<b>Year: :</b> %{x} <br><b>Teams With Engine: </b>%{text}<br><b>Expected Win Count: </b>%{y}<extra></extra>",
         "line": {
          "color": "black",
          "dash": "dash",
          "width": 2
         },
         "marker": {
          "size": 5,
          "symbol": "circle"
         },
         "mode": "lines+markers",
         "name": "<b>Expected Win Count</b>",
         "showlegend": false,
         "text": [
          1,
          1,
          1,
          1,
          1,
          1,
          1,
          1,
          1,
          1,
          2,
          3,
          3,
          2,
          2,
          3,
          3,
          3,
          3,
          2,
          4,
          3,
          3,
          3,
          3
         ],
         "type": "scatter",
         "x": [
          1996,
          1997,
          1998,
          1999,
          2000,
          2001,
          2002,
          2003,
          2004,
          2005,
          2006,
          2007,
          2008,
          2009,
          2010,
          2011,
          2012,
          2013,
          2014,
          2015,
          2016,
          2017,
          2018,
          2019,
          2020
         ],
         "xaxis": "x",
         "y": [
          1.5058823529411764,
          1.5372340425531916,
          1.4670487106017192,
          1.4545454545454546,
          1.5495978552278822,
          1.5454545454545454,
          1.5966850828729282,
          1.6,
          1.8,
          1.9202127659574466,
          3.272727272727273,
          4.636363636363636,
          5.282608695652175,
          3.4000000000000004,
          3.1666666666666665,
          4.75,
          5,
          5.181818181818182,
          4.995085995085995,
          3.82010582010582,
          7.636363636363637,
          6,
          6.3,
          6.3,
          5.1
         ],
         "yaxis": "y"
        },
        {
         "hovertemplate": "<b>Year: :</b> %{x} <br><b>Win Count: </b>%{y}<extra></extra>",
         "marker": {
          "color": "royalBlue"
         },
         "name": "Mercedes",
         "showlegend": false,
         "type": "bar",
         "x": [
          1996,
          1997,
          1998,
          1999,
          2000,
          2001,
          2002,
          2003,
          2004,
          2005,
          2006,
          2007,
          2008,
          2009,
          2010,
          2011,
          2012,
          2013,
          2014,
          2015,
          2016,
          2017,
          2018,
          2019,
          2020
         ],
         "xaxis": "x2",
         "y": [
          0,
          3,
          9,
          7,
          7,
          4,
          1,
          2,
          1,
          10,
          0,
          8,
          6,
          10,
          5,
          6,
          8,
          3,
          16,
          16,
          19,
          12,
          11,
          15,
          14
         ],
         "yaxis": "y2"
        },
        {
         "hovertemplate": "<b>Year: :</b> %{x} <br><b>Teams With Engine: </b>%{text}<br><b>Expected Win Count: </b>%{y}<extra></extra>",
         "line": {
          "color": "black",
          "dash": "dash",
          "width": 2
         },
         "marker": {
          "size": 5,
          "symbol": "circle"
         },
         "mode": "lines+markers",
         "name": "<b>Expected Win Count</b>",
         "showlegend": false,
         "text": [
          1,
          1,
          1,
          1,
          1,
          1,
          1,
          1,
          1,
          1,
          1,
          1,
          1,
          3,
          3,
          3,
          3,
          3,
          3,
          3,
          4,
          3,
          3,
          3,
          3
         ],
         "type": "scatter",
         "x": [
          1996,
          1997,
          1998,
          1999,
          2000,
          2001,
          2002,
          2003,
          2004,
          2005,
          2006,
          2007,
          2008,
          2009,
          2010,
          2011,
          2012,
          2013,
          2014,
          2015,
          2016,
          2017,
          2018,
          2019,
          2020
         ],
         "xaxis": "x2",
         "y": [
          1.5058823529411764,
          1.5372340425531916,
          1.4670487106017192,
          1.4545454545454546,
          1.5495978552278822,
          1.5454545454545454,
          1.5966850828729282,
          1.6,
          1.8,
          1.9202127659574466,
          1.6363636363636365,
          1.5454545454545454,
          1.7608695652173914,
          5.1,
          4.75,
          4.75,
          5,
          5.181818181818182,
          5.321867321867321,
          5.73015873015873,
          7.636363636363637,
          6,
          6.3,
          6.3,
          5.1
         ],
         "yaxis": "y2"
        },
        {
         "hovertemplate": "<b>Year: :</b> %{x} <br><b>Win Count: </b>%{y}<extra></extra>",
         "marker": {
          "color": "goldenrod"
         },
         "name": "Renault",
         "showlegend": false,
         "type": "bar",
         "x": [
          1996,
          1997,
          1998,
          1999,
          2000,
          2001,
          2002,
          2003,
          2004,
          2005,
          2006,
          2007,
          2008,
          2009,
          2010,
          2011,
          2012,
          2013,
          2014,
          2015,
          2016,
          2017,
          2018,
          2019,
          2020
         ],
         "xaxis": "x3",
         "y": [
          12,
          9,
          0,
          0,
          0,
          0,
          0,
          1,
          1,
          8,
          8,
          0,
          2,
          6,
          9,
          12,
          8,
          13,
          3,
          0,
          0,
          0,
          0,
          0,
          0
         ],
         "yaxis": "y3"
        },
        {
         "hovertemplate": "<b>Year: :</b> %{x} <br><b>Teams With Engine: </b>%{text}<br><b>Expected Win Count: </b>%{y}<extra></extra>",
         "line": {
          "color": "black",
          "dash": "dash",
          "width": 2
         },
         "marker": {
          "size": 5,
          "symbol": "circle"
         },
         "mode": "lines+markers",
         "name": "<b>Expected Win Count</b>",
         "showlegend": true,
         "text": [
          2,
          2,
          0,
          0,
          0,
          1,
          1,
          1,
          1,
          1,
          1,
          2,
          2,
          2,
          2,
          3,
          3,
          3,
          3,
          2,
          1,
          2,
          2,
          2,
          2
         ],
         "type": "scatter",
         "x": [
          1996,
          1997,
          1998,
          1999,
          2000,
          2001,
          2002,
          2003,
          2004,
          2005,
          2006,
          2007,
          2008,
          2009,
          2010,
          2011,
          2012,
          2013,
          2014,
          2015,
          2016,
          2017,
          2018,
          2019,
          2020
         ],
         "xaxis": "x3",
         "y": [
          3.011764705882353,
          3.0744680851063833,
          0,
          0,
          0,
          1.5454545454545454,
          1.5966850828729282,
          1.6,
          1.8,
          1.9202127659574466,
          1.6363636363636365,
          3.090909090909091,
          3.5217391304347827,
          3.4000000000000004,
          3.1666666666666665,
          4.75,
          5,
          5.181818181818182,
          5.135135135135135,
          3.82010582010582,
          1.9090909090909092,
          4,
          4.2,
          4.2,
          3.4000000000000004
         ],
         "yaxis": "y3"
        }
       ],
       "layout": {
        "annotations": [
         {
          "arrowcolor": "teal",
          "arrowhead": 5,
          "arrowside": "end+start",
          "arrowsize": 1.5,
          "ax": 1995.5,
          "axref": "x",
          "ay": 17,
          "ayref": "y",
          "x": 2005.5,
          "xref": "x",
          "y": 17,
          "yref": "y"
         },
         {
          "font": {
           "color": "teal",
           "size": 18
          },
          "showarrow": false,
          "text": "<b>V10/12 Engines</b>",
          "x": 2000.5,
          "y": 18.5
         },
         {
          "arrowcolor": "IndianRed",
          "arrowhead": 5,
          "arrowside": "end+start",
          "arrowsize": 1.5,
          "ax": 2013.5,
          "axref": "x",
          "ay": 17,
          "ayref": "y",
          "x": 2005.5,
          "xref": "x",
          "y": 17,
          "yref": "y"
         },
         {
          "font": {
           "color": "IndianRed",
           "size": 18
          },
          "showarrow": false,
          "text": "<b>V8 Engines</b>",
          "x": 2009.5,
          "y": 18.5
         },
         {
          "arrowcolor": "darkgreen",
          "arrowhead": 5,
          "arrowside": "end+start",
          "arrowsize": 1.5,
          "ax": 2013.5,
          "axref": "x",
          "ay": 17,
          "ayref": "y",
          "x": 2020.5,
          "xref": "x",
          "y": 17,
          "yref": "y"
         },
         {
          "font": {
           "color": "darkgreen",
           "size": 18
          },
          "showarrow": false,
          "text": "<b>V6 Hybrid Engines</b>",
          "x": 2017,
          "y": 18.5
         }
        ],
        "autosize": false,
        "font": {
         "color": "black",
         "size": 15
        },
        "height": 800,
        "images": [
         {
          "sizex": 0.15,
          "sizey": 0.15,
          "source": "data:image/png;base64,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",
          "x": 0.15,
          "xanchor": "right",
          "xref": "paper",
          "y": 0.84,
          "yanchor": "bottom",
          "yref": "paper"
         },
         {
          "sizex": 0.2,
          "sizey": 0.2,
          "source": "data:image/png;base64,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",
          "x": 0.22,
          "xanchor": "right",
          "xref": "paper",
          "y": 0.57,
          "yanchor": "bottom",
          "yref": "paper"
         },
         {
          "sizex": 0.15,
          "sizey": 0.15,
          "source": "data:image/png;base64,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",
          "x": 0.17,
          "xanchor": "right",
          "xref": "paper",
          "y": 0.23,
          "yanchor": "bottom",
          "yref": "paper"
         }
        ],
        "legend": {
         "orientation": "h",
         "x": 1,
         "xanchor": "right",
         "y": 1.02,
         "yanchor": "bottom"
        },
        "plot_bgcolor": "rgba(0,0,0,0)",
        "shapes": [
         {
          "fillcolor": "azure",
          "layer": "below",
          "line": {
           "width": 0
          },
          "type": "rect",
          "x0": "1995",
          "x1": "2005.5",
          "xref": "x",
          "y0": 0,
          "y1": 1,
          "yref": "y domain"
         },
         {
          "fillcolor": "azure",
          "layer": "below",
          "line": {
           "width": 0
          },
          "type": "rect",
          "x0": "1995",
          "x1": "2005.5",
          "xref": "x2",
          "y0": 0,
          "y1": 1,
          "yref": "y2 domain"
         },
         {
          "fillcolor": "azure",
          "layer": "below",
          "line": {
           "width": 0
          },
          "type": "rect",
          "x0": "1995",
          "x1": "2005.5",
          "xref": "x3",
          "y0": 0,
          "y1": 1,
          "yref": "y3 domain"
         },
         {
          "fillcolor": "cornsilk",
          "layer": "below",
          "line": {
           "width": 0
          },
          "type": "rect",
          "x0": "2005.5",
          "x1": "2013.5",
          "xref": "x",
          "y0": 0,
          "y1": 1,
          "yref": "y domain"
         },
         {
          "fillcolor": "cornsilk",
          "layer": "below",
          "line": {
           "width": 0
          },
          "type": "rect",
          "x0": "2005.5",
          "x1": "2013.5",
          "xref": "x2",
          "y0": 0,
          "y1": 1,
          "yref": "y2 domain"
         },
         {
          "fillcolor": "cornsilk",
          "layer": "below",
          "line": {
           "width": 0
          },
          "type": "rect",
          "x0": "2005.5",
          "x1": "2013.5",
          "xref": "x3",
          "y0": 0,
          "y1": 1,
          "yref": "y3 domain"
         },
         {
          "fillcolor": "honeydew",
          "layer": "below",
          "line": {
           "width": 0
          },
          "type": "rect",
          "x0": "2013.5",
          "x1": "2021",
          "xref": "x",
          "y0": 0,
          "y1": 1,
          "yref": "y domain"
         },
         {
          "fillcolor": "honeydew",
          "layer": "below",
          "line": {
           "width": 0
          },
          "type": "rect",
          "x0": "2013.5",
          "x1": "2021",
          "xref": "x2",
          "y0": 0,
          "y1": 1,
          "yref": "y2 domain"
         },
         {
          "fillcolor": "honeydew",
          "layer": "below",
          "line": {
           "width": 0
          },
          "type": "rect",
          "x0": "2013.5",
          "x1": "2021",
          "xref": "x3",
          "y0": 0,
          "y1": 1,
          "yref": "y3 domain"
         }
        ],
        "template": {
         "data": {
          "bar": [
           {
            "error_x": {
             "color": "#2a3f5f"
            },
            "error_y": {
             "color": "#2a3f5f"
            },
            "marker": {
             "line": {
              "color": "#E5ECF6",
              "width": 0.5
             }
            },
            "type": "bar"
           }
          ],
          "barpolar": [
           {
            "marker": {
             "line": {
              "color": "#E5ECF6",
              "width": 0.5
             }
            },
            "type": "barpolar"
           }
          ],
          "carpet": [
           {
            "aaxis": {
             "endlinecolor": "#2a3f5f",
             "gridcolor": "white",
             "linecolor": "white",
             "minorgridcolor": "white",
             "startlinecolor": "#2a3f5f"
            },
            "baxis": {
             "endlinecolor": "#2a3f5f",
             "gridcolor": "white",
             "linecolor": "white",
             "minorgridcolor": "white",
             "startlinecolor": "#2a3f5f"
            },
            "type": "carpet"
           }
          ],
          "choropleth": [
           {
            "colorbar": {
             "outlinewidth": 0,
             "ticks": ""
            },
            "type": "choropleth"
           }
          ],
          "contour": [
           {
            "colorbar": {
             "outlinewidth": 0,
             "ticks": ""
            },
            "colorscale": [
             [
              0,
              "#0d0887"
             ],
             [
              0.1111111111111111,
              "#46039f"
             ],
             [
              0.2222222222222222,
              "#7201a8"
             ],
             [
              0.3333333333333333,
              "#9c179e"
             ],
             [
              0.4444444444444444,
              "#bd3786"
             ],
             [
              0.5555555555555556,
              "#d8576b"
             ],
             [
              0.6666666666666666,
              "#ed7953"
             ],
             [
              0.7777777777777778,
              "#fb9f3a"
             ],
             [
              0.8888888888888888,
              "#fdca26"
             ],
             [
              1,
              "#f0f921"
             ]
            ],
            "type": "contour"
           }
          ],
          "contourcarpet": [
           {
            "colorbar": {
             "outlinewidth": 0,
             "ticks": ""
            },
            "type": "contourcarpet"
           }
          ],
          "heatmap": [
           {
            "colorbar": {
             "outlinewidth": 0,
             "ticks": ""
            },
            "colorscale": [
             [
              0,
              "#0d0887"
             ],
             [
              0.1111111111111111,
              "#46039f"
             ],
             [
              0.2222222222222222,
              "#7201a8"
             ],
             [
              0.3333333333333333,
              "#9c179e"
             ],
             [
              0.4444444444444444,
              "#bd3786"
             ],
             [
              0.5555555555555556,
              "#d8576b"
             ],
             [
              0.6666666666666666,
              "#ed7953"
             ],
             [
              0.7777777777777778,
              "#fb9f3a"
             ],
             [
              0.8888888888888888,
              "#fdca26"
             ],
             [
              1,
              "#f0f921"
             ]
            ],
            "type": "heatmap"
           }
          ],
          "heatmapgl": [
           {
            "colorbar": {
             "outlinewidth": 0,
             "ticks": ""
            },
            "colorscale": [
             [
              0,
              "#0d0887"
             ],
             [
              0.1111111111111111,
              "#46039f"
             ],
             [
              0.2222222222222222,
              "#7201a8"
             ],
             [
              0.3333333333333333,
              "#9c179e"
             ],
             [
              0.4444444444444444,
              "#bd3786"
             ],
             [
              0.5555555555555556,
              "#d8576b"
             ],
             [
              0.6666666666666666,
              "#ed7953"
             ],
             [
              0.7777777777777778,
              "#fb9f3a"
             ],
             [
              0.8888888888888888,
              "#fdca26"
             ],
             [
              1,
              "#f0f921"
             ]
            ],
            "type": "heatmapgl"
           }
          ],
          "histogram": [
           {
            "marker": {
             "colorbar": {
              "outlinewidth": 0,
              "ticks": ""
             }
            },
            "type": "histogram"
           }
          ],
          "histogram2d": [
           {
            "colorbar": {
             "outlinewidth": 0,
             "ticks": ""
            },
            "colorscale": [
             [
              0,
              "#0d0887"
             ],
             [
              0.1111111111111111,
              "#46039f"
             ],
             [
              0.2222222222222222,
              "#7201a8"
             ],
             [
              0.3333333333333333,
              "#9c179e"
             ],
             [
              0.4444444444444444,
              "#bd3786"
             ],
             [
              0.5555555555555556,
              "#d8576b"
             ],
             [
              0.6666666666666666,
              "#ed7953"
             ],
             [
              0.7777777777777778,
              "#fb9f3a"
             ],
             [
              0.8888888888888888,
              "#fdca26"
             ],
             [
              1,
              "#f0f921"
             ]
            ],
            "type": "histogram2d"
           }
          ],
          "histogram2dcontour": [
           {
            "colorbar": {
             "outlinewidth": 0,
             "ticks": ""
            },
            "colorscale": [
             [
              0,
              "#0d0887"
             ],
             [
              0.1111111111111111,
              "#46039f"
             ],
             [
              0.2222222222222222,
              "#7201a8"
             ],
             [
              0.3333333333333333,
              "#9c179e"
             ],
             [
              0.4444444444444444,
              "#bd3786"
             ],
             [
              0.5555555555555556,
              "#d8576b"
             ],
             [
              0.6666666666666666,
              "#ed7953"
             ],
             [
              0.7777777777777778,
              "#fb9f3a"
             ],
             [
              0.8888888888888888,
              "#fdca26"
             ],
             [
              1,
              "#f0f921"
             ]
            ],
            "type": "histogram2dcontour"
           }
          ],
          "mesh3d": [
           {
            "colorbar": {
             "outlinewidth": 0,
             "ticks": ""
            },
            "type": "mesh3d"
           }
          ],
          "parcoords": [
           {
            "line": {
             "colorbar": {
              "outlinewidth": 0,
              "ticks": ""
             }
            },
            "type": "parcoords"
           }
          ],
          "pie": [
           {
            "automargin": true,
            "type": "pie"
           }
          ],
          "scatter": [
           {
            "marker": {
             "colorbar": {
              "outlinewidth": 0,
              "ticks": ""
             }
            },
            "type": "scatter"
           }
          ],
          "scatter3d": [
           {
            "line": {
             "colorbar": {
              "outlinewidth": 0,
              "ticks": ""
             }
            },
            "marker": {
             "colorbar": {
              "outlinewidth": 0,
              "ticks": ""
             }
            },
            "type": "scatter3d"
           }
          ],
          "scattercarpet": [
           {
            "marker": {
             "colorbar": {
              "outlinewidth": 0,
              "ticks": ""
             }
            },
            "type": "scattercarpet"
           }
          ],
          "scattergeo": [
           {
            "marker": {
             "colorbar": {
              "outlinewidth": 0,
              "ticks": ""
             }
            },
            "type": "scattergeo"
           }
          ],
          "scattergl": [
           {
            "marker": {
             "colorbar": {
              "outlinewidth": 0,
              "ticks": ""
             }
            },
            "type": "scattergl"
           }
          ],
          "scattermapbox": [
           {
            "marker": {
             "colorbar": {
              "outlinewidth": 0,
              "ticks": ""
             }
            },
            "type": "scattermapbox"
           }
          ],
          "scatterpolar": [
           {
            "marker": {
             "colorbar": {
              "outlinewidth": 0,
              "ticks": ""
             }
            },
            "type": "scatterpolar"
           }
          ],
          "scatterpolargl": [
           {
            "marker": {
             "colorbar": {
              "outlinewidth": 0,
              "ticks": ""
             }
            },
            "type": "scatterpolargl"
           }
          ],
          "scatterternary": [
           {
            "marker": {
             "colorbar": {
              "outlinewidth": 0,
              "ticks": ""
             }
            },
            "type": "scatterternary"
           }
          ],
          "surface": [
           {
            "colorbar": {
             "outlinewidth": 0,
             "ticks": ""
            },
            "colorscale": [
             [
              0,
              "#0d0887"
             ],
             [
              0.1111111111111111,
              "#46039f"
             ],
             [
              0.2222222222222222,
              "#7201a8"
             ],
             [
              0.3333333333333333,
              "#9c179e"
             ],
             [
              0.4444444444444444,
              "#bd3786"
             ],
             [
              0.5555555555555556,
              "#d8576b"
             ],
             [
              0.6666666666666666,
              "#ed7953"
             ],
             [
              0.7777777777777778,
              "#fb9f3a"
             ],
             [
              0.8888888888888888,
              "#fdca26"
             ],
             [
              1,
              "#f0f921"
             ]
            ],
            "type": "surface"
           }
          ],
          "table": [
           {
            "cells": {
             "fill": {
              "color": "#EBF0F8"
             },
             "line": {
              "color": "white"
             }
            },
            "header": {
             "fill": {
              "color": "#C8D4E3"
             },
             "line": {
              "color": "white"
             }
            },
            "type": "table"
           }
          ]
         },
         "layout": {
          "annotationdefaults": {
           "arrowcolor": "#2a3f5f",
           "arrowhead": 0,
           "arrowwidth": 1
          },
          "autotypenumbers": "strict",
          "coloraxis": {
           "colorbar": {
            "outlinewidth": 0,
            "ticks": ""
           }
          },
          "colorscale": {
           "diverging": [
            [
             0,
             "#8e0152"
            ],
            [
             0.1,
             "#c51b7d"
            ],
            [
             0.2,
             "#de77ae"
            ],
            [
             0.3,
             "#f1b6da"
            ],
            [
             0.4,
             "#fde0ef"
            ],
            [
             0.5,
             "#f7f7f7"
            ],
            [
             0.6,
             "#e6f5d0"
            ],
            [
             0.7,
             "#b8e186"
            ],
            [
             0.8,
             "#7fbc41"
            ],
            [
             0.9,
             "#4d9221"
            ],
            [
             1,
             "#276419"
            ]
           ],
           "sequential": [
            [
             0,
             "#0d0887"
            ],
            [
             0.1111111111111111,
             "#46039f"
            ],
            [
             0.2222222222222222,
             "#7201a8"
            ],
            [
             0.3333333333333333,
             "#9c179e"
            ],
            [
             0.4444444444444444,
             "#bd3786"
            ],
            [
             0.5555555555555556,
             "#d8576b"
            ],
            [
             0.6666666666666666,
             "#ed7953"
            ],
            [
             0.7777777777777778,
             "#fb9f3a"
            ],
            [
             0.8888888888888888,
             "#fdca26"
            ],
            [
             1,
             "#f0f921"
            ]
           ],
           "sequentialminus": [
            [
             0,
             "#0d0887"
            ],
            [
             0.1111111111111111,
             "#46039f"
            ],
            [
             0.2222222222222222,
             "#7201a8"
            ],
            [
             0.3333333333333333,
             "#9c179e"
            ],
            [
             0.4444444444444444,
             "#bd3786"
            ],
            [
             0.5555555555555556,
             "#d8576b"
            ],
            [
             0.6666666666666666,
             "#ed7953"
            ],
            [
             0.7777777777777778,
             "#fb9f3a"
            ],
            [
             0.8888888888888888,
             "#fdca26"
            ],
            [
             1,
             "#f0f921"
            ]
           ]
          },
          "colorway": [
           "#636efa",
           "#EF553B",
           "#00cc96",
           "#ab63fa",
           "#FFA15A",
           "#19d3f3",
           "#FF6692",
           "#B6E880",
           "#FF97FF",
           "#FECB52"
          ],
          "font": {
           "color": "#2a3f5f"
          },
          "geo": {
           "bgcolor": "white",
           "lakecolor": "white",
           "landcolor": "#E5ECF6",
           "showlakes": true,
           "showland": true,
           "subunitcolor": "white"
          },
          "hoverlabel": {
           "align": "left"
          },
          "hovermode": "closest",
          "mapbox": {
           "style": "light"
          },
          "paper_bgcolor": "white",
          "plot_bgcolor": "#E5ECF6",
          "polar": {
           "angularaxis": {
            "gridcolor": "white",
            "linecolor": "white",
            "ticks": ""
           },
           "bgcolor": "#E5ECF6",
           "radialaxis": {
            "gridcolor": "white",
            "linecolor": "white",
            "ticks": ""
           }
          },
          "scene": {
           "xaxis": {
            "backgroundcolor": "#E5ECF6",
            "gridcolor": "white",
            "gridwidth": 2,
            "linecolor": "white",
            "showbackground": true,
            "ticks": "",
            "zerolinecolor": "white"
           },
           "yaxis": {
            "backgroundcolor": "#E5ECF6",
            "gridcolor": "white",
            "gridwidth": 2,
            "linecolor": "white",
            "showbackground": true,
            "ticks": "",
            "zerolinecolor": "white"
           },
           "zaxis": {
            "backgroundcolor": "#E5ECF6",
            "gridcolor": "white",
            "gridwidth": 2,
            "linecolor": "white",
            "showbackground": true,
            "ticks": "",
            "zerolinecolor": "white"
           }
          },
          "shapedefaults": {
           "line": {
            "color": "#2a3f5f"
           }
          },
          "ternary": {
           "aaxis": {
            "gridcolor": "white",
            "linecolor": "white",
            "ticks": ""
           },
           "baxis": {
            "gridcolor": "white",
            "linecolor": "white",
            "ticks": ""
           },
           "bgcolor": "#E5ECF6",
           "caxis": {
            "gridcolor": "white",
            "linecolor": "white",
            "ticks": ""
           }
          },
          "title": {
           "x": 0.05
          },
          "xaxis": {
           "automargin": true,
           "gridcolor": "white",
           "linecolor": "white",
           "ticks": "",
           "title": {
            "standoff": 15
           },
           "zerolinecolor": "white",
           "zerolinewidth": 2
          },
          "yaxis": {
           "automargin": true,
           "gridcolor": "white",
           "linecolor": "white",
           "ticks": "",
           "title": {
            "standoff": 15
           },
           "zerolinecolor": "white",
           "zerolinewidth": 2
          }
         }
        },
        "title": {
         "text": "<b>F1 Grand Prix Wins by Engine Manufacturer </b>",
         "x": 0.1,
         "xanchor": "left",
         "y": 0.92,
         "yanchor": "top"
        },
        "width": 1000,
        "xaxis": {
         "anchor": "y",
         "domain": [
          0,
          1
         ],
         "dtick": 2,
         "linecolor": "black",
         "linewidth": 2,
         "matches": "x3",
         "range": [
          1995,
          2020.5
         ],
         "showline": true,
         "showticklabels": false,
         "tick0": 1996,
         "ticklen": 0,
         "tickprefix": "<b>",
         "ticks": "outside",
         "ticksuffix": "</b>",
         "tickwidth": 2,
         "title": {
          "text": ""
         }
        },
        "xaxis2": {
         "anchor": "y2",
         "domain": [
          0,
          1
         ],
         "dtick": 2,
         "linecolor": "black",
         "linewidth": 2,
         "matches": "x3",
         "range": [
          1995,
          2020.5
         ],
         "showline": true,
         "showticklabels": false,
         "tick0": 1996,
         "ticklen": 0,
         "tickprefix": "<b>",
         "ticks": "outside",
         "ticksuffix": "</b>",
         "tickwidth": 2,
         "title": {
          "text": ""
         }
        },
        "xaxis3": {
         "anchor": "y3",
         "domain": [
          0,
          1
         ],
         "dtick": 2,
         "linecolor": "black",
         "linewidth": 2,
         "range": [
          1995,
          2020.5
         ],
         "showline": true,
         "tick0": 1996,
         "ticklen": 10,
         "tickprefix": "<b>",
         "ticks": "outside",
         "ticksuffix": "</b>",
         "tickwidth": 2,
         "title": {
          "text": "<b>Year</b>"
         }
        },
        "yaxis": {
         "anchor": "x",
         "domain": [
          0.7,
          1
         ],
         "gridcolor": "lightGray",
         "linecolor": "black",
         "linewidth": 2,
         "range": [
          0,
          20.5
         ],
         "showline": true,
         "tickfont": {
          "size": 15
         },
         "ticklen": 10,
         "tickprefix": "<b>",
         "ticks": "outside",
         "ticksuffix": "</b>",
         "tickwidth": 2,
         "title": {
          "text": ""
         }
        },
        "yaxis2": {
         "anchor": "x2",
         "domain": [
          0.35,
          0.6499999999999999
         ],
         "gridcolor": "lightGray",
         "linecolor": "black",
         "linewidth": 2,
         "range": [
          0,
          20.5
         ],
         "showline": true,
         "tickfont": {
          "size": 15
         },
         "ticklen": 10,
         "tickprefix": "<b>",
         "ticks": "outside",
         "ticksuffix": "</b>",
         "tickwidth": 2,
         "title": {
          "text": "<b>Win Count</b>"
         }
        },
        "yaxis3": {
         "anchor": "x3",
         "domain": [
          0,
          0.3
         ],
         "gridcolor": "lightGray",
         "linecolor": "black",
         "linewidth": 2,
         "range": [
          0,
          20.5
         ],
         "showline": true,
         "tickfont": {
          "size": 15
         },
         "ticklen": 10,
         "tickprefix": "<b>",
         "ticks": "outside",
         "ticksuffix": "</b>",
         "tickwidth": 2,
         "title": {
          "text": ""
         }
        }
       }
      },
      "text/html": [
       "<div>                            <div id=\"81408741-9018-45f5-962d-50bf34a72617\" class=\"plotly-graph-div\" style=\"height:800px; width:1000px;\"></div>            <script type=\"text/javascript\">                require([\"plotly\"], function(Plotly) {                    window.PLOTLYENV=window.PLOTLYENV || {};                                    if (document.getElementById(\"81408741-9018-45f5-962d-50bf34a72617\")) {                    Plotly.newPlot(                        \"81408741-9018-45f5-962d-50bf34a72617\",                        [{\"hovertemplate\": \"<b>Year: :</b> %{x} <br><b>Win Count: </b>%{y}<extra></extra>\", \"marker\": {\"color\": \"firebrick\"}, \"name\": \"Ferrari\", \"showlegend\": false, \"type\": \"bar\", \"x\": [1996.0, 1997.0, 1998.0, 1999.0, 2000.0, 2001.0, 2002.0, 2003.0, 2004.0, 2005.0, 2006.0, 2007.0, 2008.0, 2009.0, 2010.0, 2011.0, 2012.0, 2013.0, 2014.0, 2015.0, 2016.0, 2017.0, 2018.0, 2019.0, 2020.0], \"xaxis\": \"x\", \"y\": [3.0, 5.0, 6.0, 6.0, 10.0, 9.0, 15.0, 8.0, 15.0, 1.0, 9.0, 9.0, 9.0, 1.0, 5.0, 1.0, 3.0, 2.0, 0.0, 3.0, 0.0, 5.0, 6.0, 3.0, 0.0], \"yaxis\": \"y\"}, {\"hovertemplate\": \"<b>Year: :</b> %{x} <br><b>Teams With Engine: </b>%{text}<br><b>Expected Win Count: </b>%{y}<extra></extra>\", \"line\": {\"color\": \"black\", \"dash\": \"dash\", \"width\": 2}, \"marker\": {\"size\": 5, \"symbol\": \"circle\"}, \"mode\": \"lines+markers\", \"name\": \"<b>Expected Win Count</b>\", \"showlegend\": false, \"text\": [1.0, 1.0, 1.0, 1.0, 1.0, 1.0, 1.0, 1.0, 1.0, 1.0, 2.0, 3.0, 3.0, 2.0, 2.0, 3.0, 3.0, 3.0, 3.0, 2.0, 4.0, 3.0, 3.0, 3.0, 3.0], \"type\": \"scatter\", \"x\": [1996, 1997, 1998, 1999, 2000, 2001, 2002, 2003, 2004, 2005, 2006, 2007, 2008, 2009, 2010, 2011, 2012, 2013, 2014, 2015, 2016, 2017, 2018, 2019, 2020], \"xaxis\": \"x\", \"y\": [1.5058823529411764, 1.5372340425531916, 1.4670487106017192, 1.4545454545454546, 1.5495978552278822, 1.5454545454545454, 1.5966850828729282, 1.6, 1.8, 1.9202127659574466, 3.272727272727273, 4.636363636363636, 5.282608695652175, 3.4000000000000004, 3.1666666666666665, 4.75, 5.0, 5.181818181818182, 4.995085995085995, 3.82010582010582, 7.636363636363637, 6.0, 6.3, 6.3, 5.1], \"yaxis\": \"y\"}, {\"hovertemplate\": \"<b>Year: :</b> %{x} <br><b>Win Count: </b>%{y}<extra></extra>\", \"marker\": {\"color\": \"royalBlue\"}, \"name\": \"Mercedes\", \"showlegend\": false, \"type\": \"bar\", \"x\": [1996.0, 1997.0, 1998.0, 1999.0, 2000.0, 2001.0, 2002.0, 2003.0, 2004.0, 2005.0, 2006.0, 2007.0, 2008.0, 2009.0, 2010.0, 2011.0, 2012.0, 2013.0, 2014.0, 2015.0, 2016.0, 2017.0, 2018.0, 2019.0, 2020.0], \"xaxis\": \"x2\", \"y\": [0.0, 3.0, 9.0, 7.0, 7.0, 4.0, 1.0, 2.0, 1.0, 10.0, 0.0, 8.0, 6.0, 10.0, 5.0, 6.0, 8.0, 3.0, 16.0, 16.0, 19.0, 12.0, 11.0, 15.0, 14.0], \"yaxis\": \"y2\"}, {\"hovertemplate\": \"<b>Year: :</b> %{x} <br><b>Teams With Engine: </b>%{text}<br><b>Expected Win Count: </b>%{y}<extra></extra>\", \"line\": {\"color\": \"black\", \"dash\": \"dash\", \"width\": 2}, \"marker\": {\"size\": 5, \"symbol\": \"circle\"}, \"mode\": \"lines+markers\", \"name\": \"<b>Expected Win Count</b>\", \"showlegend\": false, \"text\": [1.0, 1.0, 1.0, 1.0, 1.0, 1.0, 1.0, 1.0, 1.0, 1.0, 1.0, 1.0, 1.0, 3.0, 3.0, 3.0, 3.0, 3.0, 3.0, 3.0, 4.0, 3.0, 3.0, 3.0, 3.0], \"type\": \"scatter\", \"x\": [1996, 1997, 1998, 1999, 2000, 2001, 2002, 2003, 2004, 2005, 2006, 2007, 2008, 2009, 2010, 2011, 2012, 2013, 2014, 2015, 2016, 2017, 2018, 2019, 2020], \"xaxis\": \"x2\", \"y\": [1.5058823529411764, 1.5372340425531916, 1.4670487106017192, 1.4545454545454546, 1.5495978552278822, 1.5454545454545454, 1.5966850828729282, 1.6, 1.8, 1.9202127659574466, 1.6363636363636365, 1.5454545454545454, 1.7608695652173914, 5.1, 4.75, 4.75, 5.0, 5.181818181818182, 5.321867321867321, 5.73015873015873, 7.636363636363637, 6.0, 6.3, 6.3, 5.1], \"yaxis\": \"y2\"}, {\"hovertemplate\": \"<b>Year: :</b> %{x} <br><b>Win Count: </b>%{y}<extra></extra>\", \"marker\": {\"color\": \"goldenrod\"}, \"name\": \"Renault\", \"showlegend\": false, \"type\": \"bar\", \"x\": [1996.0, 1997.0, 1998.0, 1999.0, 2000.0, 2001.0, 2002.0, 2003.0, 2004.0, 2005.0, 2006.0, 2007.0, 2008.0, 2009.0, 2010.0, 2011.0, 2012.0, 2013.0, 2014.0, 2015.0, 2016.0, 2017.0, 2018.0, 2019.0, 2020.0], \"xaxis\": \"x3\", \"y\": [12.0, 9.0, 0.0, 0.0, 0.0, 0.0, 0.0, 1.0, 1.0, 8.0, 8.0, 0.0, 2.0, 6.0, 9.0, 12.0, 8.0, 13.0, 3.0, 0.0, 0.0, 0.0, 0.0, 0.0, 0.0], \"yaxis\": \"y3\"}, {\"hovertemplate\": \"<b>Year: :</b> %{x} <br><b>Teams With Engine: </b>%{text}<br><b>Expected Win Count: </b>%{y}<extra></extra>\", \"line\": {\"color\": \"black\", \"dash\": \"dash\", \"width\": 2}, \"marker\": {\"size\": 5, \"symbol\": \"circle\"}, \"mode\": \"lines+markers\", \"name\": \"<b>Expected Win Count</b>\", \"showlegend\": true, \"text\": [2.0, 2.0, 0.0, 0.0, 0.0, 1.0, 1.0, 1.0, 1.0, 1.0, 1.0, 2.0, 2.0, 2.0, 2.0, 3.0, 3.0, 3.0, 3.0, 2.0, 1.0, 2.0, 2.0, 2.0, 2.0], \"type\": \"scatter\", \"x\": [1996, 1997, 1998, 1999, 2000, 2001, 2002, 2003, 2004, 2005, 2006, 2007, 2008, 2009, 2010, 2011, 2012, 2013, 2014, 2015, 2016, 2017, 2018, 2019, 2020], \"xaxis\": \"x3\", \"y\": [3.011764705882353, 3.0744680851063833, 0.0, 0.0, 0.0, 1.5454545454545454, 1.5966850828729282, 1.6, 1.8, 1.9202127659574466, 1.6363636363636365, 3.090909090909091, 3.5217391304347827, 3.4000000000000004, 3.1666666666666665, 4.75, 5.0, 5.181818181818182, 5.135135135135135, 3.82010582010582, 1.9090909090909092, 4.0, 4.2, 4.2, 3.4000000000000004], \"yaxis\": \"y3\"}],                        {\"annotations\": [{\"arrowcolor\": \"teal\", \"arrowhead\": 5, \"arrowside\": \"end+start\", \"arrowsize\": 1.5, \"ax\": 1995.5, \"axref\": \"x\", \"ay\": 17, \"ayref\": \"y\", \"x\": 2005.5, \"xref\": \"x\", \"y\": 17, \"yref\": \"y\"}, {\"font\": {\"color\": \"teal\", \"size\": 18}, \"showarrow\": false, \"text\": \"<b>V10/12 Engines</b>\", \"x\": 2000.5, \"y\": 18.5}, {\"arrowcolor\": \"IndianRed\", \"arrowhead\": 5, \"arrowside\": \"end+start\", \"arrowsize\": 1.5, \"ax\": 2013.5, \"axref\": \"x\", \"ay\": 17, \"ayref\": \"y\", \"x\": 2005.5, \"xref\": \"x\", \"y\": 17, \"yref\": \"y\"}, {\"font\": {\"color\": \"IndianRed\", \"size\": 18}, \"showarrow\": false, \"text\": \"<b>V8 Engines</b>\", \"x\": 2009.5, \"y\": 18.5}, {\"arrowcolor\": \"darkgreen\", \"arrowhead\": 5, \"arrowside\": \"end+start\", \"arrowsize\": 1.5, \"ax\": 2013.5, \"axref\": \"x\", \"ay\": 17, \"ayref\": \"y\", \"x\": 2020.5, \"xref\": \"x\", \"y\": 17, \"yref\": \"y\"}, {\"font\": {\"color\": \"darkgreen\", \"size\": 18}, \"showarrow\": false, \"text\": \"<b>V6 Hybrid Engines</b>\", \"x\": 2017, \"y\": 18.5}], \"autosize\": false, \"font\": {\"color\": \"black\", \"size\": 15}, \"height\": 800, \"images\": [{\"sizex\": 0.15, \"sizey\": 0.15, \"source\": \"data:image/png;base64,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\", \"x\": 0.15, \"xanchor\": \"right\", \"xref\": \"paper\", \"y\": 0.84, \"yanchor\": \"bottom\", \"yref\": \"paper\"}, {\"sizex\": 0.2, \"sizey\": 0.2, \"source\": \"data:image/png;base64,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\", \"x\": 0.22, \"xanchor\": \"right\", \"xref\": \"paper\", \"y\": 0.57, \"yanchor\": \"bottom\", \"yref\": \"paper\"}, {\"sizex\": 0.15, \"sizey\": 0.15, \"source\": \"data:image/png;base64,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\", \"x\": 0.17, \"xanchor\": \"right\", \"xref\": \"paper\", \"y\": 0.23, \"yanchor\": \"bottom\", \"yref\": \"paper\"}], \"legend\": {\"orientation\": \"h\", \"x\": 1, \"xanchor\": \"right\", \"y\": 1.02, \"yanchor\": \"bottom\"}, \"plot_bgcolor\": \"rgba(0,0,0,0)\", \"shapes\": [{\"fillcolor\": \"azure\", \"layer\": \"below\", \"line\": {\"width\": 0}, \"type\": \"rect\", \"x0\": \"1995\", \"x1\": \"2005.5\", \"xref\": \"x\", \"y0\": 0, \"y1\": 1, \"yref\": \"y domain\"}, {\"fillcolor\": \"azure\", \"layer\": \"below\", \"line\": {\"width\": 0}, \"type\": \"rect\", \"x0\": \"1995\", \"x1\": \"2005.5\", \"xref\": \"x2\", \"y0\": 0, \"y1\": 1, \"yref\": \"y2 domain\"}, {\"fillcolor\": \"azure\", \"layer\": \"below\", \"line\": {\"width\": 0}, \"type\": \"rect\", \"x0\": \"1995\", \"x1\": \"2005.5\", \"xref\": \"x3\", \"y0\": 0, \"y1\": 1, \"yref\": \"y3 domain\"}, {\"fillcolor\": \"cornsilk\", \"layer\": \"below\", \"line\": {\"width\": 0}, \"type\": \"rect\", \"x0\": \"2005.5\", \"x1\": \"2013.5\", \"xref\": \"x\", \"y0\": 0, \"y1\": 1, \"yref\": \"y domain\"}, {\"fillcolor\": \"cornsilk\", \"layer\": \"below\", \"line\": {\"width\": 0}, \"type\": \"rect\", \"x0\": \"2005.5\", \"x1\": \"2013.5\", \"xref\": \"x2\", \"y0\": 0, \"y1\": 1, \"yref\": \"y2 domain\"}, {\"fillcolor\": \"cornsilk\", \"layer\": \"below\", \"line\": {\"width\": 0}, \"type\": \"rect\", \"x0\": \"2005.5\", \"x1\": \"2013.5\", \"xref\": \"x3\", \"y0\": 0, \"y1\": 1, \"yref\": \"y3 domain\"}, {\"fillcolor\": \"honeydew\", \"layer\": \"below\", \"line\": {\"width\": 0}, \"type\": \"rect\", \"x0\": \"2013.5\", \"x1\": \"2021\", \"xref\": \"x\", \"y0\": 0, \"y1\": 1, \"yref\": \"y domain\"}, {\"fillcolor\": \"honeydew\", \"layer\": \"below\", \"line\": {\"width\": 0}, \"type\": \"rect\", \"x0\": \"2013.5\", \"x1\": \"2021\", \"xref\": \"x2\", \"y0\": 0, \"y1\": 1, \"yref\": \"y2 domain\"}, {\"fillcolor\": \"honeydew\", \"layer\": \"below\", \"line\": {\"width\": 0}, \"type\": \"rect\", \"x0\": \"2013.5\", \"x1\": \"2021\", \"xref\": \"x3\", \"y0\": 0, \"y1\": 1, \"yref\": \"y3 domain\"}], \"template\": {\"data\": {\"bar\": [{\"error_x\": {\"color\": \"#2a3f5f\"}, \"error_y\": {\"color\": \"#2a3f5f\"}, \"marker\": {\"line\": {\"color\": \"#E5ECF6\", \"width\": 0.5}}, \"type\": \"bar\"}], \"barpolar\": [{\"marker\": {\"line\": {\"color\": \"#E5ECF6\", \"width\": 0.5}}, \"type\": \"barpolar\"}], \"carpet\": [{\"aaxis\": {\"endlinecolor\": \"#2a3f5f\", \"gridcolor\": \"white\", \"linecolor\": \"white\", \"minorgridcolor\": \"white\", \"startlinecolor\": \"#2a3f5f\"}, \"baxis\": {\"endlinecolor\": \"#2a3f5f\", \"gridcolor\": \"white\", \"linecolor\": \"white\", \"minorgridcolor\": \"white\", \"startlinecolor\": \"#2a3f5f\"}, \"type\": \"carpet\"}], \"choropleth\": [{\"colorbar\": {\"outlinewidth\": 0, \"ticks\": \"\"}, \"type\": \"choropleth\"}], \"contour\": [{\"colorbar\": {\"outlinewidth\": 0, \"ticks\": \"\"}, \"colorscale\": [[0.0, \"#0d0887\"], [0.1111111111111111, \"#46039f\"], [0.2222222222222222, \"#7201a8\"], [0.3333333333333333, \"#9c179e\"], [0.4444444444444444, \"#bd3786\"], [0.5555555555555556, \"#d8576b\"], [0.6666666666666666, \"#ed7953\"], [0.7777777777777778, \"#fb9f3a\"], [0.8888888888888888, \"#fdca26\"], [1.0, \"#f0f921\"]], \"type\": \"contour\"}], \"contourcarpet\": [{\"colorbar\": {\"outlinewidth\": 0, \"ticks\": \"\"}, \"type\": \"contourcarpet\"}], \"heatmap\": [{\"colorbar\": {\"outlinewidth\": 0, \"ticks\": \"\"}, \"colorscale\": [[0.0, \"#0d0887\"], [0.1111111111111111, \"#46039f\"], [0.2222222222222222, \"#7201a8\"], [0.3333333333333333, \"#9c179e\"], [0.4444444444444444, \"#bd3786\"], [0.5555555555555556, \"#d8576b\"], [0.6666666666666666, \"#ed7953\"], [0.7777777777777778, \"#fb9f3a\"], [0.8888888888888888, \"#fdca26\"], [1.0, \"#f0f921\"]], \"type\": \"heatmap\"}], \"heatmapgl\": [{\"colorbar\": {\"outlinewidth\": 0, \"ticks\": \"\"}, \"colorscale\": [[0.0, \"#0d0887\"], [0.1111111111111111, \"#46039f\"], [0.2222222222222222, \"#7201a8\"], [0.3333333333333333, \"#9c179e\"], [0.4444444444444444, \"#bd3786\"], [0.5555555555555556, \"#d8576b\"], [0.6666666666666666, \"#ed7953\"], [0.7777777777777778, \"#fb9f3a\"], [0.8888888888888888, \"#fdca26\"], [1.0, \"#f0f921\"]], \"type\": \"heatmapgl\"}], \"histogram\": [{\"marker\": {\"colorbar\": {\"outlinewidth\": 0, \"ticks\": \"\"}}, \"type\": \"histogram\"}], \"histogram2d\": [{\"colorbar\": {\"outlinewidth\": 0, \"ticks\": \"\"}, \"colorscale\": [[0.0, \"#0d0887\"], [0.1111111111111111, \"#46039f\"], [0.2222222222222222, \"#7201a8\"], [0.3333333333333333, \"#9c179e\"], [0.4444444444444444, \"#bd3786\"], [0.5555555555555556, \"#d8576b\"], [0.6666666666666666, \"#ed7953\"], [0.7777777777777778, \"#fb9f3a\"], [0.8888888888888888, \"#fdca26\"], [1.0, \"#f0f921\"]], \"type\": \"histogram2d\"}], \"histogram2dcontour\": [{\"colorbar\": {\"outlinewidth\": 0, \"ticks\": \"\"}, \"colorscale\": [[0.0, \"#0d0887\"], [0.1111111111111111, \"#46039f\"], [0.2222222222222222, \"#7201a8\"], [0.3333333333333333, \"#9c179e\"], [0.4444444444444444, \"#bd3786\"], [0.5555555555555556, \"#d8576b\"], [0.6666666666666666, \"#ed7953\"], [0.7777777777777778, \"#fb9f3a\"], [0.8888888888888888, \"#fdca26\"], [1.0, \"#f0f921\"]], \"type\": \"histogram2dcontour\"}], \"mesh3d\": [{\"colorbar\": {\"outlinewidth\": 0, \"ticks\": \"\"}, \"type\": \"mesh3d\"}], \"parcoords\": [{\"line\": {\"colorbar\": {\"outlinewidth\": 0, \"ticks\": \"\"}}, \"type\": \"parcoords\"}], \"pie\": [{\"automargin\": true, \"type\": \"pie\"}], \"scatter\": [{\"marker\": {\"colorbar\": {\"outlinewidth\": 0, \"ticks\": \"\"}}, \"type\": \"scatter\"}], \"scatter3d\": [{\"line\": {\"colorbar\": {\"outlinewidth\": 0, \"ticks\": \"\"}}, \"marker\": {\"colorbar\": {\"outlinewidth\": 0, \"ticks\": \"\"}}, \"type\": \"scatter3d\"}], \"scattercarpet\": [{\"marker\": {\"colorbar\": {\"outlinewidth\": 0, \"ticks\": \"\"}}, \"type\": \"scattercarpet\"}], \"scattergeo\": [{\"marker\": {\"colorbar\": {\"outlinewidth\": 0, \"ticks\": \"\"}}, \"type\": \"scattergeo\"}], \"scattergl\": [{\"marker\": {\"colorbar\": {\"outlinewidth\": 0, \"ticks\": \"\"}}, \"type\": \"scattergl\"}], \"scattermapbox\": [{\"marker\": {\"colorbar\": {\"outlinewidth\": 0, \"ticks\": \"\"}}, \"type\": \"scattermapbox\"}], \"scatterpolar\": [{\"marker\": {\"colorbar\": {\"outlinewidth\": 0, \"ticks\": \"\"}}, \"type\": \"scatterpolar\"}], \"scatterpolargl\": [{\"marker\": {\"colorbar\": {\"outlinewidth\": 0, \"ticks\": \"\"}}, \"type\": \"scatterpolargl\"}], \"scatterternary\": [{\"marker\": {\"colorbar\": {\"outlinewidth\": 0, \"ticks\": \"\"}}, \"type\": \"scatterternary\"}], \"surface\": [{\"colorbar\": {\"outlinewidth\": 0, \"ticks\": \"\"}, \"colorscale\": [[0.0, \"#0d0887\"], [0.1111111111111111, \"#46039f\"], [0.2222222222222222, \"#7201a8\"], [0.3333333333333333, \"#9c179e\"], [0.4444444444444444, \"#bd3786\"], [0.5555555555555556, \"#d8576b\"], [0.6666666666666666, \"#ed7953\"], [0.7777777777777778, \"#fb9f3a\"], [0.8888888888888888, \"#fdca26\"], [1.0, \"#f0f921\"]], \"type\": \"surface\"}], \"table\": [{\"cells\": {\"fill\": {\"color\": \"#EBF0F8\"}, \"line\": {\"color\": \"white\"}}, \"header\": {\"fill\": {\"color\": \"#C8D4E3\"}, \"line\": {\"color\": \"white\"}}, \"type\": \"table\"}]}, \"layout\": {\"annotationdefaults\": {\"arrowcolor\": \"#2a3f5f\", \"arrowhead\": 0, \"arrowwidth\": 1}, \"autotypenumbers\": \"strict\", \"coloraxis\": {\"colorbar\": {\"outlinewidth\": 0, \"ticks\": \"\"}}, \"colorscale\": {\"diverging\": [[0, \"#8e0152\"], [0.1, \"#c51b7d\"], [0.2, \"#de77ae\"], [0.3, \"#f1b6da\"], [0.4, \"#fde0ef\"], [0.5, \"#f7f7f7\"], [0.6, \"#e6f5d0\"], [0.7, \"#b8e186\"], [0.8, \"#7fbc41\"], [0.9, \"#4d9221\"], [1, \"#276419\"]], \"sequential\": [[0.0, \"#0d0887\"], [0.1111111111111111, \"#46039f\"], [0.2222222222222222, \"#7201a8\"], [0.3333333333333333, \"#9c179e\"], [0.4444444444444444, \"#bd3786\"], [0.5555555555555556, \"#d8576b\"], [0.6666666666666666, \"#ed7953\"], [0.7777777777777778, \"#fb9f3a\"], [0.8888888888888888, \"#fdca26\"], [1.0, \"#f0f921\"]], \"sequentialminus\": [[0.0, \"#0d0887\"], [0.1111111111111111, \"#46039f\"], [0.2222222222222222, \"#7201a8\"], [0.3333333333333333, \"#9c179e\"], [0.4444444444444444, \"#bd3786\"], [0.5555555555555556, \"#d8576b\"], [0.6666666666666666, \"#ed7953\"], [0.7777777777777778, \"#fb9f3a\"], [0.8888888888888888, \"#fdca26\"], [1.0, \"#f0f921\"]]}, \"colorway\": [\"#636efa\", \"#EF553B\", \"#00cc96\", \"#ab63fa\", \"#FFA15A\", \"#19d3f3\", \"#FF6692\", \"#B6E880\", \"#FF97FF\", \"#FECB52\"], \"font\": {\"color\": \"#2a3f5f\"}, \"geo\": {\"bgcolor\": \"white\", \"lakecolor\": \"white\", \"landcolor\": \"#E5ECF6\", \"showlakes\": true, \"showland\": true, \"subunitcolor\": \"white\"}, \"hoverlabel\": {\"align\": \"left\"}, \"hovermode\": \"closest\", \"mapbox\": {\"style\": \"light\"}, \"paper_bgcolor\": \"white\", \"plot_bgcolor\": \"#E5ECF6\", \"polar\": {\"angularaxis\": {\"gridcolor\": \"white\", \"linecolor\": \"white\", \"ticks\": \"\"}, \"bgcolor\": \"#E5ECF6\", \"radialaxis\": {\"gridcolor\": \"white\", \"linecolor\": \"white\", \"ticks\": \"\"}}, \"scene\": {\"xaxis\": {\"backgroundcolor\": \"#E5ECF6\", \"gridcolor\": \"white\", \"gridwidth\": 2, \"linecolor\": \"white\", \"showbackground\": true, \"ticks\": \"\", \"zerolinecolor\": \"white\"}, \"yaxis\": {\"backgroundcolor\": \"#E5ECF6\", \"gridcolor\": \"white\", \"gridwidth\": 2, \"linecolor\": \"white\", \"showbackground\": true, \"ticks\": \"\", \"zerolinecolor\": \"white\"}, \"zaxis\": {\"backgroundcolor\": \"#E5ECF6\", \"gridcolor\": \"white\", \"gridwidth\": 2, \"linecolor\": \"white\", \"showbackground\": true, \"ticks\": \"\", \"zerolinecolor\": \"white\"}}, \"shapedefaults\": {\"line\": {\"color\": \"#2a3f5f\"}}, \"ternary\": {\"aaxis\": {\"gridcolor\": \"white\", \"linecolor\": \"white\", \"ticks\": \"\"}, \"baxis\": {\"gridcolor\": \"white\", \"linecolor\": \"white\", \"ticks\": \"\"}, \"bgcolor\": \"#E5ECF6\", \"caxis\": {\"gridcolor\": \"white\", \"linecolor\": \"white\", \"ticks\": \"\"}}, \"title\": {\"x\": 0.05}, \"xaxis\": {\"automargin\": true, \"gridcolor\": \"white\", \"linecolor\": \"white\", \"ticks\": \"\", \"title\": {\"standoff\": 15}, \"zerolinecolor\": \"white\", \"zerolinewidth\": 2}, \"yaxis\": {\"automargin\": true, \"gridcolor\": \"white\", \"linecolor\": \"white\", \"ticks\": \"\", \"title\": {\"standoff\": 15}, \"zerolinecolor\": \"white\", \"zerolinewidth\": 2}}}, \"title\": {\"text\": \"<b>F1 Grand Prix Wins by Engine Manufacturer </b>\", \"x\": 0.1, \"xanchor\": \"left\", \"y\": 0.92, \"yanchor\": \"top\"}, \"width\": 1000, \"xaxis\": {\"anchor\": \"y\", \"domain\": [0.0, 1.0], \"dtick\": 2, \"linecolor\": \"black\", \"linewidth\": 2, \"matches\": \"x3\", \"range\": [1995, 2020.5], \"showline\": true, \"showticklabels\": false, \"tick0\": 1996, \"ticklen\": 0, \"tickprefix\": \"<b>\", \"ticks\": \"outside\", \"ticksuffix\": \"</b>\", \"tickwidth\": 2, \"title\": {\"text\": \"\"}}, \"xaxis2\": {\"anchor\": \"y2\", \"domain\": [0.0, 1.0], \"dtick\": 2, \"linecolor\": \"black\", \"linewidth\": 2, \"matches\": \"x3\", \"range\": [1995, 2020.5], \"showline\": true, \"showticklabels\": false, \"tick0\": 1996, \"ticklen\": 0, \"tickprefix\": \"<b>\", \"ticks\": \"outside\", \"ticksuffix\": \"</b>\", \"tickwidth\": 2, \"title\": {\"text\": \"\"}}, \"xaxis3\": {\"anchor\": \"y3\", \"domain\": [0.0, 1.0], \"dtick\": 2, \"linecolor\": \"black\", \"linewidth\": 2, \"range\": [1995, 2020.5], \"showline\": true, \"tick0\": 1996, \"ticklen\": 10, \"tickprefix\": \"<b>\", \"ticks\": \"outside\", \"ticksuffix\": \"</b>\", \"tickwidth\": 2, \"title\": {\"text\": \"<b>Year</b>\"}}, \"yaxis\": {\"anchor\": \"x\", \"domain\": [0.7, 1.0], \"gridcolor\": \"lightGray\", \"linecolor\": \"black\", \"linewidth\": 2, \"range\": [0, 20.5], \"showline\": true, \"tickfont\": {\"size\": 15}, \"ticklen\": 10, \"tickprefix\": \"<b>\", \"ticks\": \"outside\", \"ticksuffix\": \"</b>\", \"tickwidth\": 2, \"title\": {\"text\": \"\"}}, \"yaxis2\": {\"anchor\": \"x2\", \"domain\": [0.35, 0.6499999999999999], \"gridcolor\": \"lightGray\", \"linecolor\": \"black\", \"linewidth\": 2, \"range\": [0, 20.5], \"showline\": true, \"tickfont\": {\"size\": 15}, \"ticklen\": 10, \"tickprefix\": \"<b>\", \"ticks\": \"outside\", \"ticksuffix\": \"</b>\", \"tickwidth\": 2, \"title\": {\"text\": \"<b>Win Count</b>\"}}, \"yaxis3\": {\"anchor\": \"x3\", \"domain\": [0.0, 0.3], \"gridcolor\": \"lightGray\", \"linecolor\": \"black\", \"linewidth\": 2, \"range\": [0, 20.5], \"showline\": true, \"tickfont\": {\"size\": 15}, \"ticklen\": 10, \"tickprefix\": \"<b>\", \"ticks\": \"outside\", \"ticksuffix\": \"</b>\", \"tickwidth\": 2, \"title\": {\"text\": \"\"}}},                        {\"responsive\": true}                    ).then(function(){\n",
       "                            \n",
       "var gd = document.getElementById('81408741-9018-45f5-962d-50bf34a72617');\n",
       "var x = new MutationObserver(function (mutations, observer) {{\n",
       "        var display = window.getComputedStyle(gd).display;\n",
       "        if (!display || display === 'none') {{\n",
       "            console.log([gd, 'removed!']);\n",
       "            Plotly.purge(gd);\n",
       "            observer.disconnect();\n",
       "        }}\n",
       "}});\n",
       "\n",
       "// Listen for the removal of the full notebook cells\n",
       "var notebookContainer = gd.closest('#notebook-container');\n",
       "if (notebookContainer) {{\n",
       "    x.observe(notebookContainer, {childList: true});\n",
       "}}\n",
       "\n",
       "// Listen for the clearing of the current output cell\n",
       "var outputEl = gd.closest('.output');\n",
       "if (outputEl) {{\n",
       "    x.observe(outputEl, {childList: true});\n",
       "}}\n",
       "\n",
       "                        })                };                });            </script>        </div>"
      ]
     },
     "metadata": {},
     "output_type": "display_data"
    }
   ],
   "source": [
    "df = top3\n",
    "df_exp = top3_exp\n",
    "df_count = engine_count_top3\n",
    "\n",
    "fig = make_subplots(rows=3, cols=1,\n",
    "                    shared_xaxes=True,\n",
    "                    vertical_spacing=0.05,\n",
    "                    #subplot_titles=('<b>Ferrari</b>', '<b>Mercedes</b>', '<b>Renault</b>')\n",
    ")\n",
    "\n",
    "i=1\n",
    "ypos = [0.95, 0.6, 0.25]\n",
    "\n",
    "for engine in df['engine'].unique():\n",
    "    \n",
    "    leg_bool=True\n",
    "    tl=10\n",
    "    xtitle=\"<b>Year</b>\"\n",
    "    ytitle=\"\"\n",
    "    if i<3:\n",
    "        leg_bool=False\n",
    "        tl=0\n",
    "        xtitle=\"\"\n",
    "    if i ==2:\n",
    "        ytitle=\"<b>Win Count</b>\"\n",
    "        \n",
    "    df1 = df.loc[df.engine == engine,:]\n",
    "    fig.add_trace(go.Bar(\n",
    "        x=df1['year'],\n",
    "        y=df1['engine_win_count'],\n",
    "        name=name_map[engine],\n",
    "        marker_color=col_map[engine],\n",
    "        hovertemplate =\n",
    "                     '<b>Year: :</b> %{x} <br>' +\n",
    "                     '<b>Win Count: </b>%{y}<extra></extra>',\n",
    "        showlegend=False\n",
    "    ), row=i, col=1)\n",
    "    \n",
    "    df2 = df_exp.loc[df_exp.engine == engine,:]\n",
    "    fig.add_trace(go.Scatter(\n",
    "        x=df2['year'],\n",
    "        y=df2['expected wins'],\n",
    "        mode='lines+markers',\n",
    "        line=dict(color='black', dash='dash', width=2),\n",
    "        marker = dict(symbol='circle', size=5),\n",
    "        name='<b>Expected Win Count</b>',\n",
    "        hovertemplate =\n",
    "                     '<b>Year: :</b> %{x} <br>' +\n",
    "                     '<b>Teams With Engine: </b>%{text}<br>' +\n",
    "                     '<b>Expected Win Count: </b>%{y}<extra></extra>',\n",
    "        text = df_count.loc[(df_count.engine == engine), \"engine_count\"],\n",
    "        showlegend=leg_bool\n",
    "    ), row=i, col=1)\n",
    "    \n",
    "    fig.update_yaxes(\n",
    "            range=[0,20.5],\n",
    "            title_text=ytitle,\n",
    "            tickwidth=2,\n",
    "            ticks=\"outside\",\n",
    "            ticklen=10,\n",
    "            tickprefix=\"<b>\",ticksuffix =\"</b>\",\n",
    "            tickfont=dict(size=15),\n",
    "            showline=True,\n",
    "            linewidth=2,\n",
    "            linecolor='black',\n",
    "            gridcolor='lightGray', \n",
    "            row=i,col=1),\n",
    "        \n",
    "    fig.update_xaxes(\n",
    "            range=[1995,2020.5],\n",
    "            tick0=1996,\n",
    "            dtick=2,\n",
    "            title_text=xtitle,\n",
    "            tickwidth=2,\n",
    "            ticks=\"outside\",\n",
    "            tickprefix=\"<b>\",ticksuffix =\"</b>\",\n",
    "            ticklen=tl,\n",
    "            showline=True,\n",
    "            linewidth=2,\n",
    "            linecolor='black',\n",
    "            row=i,col=1),\n",
    "    \n",
    "    #fig.layout.annotations[i-1].update(x=0.02, y=ypos[i-1], xanchor='left', font=dict(size=20))\n",
    "    \n",
    "    i=i+1\n",
    "\n",
    "\n",
    "fig.add_vrect(\n",
    "    x0=\"1995\", x1=\"2005.5\",\n",
    "    fillcolor=\"azure\",  # opacity=0.5,\n",
    "    layer=\"below\", line_width=0,\n",
    "),\n",
    "\n",
    "fig.add_vrect(\n",
    "    x0=\"2005.5\", x1=\"2013.5\",\n",
    "    fillcolor=\"cornsilk\",  # opacity=0.5,\n",
    "    layer=\"below\", line_width=0,\n",
    "),\n",
    "\n",
    "fig.add_vrect(\n",
    "    x0=\"2013.5\", x1=\"2021\",\n",
    "    fillcolor=\"honeydew\",  # opacity=0.5,\n",
    "    layer=\"below\", line_width=0,\n",
    "),\n",
    "\n",
    "fig.add_annotation(x=2005.5, y=17,\n",
    "                   xref=\"x\", yref=\"y\", ax=1995.5, ay=17,\n",
    "                   axref=\"x\", ayref=\"y\",\n",
    "                   arrowhead=5, arrowside=\"end+start\", arrowsize=1.5, arrowcolor='teal')\n",
    "\n",
    "fig.add_annotation(x=2000.5, y=18.5, text=\"<b>V10/12 Engines</b>\",\n",
    "                   showarrow=False, font=dict(size=18, color='teal'))\n",
    "\n",
    "fig.add_annotation(x=2005.5, y=17,\n",
    "                   xref=\"x\", yref=\"y\", ax=2013.5, ay=17,\n",
    "                   axref=\"x\", ayref=\"y\",\n",
    "                   arrowhead=5, arrowside=\"end+start\", arrowsize=1.5, arrowcolor='IndianRed')\n",
    "\n",
    "fig.add_annotation(x=2009.5, y=18.5, text=\"<b>V8 Engines</b>\",\n",
    "                   showarrow=False, font=dict(size=18, color='IndianRed'))\n",
    "\n",
    "fig.add_annotation(x=2020.5, y=17,\n",
    "                   xref=\"x\", yref=\"y\", ax=2013.5, ay=17,\n",
    "                   axref=\"x\", ayref=\"y\",\n",
    "                   arrowhead=5, arrowside=\"end+start\", arrowsize=1.5, arrowcolor='darkgreen')\n",
    "\n",
    "fig.add_annotation(x=2017, y=18.5, text=\"<b>V6 Hybrid Engines</b>\",\n",
    "                   showarrow=False, font=dict(size=18, color='darkgreen'))\n",
    "\n",
    "\n",
    "fig.add_layout_image(\n",
    "    dict(\n",
    "        source=encoded_image_ferrari,\n",
    "        xref=\"paper\", yref=\"paper\",\n",
    "        x=0.15, y=0.84,\n",
    "        sizex=0.15, sizey=0.15,\n",
    "        xanchor=\"right\", yanchor=\"bottom\"\n",
    "    )\n",
    ")\n",
    "\n",
    "fig.add_layout_image(\n",
    "    dict(\n",
    "        source=encoded_image_mercedes,\n",
    "        xref=\"paper\", yref=\"paper\",\n",
    "        x=0.22, y=0.57,\n",
    "        sizex=0.2, sizey=0.2,\n",
    "        xanchor=\"right\", yanchor=\"bottom\"\n",
    "    )\n",
    ")\n",
    "\n",
    "fig.add_layout_image(\n",
    "    dict(\n",
    "        source=encoded_image_renault,\n",
    "        xref=\"paper\", yref=\"paper\",\n",
    "        x=0.17, y=0.23,\n",
    "        sizex=0.15, sizey=0.15,\n",
    "        xanchor=\"right\", yanchor=\"bottom\"\n",
    "    )\n",
    ")\n",
    "\n",
    "fig.update_layout(\n",
    "    autosize=False,\n",
    "    width=1000,\n",
    "    height=800,\n",
    "    \n",
    "    plot_bgcolor='rgba(0,0,0,0)',\n",
    "    \n",
    "    title = dict(\n",
    "        text=\"<b>F1 Grand Prix Wins by Engine Manufacturer </b>\",\n",
    "        xanchor='left',\n",
    "        yanchor='top',\n",
    "        y=0.92,\n",
    "        x=0.1\n",
    "    ),\n",
    "    \n",
    "    legend=dict(\n",
    "        orientation=\"h\",\n",
    "        yanchor=\"bottom\", y=1.02,\n",
    "        xanchor=\"right\", x=1\n",
    "    ),\n",
    "    \n",
    "    font=dict(\n",
    "        size=15,\n",
    "    color='black')\n",
    ")\n",
    "    \n",
    "\n",
    "\n",
    "    \n",
    "fig.show()\n",
    "\n"
   ]
  },
  {
   "cell_type": "code",
   "execution_count": null,
   "metadata": {},
   "outputs": [],
   "source": []
  }
 ],
 "metadata": {
  "kernelspec": {
   "display_name": "Python 3",
   "language": "python",
   "name": "python3"
  },
  "language_info": {
   "codemirror_mode": {
    "name": "ipython",
    "version": 3
   },
   "file_extension": ".py",
   "mimetype": "text/x-python",
   "name": "python",
   "nbconvert_exporter": "python",
   "pygments_lexer": "ipython3",
   "version": "3.7.3"
  }
 },
 "nbformat": 4,
 "nbformat_minor": 2
}
