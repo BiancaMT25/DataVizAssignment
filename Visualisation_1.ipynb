{
 "cells": [
  {
   "cell_type": "markdown",
   "metadata": {},
   "source": [
    "### Import libraries"
   ]
  },
  {
   "cell_type": "code",
   "execution_count": 47,
   "metadata": {},
   "outputs": [],
   "source": [
    "import seaborn as sns\n",
    "import matplotlib.pyplot as plt\n",
    "import plotly.graph_objects as go\n",
    "import numpy as np\n",
    "import pandas as pd\n",
    "%matplotlib inline\n",
    "\n",
    "pd.set_option('display.max_columns', None)\n",
    "pd.set_option('display.max_rows', None)\n",
    "pd.set_option('display.max_colwidth', -1)"
   ]
  },
  {
   "cell_type": "markdown",
   "metadata": {},
   "source": [
    "### Import data"
   ]
  },
  {
   "cell_type": "code",
   "execution_count": 48,
   "metadata": {},
   "outputs": [
    {
     "ename": "FileNotFoundError",
     "evalue": "[Errno 2] File b'F1_data\\\\lap_times.csv' does not exist: b'F1_data\\\\lap_times.csv'",
     "output_type": "error",
     "traceback": [
      "\u001b[1;31m---------------------------------------------------------------------------\u001b[0m",
      "\u001b[1;31mFileNotFoundError\u001b[0m                         Traceback (most recent call last)",
      "\u001b[1;32m<ipython-input-48-050eb748ed1f>\u001b[0m in \u001b[0;36m<module>\u001b[1;34m\u001b[0m\n\u001b[0;32m      1\u001b[0m \u001b[1;31m# kaggle data:\u001b[0m\u001b[1;33m\u001b[0m\u001b[1;33m\u001b[0m\u001b[1;33m\u001b[0m\u001b[0m\n\u001b[1;32m----> 2\u001b[1;33m \u001b[0mlap_times\u001b[0m \u001b[1;33m=\u001b[0m \u001b[0mpd\u001b[0m\u001b[1;33m.\u001b[0m\u001b[0mread_csv\u001b[0m\u001b[1;33m(\u001b[0m\u001b[1;34mr\"F1_data\\lap_times.csv\"\u001b[0m\u001b[1;33m)\u001b[0m\u001b[1;33m\u001b[0m\u001b[1;33m\u001b[0m\u001b[0m\n\u001b[0m\u001b[0;32m      3\u001b[0m \u001b[0mdrivers\u001b[0m \u001b[1;33m=\u001b[0m \u001b[0mpd\u001b[0m\u001b[1;33m.\u001b[0m\u001b[0mread_csv\u001b[0m\u001b[1;33m(\u001b[0m\u001b[1;34mr\"F1_data\\drivers.csv\"\u001b[0m\u001b[1;33m)\u001b[0m\u001b[1;33m\u001b[0m\u001b[1;33m\u001b[0m\u001b[0m\n\u001b[0;32m      4\u001b[0m \u001b[0mresults\u001b[0m \u001b[1;33m=\u001b[0m \u001b[0mpd\u001b[0m\u001b[1;33m.\u001b[0m\u001b[0mread_csv\u001b[0m\u001b[1;33m(\u001b[0m\u001b[1;34mr\"F1_data\\results.csv\"\u001b[0m\u001b[1;33m)\u001b[0m\u001b[1;33m\u001b[0m\u001b[1;33m\u001b[0m\u001b[0m\n\u001b[0;32m      5\u001b[0m \u001b[1;33m\u001b[0m\u001b[0m\n",
      "\u001b[1;32m~\\Anaconda3\\envs\\CA683\\lib\\site-packages\\pandas\\io\\parsers.py\u001b[0m in \u001b[0;36mparser_f\u001b[1;34m(filepath_or_buffer, sep, delimiter, header, names, index_col, usecols, squeeze, prefix, mangle_dupe_cols, dtype, engine, converters, true_values, false_values, skipinitialspace, skiprows, skipfooter, nrows, na_values, keep_default_na, na_filter, verbose, skip_blank_lines, parse_dates, infer_datetime_format, keep_date_col, date_parser, dayfirst, iterator, chunksize, compression, thousands, decimal, lineterminator, quotechar, quoting, doublequote, escapechar, comment, encoding, dialect, tupleize_cols, error_bad_lines, warn_bad_lines, delim_whitespace, low_memory, memory_map, float_precision)\u001b[0m\n\u001b[0;32m    700\u001b[0m                     skip_blank_lines=skip_blank_lines)\n\u001b[0;32m    701\u001b[0m \u001b[1;33m\u001b[0m\u001b[0m\n\u001b[1;32m--> 702\u001b[1;33m         \u001b[1;32mreturn\u001b[0m \u001b[0m_read\u001b[0m\u001b[1;33m(\u001b[0m\u001b[0mfilepath_or_buffer\u001b[0m\u001b[1;33m,\u001b[0m \u001b[0mkwds\u001b[0m\u001b[1;33m)\u001b[0m\u001b[1;33m\u001b[0m\u001b[1;33m\u001b[0m\u001b[0m\n\u001b[0m\u001b[0;32m    703\u001b[0m \u001b[1;33m\u001b[0m\u001b[0m\n\u001b[0;32m    704\u001b[0m     \u001b[0mparser_f\u001b[0m\u001b[1;33m.\u001b[0m\u001b[0m__name__\u001b[0m \u001b[1;33m=\u001b[0m \u001b[0mname\u001b[0m\u001b[1;33m\u001b[0m\u001b[1;33m\u001b[0m\u001b[0m\n",
      "\u001b[1;32m~\\Anaconda3\\envs\\CA683\\lib\\site-packages\\pandas\\io\\parsers.py\u001b[0m in \u001b[0;36m_read\u001b[1;34m(filepath_or_buffer, kwds)\u001b[0m\n\u001b[0;32m    427\u001b[0m \u001b[1;33m\u001b[0m\u001b[0m\n\u001b[0;32m    428\u001b[0m     \u001b[1;31m# Create the parser.\u001b[0m\u001b[1;33m\u001b[0m\u001b[1;33m\u001b[0m\u001b[1;33m\u001b[0m\u001b[0m\n\u001b[1;32m--> 429\u001b[1;33m     \u001b[0mparser\u001b[0m \u001b[1;33m=\u001b[0m \u001b[0mTextFileReader\u001b[0m\u001b[1;33m(\u001b[0m\u001b[0mfilepath_or_buffer\u001b[0m\u001b[1;33m,\u001b[0m \u001b[1;33m**\u001b[0m\u001b[0mkwds\u001b[0m\u001b[1;33m)\u001b[0m\u001b[1;33m\u001b[0m\u001b[1;33m\u001b[0m\u001b[0m\n\u001b[0m\u001b[0;32m    430\u001b[0m \u001b[1;33m\u001b[0m\u001b[0m\n\u001b[0;32m    431\u001b[0m     \u001b[1;32mif\u001b[0m \u001b[0mchunksize\u001b[0m \u001b[1;32mor\u001b[0m \u001b[0miterator\u001b[0m\u001b[1;33m:\u001b[0m\u001b[1;33m\u001b[0m\u001b[1;33m\u001b[0m\u001b[0m\n",
      "\u001b[1;32m~\\Anaconda3\\envs\\CA683\\lib\\site-packages\\pandas\\io\\parsers.py\u001b[0m in \u001b[0;36m__init__\u001b[1;34m(self, f, engine, **kwds)\u001b[0m\n\u001b[0;32m    893\u001b[0m             \u001b[0mself\u001b[0m\u001b[1;33m.\u001b[0m\u001b[0moptions\u001b[0m\u001b[1;33m[\u001b[0m\u001b[1;34m'has_index_names'\u001b[0m\u001b[1;33m]\u001b[0m \u001b[1;33m=\u001b[0m \u001b[0mkwds\u001b[0m\u001b[1;33m[\u001b[0m\u001b[1;34m'has_index_names'\u001b[0m\u001b[1;33m]\u001b[0m\u001b[1;33m\u001b[0m\u001b[1;33m\u001b[0m\u001b[0m\n\u001b[0;32m    894\u001b[0m \u001b[1;33m\u001b[0m\u001b[0m\n\u001b[1;32m--> 895\u001b[1;33m         \u001b[0mself\u001b[0m\u001b[1;33m.\u001b[0m\u001b[0m_make_engine\u001b[0m\u001b[1;33m(\u001b[0m\u001b[0mself\u001b[0m\u001b[1;33m.\u001b[0m\u001b[0mengine\u001b[0m\u001b[1;33m)\u001b[0m\u001b[1;33m\u001b[0m\u001b[1;33m\u001b[0m\u001b[0m\n\u001b[0m\u001b[0;32m    896\u001b[0m \u001b[1;33m\u001b[0m\u001b[0m\n\u001b[0;32m    897\u001b[0m     \u001b[1;32mdef\u001b[0m \u001b[0mclose\u001b[0m\u001b[1;33m(\u001b[0m\u001b[0mself\u001b[0m\u001b[1;33m)\u001b[0m\u001b[1;33m:\u001b[0m\u001b[1;33m\u001b[0m\u001b[1;33m\u001b[0m\u001b[0m\n",
      "\u001b[1;32m~\\Anaconda3\\envs\\CA683\\lib\\site-packages\\pandas\\io\\parsers.py\u001b[0m in \u001b[0;36m_make_engine\u001b[1;34m(self, engine)\u001b[0m\n\u001b[0;32m   1120\u001b[0m     \u001b[1;32mdef\u001b[0m \u001b[0m_make_engine\u001b[0m\u001b[1;33m(\u001b[0m\u001b[0mself\u001b[0m\u001b[1;33m,\u001b[0m \u001b[0mengine\u001b[0m\u001b[1;33m=\u001b[0m\u001b[1;34m'c'\u001b[0m\u001b[1;33m)\u001b[0m\u001b[1;33m:\u001b[0m\u001b[1;33m\u001b[0m\u001b[1;33m\u001b[0m\u001b[0m\n\u001b[0;32m   1121\u001b[0m         \u001b[1;32mif\u001b[0m \u001b[0mengine\u001b[0m \u001b[1;33m==\u001b[0m \u001b[1;34m'c'\u001b[0m\u001b[1;33m:\u001b[0m\u001b[1;33m\u001b[0m\u001b[1;33m\u001b[0m\u001b[0m\n\u001b[1;32m-> 1122\u001b[1;33m             \u001b[0mself\u001b[0m\u001b[1;33m.\u001b[0m\u001b[0m_engine\u001b[0m \u001b[1;33m=\u001b[0m \u001b[0mCParserWrapper\u001b[0m\u001b[1;33m(\u001b[0m\u001b[0mself\u001b[0m\u001b[1;33m.\u001b[0m\u001b[0mf\u001b[0m\u001b[1;33m,\u001b[0m \u001b[1;33m**\u001b[0m\u001b[0mself\u001b[0m\u001b[1;33m.\u001b[0m\u001b[0moptions\u001b[0m\u001b[1;33m)\u001b[0m\u001b[1;33m\u001b[0m\u001b[1;33m\u001b[0m\u001b[0m\n\u001b[0m\u001b[0;32m   1123\u001b[0m         \u001b[1;32melse\u001b[0m\u001b[1;33m:\u001b[0m\u001b[1;33m\u001b[0m\u001b[1;33m\u001b[0m\u001b[0m\n\u001b[0;32m   1124\u001b[0m             \u001b[1;32mif\u001b[0m \u001b[0mengine\u001b[0m \u001b[1;33m==\u001b[0m \u001b[1;34m'python'\u001b[0m\u001b[1;33m:\u001b[0m\u001b[1;33m\u001b[0m\u001b[1;33m\u001b[0m\u001b[0m\n",
      "\u001b[1;32m~\\Anaconda3\\envs\\CA683\\lib\\site-packages\\pandas\\io\\parsers.py\u001b[0m in \u001b[0;36m__init__\u001b[1;34m(self, src, **kwds)\u001b[0m\n\u001b[0;32m   1851\u001b[0m         \u001b[0mkwds\u001b[0m\u001b[1;33m[\u001b[0m\u001b[1;34m'usecols'\u001b[0m\u001b[1;33m]\u001b[0m \u001b[1;33m=\u001b[0m \u001b[0mself\u001b[0m\u001b[1;33m.\u001b[0m\u001b[0musecols\u001b[0m\u001b[1;33m\u001b[0m\u001b[1;33m\u001b[0m\u001b[0m\n\u001b[0;32m   1852\u001b[0m \u001b[1;33m\u001b[0m\u001b[0m\n\u001b[1;32m-> 1853\u001b[1;33m         \u001b[0mself\u001b[0m\u001b[1;33m.\u001b[0m\u001b[0m_reader\u001b[0m \u001b[1;33m=\u001b[0m \u001b[0mparsers\u001b[0m\u001b[1;33m.\u001b[0m\u001b[0mTextReader\u001b[0m\u001b[1;33m(\u001b[0m\u001b[0msrc\u001b[0m\u001b[1;33m,\u001b[0m \u001b[1;33m**\u001b[0m\u001b[0mkwds\u001b[0m\u001b[1;33m)\u001b[0m\u001b[1;33m\u001b[0m\u001b[1;33m\u001b[0m\u001b[0m\n\u001b[0m\u001b[0;32m   1854\u001b[0m         \u001b[0mself\u001b[0m\u001b[1;33m.\u001b[0m\u001b[0munnamed_cols\u001b[0m \u001b[1;33m=\u001b[0m \u001b[0mself\u001b[0m\u001b[1;33m.\u001b[0m\u001b[0m_reader\u001b[0m\u001b[1;33m.\u001b[0m\u001b[0munnamed_cols\u001b[0m\u001b[1;33m\u001b[0m\u001b[1;33m\u001b[0m\u001b[0m\n\u001b[0;32m   1855\u001b[0m \u001b[1;33m\u001b[0m\u001b[0m\n",
      "\u001b[1;32mpandas/_libs/parsers.pyx\u001b[0m in \u001b[0;36mpandas._libs.parsers.TextReader.__cinit__\u001b[1;34m()\u001b[0m\n",
      "\u001b[1;32mpandas/_libs/parsers.pyx\u001b[0m in \u001b[0;36mpandas._libs.parsers.TextReader._setup_parser_source\u001b[1;34m()\u001b[0m\n",
      "\u001b[1;31mFileNotFoundError\u001b[0m: [Errno 2] File b'F1_data\\\\lap_times.csv' does not exist: b'F1_data\\\\lap_times.csv'"
     ]
    }
   ],
   "source": [
    "# kaggle data:\n",
    "lap_times = pd.read_csv(r\"F1_data\\lap_times.csv\")\n",
    "drivers = pd.read_csv(r\"F1_data\\drivers.csv\")\n",
    "results = pd.read_csv(r\"F1_data\\results.csv\")\n",
    "\n",
    "# scraped data:\n",
    "circuits = pd.read_csv(r\"data_cleaned\\circuits.csv\")\n",
    "races = pd.read_csv(r\"data_cleaned\\races.csv\")\n",
    "engines = pd.read_csv(r\"data_cleaned\\engines.csv\")\n",
    "\n",
    "# merged data:\n",
    "teams = pd.read_csv(r\"data_cleaned\\teams.csv\")\n",
    "lap_speeds = pd.read_csv(r\"data_cleaned\\lap_speeds.csv\")\n",
    "main_drivers = pd.read_csv(r\"data_cleaned\\main_drivers .csv\")\n",
    "constructors = pd.read_csv(r\"data_cleaned\\constructors.csv\")"
   ]
  },
  {
   "cell_type": "markdown",
   "metadata": {},
   "source": [
    "### Which teams have competed the most since 1996"
   ]
  },
  {
   "cell_type": "code",
   "execution_count": 16,
   "metadata": {},
   "outputs": [
    {
     "data": {
      "image/png": "[encoded data removed]",
      "text/plain": [
       "<Figure size 576x576 with 1 Axes>"
      ]
     },
     "metadata": {},
     "output_type": "display_data"
    }
   ],
   "source": [
    "teams2 = teams.loc[teams.year > 1995,:].copy()\n",
    "teams2['constructorRef_mapped'].fillna(teams2.constructorRef, inplace=True)\n",
    "race_counts = pd.DataFrame({'race_count' : teams2.groupby(['constructorRef_mapped'])['raceId']\n",
    "              .nunique()}).reset_index()\n",
    "\n",
    "sns.set(rc={'figure.figsize':(8,8)})\n",
    "sns.set(style=\"white\")\n",
    "    \n",
    "ax = sns.barplot(x='race_count',\n",
    "            y=\"constructorRef_mapped\", \n",
    "            data=race_counts, \n",
    "            orient='h',\n",
    "            color='steelblue',\n",
    "            order=race_counts.sort_values('race_count', ascending=False).constructorRef_mapped)\n",
    "\n",
    "ax.set_title('Figure 1: Race Count by Constructor (1996-2020)', fontsize=18, fontweight='bold')\n",
    "\n",
    "for tick in ax.xaxis.get_major_ticks():\n",
    "    tick.label.set_fontsize(12)\n",
    "    tick.label.set_fontweight('bold')\n",
    "    \n",
    "for tick in ax.yaxis.get_major_ticks():\n",
    "    tick.label.set_fontsize(12)\n",
    "    tick.label.set_fontweight('bold')\n",
    "\n",
    "plt.xlabel('')\n",
    "plt.ylabel('')\n",
    "\n",
    "sns.despine()"
   ]
  },
  {
   "cell_type": "markdown",
   "metadata": {},
   "source": [
    "### Get some metadata for lap speeds"
   ]
  },
  {
   "cell_type": "code",
   "execution_count": 24,
   "metadata": {},
   "outputs": [],
   "source": [
    "df = lap_speeds[['raceId', 'year', 'driverId', 'lap', 'position', 'km_per_sec', 'km_per_min']].merge(races[['raceId', 'circuitId']], on ='raceId', how='left')\n",
    "df = df.merge(teams[['raceId', 'driverId', 'constructorId', 'constructorRef_mapped']], on=['raceId', 'driverId'], how='left')\n",
    "df = df.merge(circuits[['circuitId', 'circuitRef']], on='circuitId', how='left')\n",
    "df.head()\n",
    "\n",
    "lap_stats = pd.DataFrame({'avg_km_min' : df.groupby(['year'])['km_per_min'].mean(),\n",
    "                          'min_km_min' : df.groupby(['year'])['km_per_min'].min(),\n",
    "                          'max_km_min' : df.groupby(['year'])['km_per_min'].max()}\n",
    "                               ).sort_values(['year']).reset_index()"
   ]
  },
  {
   "cell_type": "code",
   "execution_count": 19,
   "metadata": {},
   "outputs": [
    {
     "data": {
      "image/png": "[encoded data removed]",
      "text/plain": [
       "<Figure size 576x360 with 1 Axes>"
      ]
     },
     "metadata": {},
     "output_type": "display_data"
    }
   ],
   "source": [
    "sns.set(rc={'figure.figsize':(8,5)})\n",
    "sns.set(style=\"white\")\n",
    "\n",
    "ax = sns.lineplot(x='year',\n",
    "            y='avg_km_min', \n",
    "            data=lap_stats)\n",
    "    \n",
    "ax.set_title('Average Lap Speed by Year', fontsize=16, fontweight='bold')\n",
    "ax.set_ylabel('Km/min', fontsize=13, fontweight='bold')\n",
    "plt.xlabel('')\n",
    "\n",
    "for tick in ax.xaxis.get_major_ticks():\n",
    "    tick.label.set_fontsize(15)\n",
    "    tick.label.set_fontweight('bold')\n",
    "\n",
    "for tick in ax.yaxis.get_major_ticks():\n",
    "    tick.label.set_fontsize(15)\n",
    "    tick.label.set_fontweight('bold')\n",
    " \n",
    "\n",
    "sns.despine(left=True, bottom=True)"
   ]
  },
  {
   "cell_type": "markdown",
   "metadata": {},
   "source": [
    "### Calculate average lap speed by year and constructor"
   ]
  },
  {
   "cell_type": "code",
   "execution_count": 20,
   "metadata": {},
   "outputs": [
    {
     "data": {
      "text/html": [
       "<div>\n",
       "<style scoped>\n",
       "    .dataframe tbody tr th:only-of-type {\n",
       "        vertical-align: middle;\n",
       "    }\n",
       "\n",
       "    .dataframe tbody tr th {\n",
       "        vertical-align: top;\n",
       "    }\n",
       "\n",
       "    .dataframe thead th {\n",
       "        text-align: right;\n",
       "    }\n",
       "</style>\n",
       "<table border=\"1\" class=\"dataframe\">\n",
       "  <thead>\n",
       "    <tr style=\"text-align: right;\">\n",
       "      <th></th>\n",
       "      <th>year</th>\n",
       "      <th>constructorRef_mapped</th>\n",
       "      <th>avg_lap_speed</th>\n",
       "      <th>drivers</th>\n",
       "    </tr>\n",
       "  </thead>\n",
       "  <tbody>\n",
       "    <tr>\n",
       "      <th>0</th>\n",
       "      <td>1996</td>\n",
       "      <td>alfa</td>\n",
       "      <td>2.961613</td>\n",
       "      <td>Frentzen, Herbert</td>\n",
       "    </tr>\n",
       "    <tr>\n",
       "      <th>2</th>\n",
       "      <td>1997</td>\n",
       "      <td>alfa</td>\n",
       "      <td>3.203475</td>\n",
       "      <td>Herbert, Morbidelli</td>\n",
       "    </tr>\n",
       "    <tr>\n",
       "      <th>4</th>\n",
       "      <td>1998</td>\n",
       "      <td>alfa</td>\n",
       "      <td>3.095327</td>\n",
       "      <td>Alesi, Herbert</td>\n",
       "    </tr>\n",
       "    <tr>\n",
       "      <th>6</th>\n",
       "      <td>1999</td>\n",
       "      <td>alfa</td>\n",
       "      <td>3.181770</td>\n",
       "      <td>Alesi, Diniz</td>\n",
       "    </tr>\n",
       "    <tr>\n",
       "      <th>8</th>\n",
       "      <td>2000</td>\n",
       "      <td>alfa</td>\n",
       "      <td>3.181504</td>\n",
       "      <td>Diniz, Salo</td>\n",
       "    </tr>\n",
       "  </tbody>\n",
       "</table>\n",
       "</div>"
      ],
      "text/plain": [
       "   year constructorRef_mapped  avg_lap_speed              drivers\n",
       "0  1996  alfa                  2.961613       Frentzen, Herbert  \n",
       "2  1997  alfa                  3.203475       Herbert, Morbidelli\n",
       "4  1998  alfa                  3.095327       Alesi, Herbert     \n",
       "6  1999  alfa                  3.181770       Alesi, Diniz       \n",
       "8  2000  alfa                  3.181504       Diniz, Salo        "
      ]
     },
     "execution_count": 20,
     "metadata": {},
     "output_type": "execute_result"
    }
   ],
   "source": [
    "avg_lap_speed = pd.DataFrame({'avg_lap_speed' : df.groupby(['year', 'constructorRef_mapped'])['km_per_min']\n",
    "              .mean()}).sort_values(['constructorRef_mapped', 'year']).reset_index()\n",
    "\n",
    "avg_lap_speed = avg_lap_speed.sort_values([\"constructorRef_mapped\",\"year\"])\n",
    "avg_lap_speed = avg_lap_speed.merge(main_drivers, on = ['year', 'constructorRef_mapped'], how='left') \n",
    "avg_lap_speed['drivers'] = avg_lap_speed.groupby(['year', 'constructorRef_mapped'])['surname'].transform(lambda x : ', '.join(x))\n",
    "avg_lap_speed = avg_lap_speed[['year', 'constructorRef_mapped', 'avg_lap_speed', 'drivers']].drop_duplicates()\n",
    "\n",
    "avg_lap_speed.to_csv(r\"graph_data\\avg_lap_speed.csv\", index=False)\n",
    "\n",
    "avg_lap_speed.head()"
   ]
  },
  {
   "cell_type": "code",
   "execution_count": 38,
   "metadata": {},
   "outputs": [],
   "source": [
    "constructor_names = {'alfa': 'Alfa Romeo',\n",
    "                   'alphatauri': 'AlphaTauri',\n",
    "                   'mclaren': 'McLaren',\n",
    "                   'mercedes': 'Mercedes',\n",
    "                   'racing_point': 'Racing Point',\n",
    "                   'red_bull': 'Red Bull',\n",
    "                   'renault': 'Renault',\n",
    "                   'ferrari': 'Ferrari',\n",
    "                   'haas': 'Haas',\n",
    "                   'williams': 'Williams'}\n",
    "\n",
    "line_map = {'mercedes': 'solid',\n",
    "          'red_bull':   'solid',\n",
    "          'racing_point': 'dash',\n",
    "          'mclaren': 'solid',\n",
    "          'renault': 'solid',\n",
    "          'ferrari': 'solid',\n",
    "          'alphatauri': 'dot',\n",
    "          'alfa': 'dot',\n",
    "          'haas': 'dash',\n",
    "          'williams': 'dot'}\n",
    "\n",
    "\n",
    "col_map = {'mercedes': '#484848',\n",
    "          'red_bull': '#4575b4',\n",
    "          'racing_point': '#484848',\n",
    "          'mclaren': '#fc8d59',\n",
    "          'renault': '#fee090',\n",
    "          'ferrari': '#d73027',\n",
    "          'alphatauri': '#4575b4',\n",
    "          'alfa': '#d73027',\n",
    "          'haas': '#d73027',\n",
    "          'williams': '#484848'}"
   ]
  },
  {
   "cell_type": "code",
   "execution_count": 39,
   "metadata": {},
   "outputs": [],
   "source": [
    "max_speeds = avg_lap_speed.loc[avg_lap_speed.groupby(['year'])['avg_lap_speed'].idxmax()].reset_index(drop=True)\n",
    "min_speeds = avg_lap_speed.loc[avg_lap_speed.groupby(['year'])['avg_lap_speed'].idxmin()].reset_index(drop=True)"
   ]
  },
  {
   "cell_type": "code",
   "execution_count": 46,
   "metadata": {},
   "outputs": [
    {
     "data": {
      "application/vnd.plotly.v1+json": {
       "config": {
        "plotlyServerURL": "https://plot.ly"
       },
       "data": [
        {
         "hovertemplate": "<b>Max Speed: </b>%{y}<br><extra></extra>",
         "line": {
          "color": "rgb(217, 217, 217)"
         },
         "mode": "lines",
         "showlegend": false,
         "type": "scatter",
         "x": [
          1996,
          1997,
          1998,
          1999,
          2000,
          2001,
          2002,
          2003,
          2004,
          2005,
          2006,
          2007,
          2008,
          2009,
          2010,
          2011,
          2012,
          2013,
          2014,
          2015,
          2016,
          2017,
          2018,
          2019,
          2020
         ],
         "y": [
          3.1084044427352673,
          3.303959288748481,
          3.185123164816,
          3.204275049963047,
          3.1992287610295227,
          3.3440364823926276,
          3.3281482554703294,
          3.3262749089754453,
          3.4380391288879726,
          3.4372005124033627,
          3.334809286181929,
          3.293048514804539,
          3.219537073123103,
          3.268783536911847,
          3.187350108849963,
          3.141586450645891,
          3.1551948524419475,
          3.1795959768897175,
          3.150959350575007,
          3.1593323187662494,
          3.169693847140866,
          3.3361238343928523,
          3.317520004490417,
          3.351973283686326,
          3.443768636398879
         ]
        },
        {
         "fill": "tonexty",
         "hovertemplate": "<b>Min Speed: </b>%{y}<br><extra></extra>",
         "line": {
          "color": "rgb(217, 217, 217)"
         },
         "mode": "lines",
         "name": "Average Speed Range",
         "type": "scatter",
         "x": [
          1996,
          1997,
          1998,
          1999,
          2000,
          2001,
          2002,
          2003,
          2004,
          2005,
          2006,
          2007,
          2008,
          2009,
          2010,
          2011,
          2012,
          2013,
          2014,
          2015,
          2016,
          2017,
          2018,
          2019,
          2020
         ],
         "y": [
          2.9616130867665627,
          3.038795825071712,
          3.039218979839157,
          3.0938971151307593,
          3.126133598006944,
          3.1511338293328697,
          3.14279302239688,
          3.1905311132630128,
          3.220163388133306,
          3.235284838765995,
          3.179346693197158,
          3.1719915245209798,
          3.133083036393462,
          3.168442609875517,
          3.080417682651935,
          3.0461601706066133,
          3.0983563825469664,
          3.1154252459554606,
          3.089798912810877,
          3.0483492844212163,
          3.0775847803645013,
          3.2084175512864372,
          3.2103743053733003,
          3.2280983409649306,
          3.3517850371749813
         ]
        },
        {
         "hovertemplate": "<b>Constructor:</b> Alfa Romeo <br><b>Drivers:</b> %{text}<extra></extra>",
         "line": {
          "color": "#d73027",
          "dash": "dot"
         },
         "mode": "lines",
         "name": "Alfa Romeo",
         "text": [
          "Frentzen, Herbert",
          "Herbert, Morbidelli",
          "Alesi, Herbert",
          "Alesi, Diniz",
          "Diniz, Salo",
          "Heidfeld, Räikkönen",
          "Heidfeld, Massa",
          "Frentzen, Heidfeld",
          "Fisichella, Massa",
          "Massa, Villeneuve",
          "Heidfeld, Villeneuve",
          "Heidfeld, Kubica",
          "Heidfeld, Kubica",
          "Heidfeld, Kubica",
          "Kobayashi, de la Rosa",
          "Kobayashi, Pérez",
          "Kobayashi, Pérez",
          "Gutiérrez, Hülkenberg",
          "Gutiérrez, Sutil",
          "Ericsson, Nasr",
          "Ericsson, Nasr",
          "Ericsson, Wehrlein",
          "Ericsson, Leclerc",
          "Giovinazzi, Räikkönen",
          "Giovinazzi, Räikkönen"
         ],
         "type": "scatter",
         "x": [
          1996,
          1997,
          1998,
          1999,
          2000,
          2001,
          2002,
          2003,
          2004,
          2005,
          2006,
          2007,
          2008,
          2009,
          2010,
          2011,
          2012,
          2013,
          2014,
          2015,
          2016,
          2017,
          2018,
          2019,
          2020
         ],
         "y": [
          2.9616130867665627,
          3.203475073233089,
          3.09532721136843,
          3.1817698873406717,
          3.181503834261114,
          3.2879219932926786,
          3.242093109577445,
          3.264991785900433,
          3.415059506774975,
          3.336415824299738,
          3.271603886805552,
          3.2634103006675774,
          3.207650474109146,
          3.2330334947586423,
          3.170161504705587,
          3.0734365522194724,
          3.111430411943973,
          3.1235119492841217,
          3.1127411616220813,
          3.0892376742385332,
          3.0775847803645013,
          3.2084175512864372,
          3.243266832908782,
          3.2656529810187345,
          3.378881207847727
         ]
        },
        {
         "hovertemplate": "<b>Constructor:</b> AlphaTauri <br><b>Drivers:</b> %{text}<extra></extra>",
         "line": {
          "color": "#4575b4",
          "dash": "dot"
         },
         "mode": "lines",
         "name": "AlphaTauri",
         "text": [
          "Lamy, Fisichella",
          "Katayama, Marques",
          "Nakano, Tuero",
          "Gené, Badoer",
          "Gené, Mazzacane",
          "Alonso, Marques",
          "Webber, Yoong",
          "Verstappen, Wilson",
          "Baumgartner, Bruni",
          "Albers, Friesacher",
          "Liuzzi, Speed",
          "Liuzzi, Speed",
          "Bourdais, Vettel",
          "Buemi, Bourdais",
          "Alguersuari, Buemi",
          "Alguersuari, Buemi",
          "Ricciardo, Vergne",
          "Ricciardo, Vergne",
          "Kvyat, Vergne",
          "Sainz, Verstappen",
          "Sainz, Kvyat",
          "Sainz, Kvyat",
          "Gasly, Hartley",
          "Kvyat, Albon",
          "Gasly, Kvyat"
         ],
         "type": "scatter",
         "x": [
          1996,
          1997,
          1998,
          1999,
          2000,
          2001,
          2002,
          2003,
          2004,
          2005,
          2006,
          2007,
          2008,
          2009,
          2010,
          2011,
          2012,
          2013,
          2014,
          2015,
          2016,
          2017,
          2018,
          2019,
          2020
         ],
         "y": [
          3.0165527216758683,
          3.038795825071712,
          3.0418531257130614,
          3.0938971151307593,
          3.168039758878002,
          3.1511338293328697,
          3.14279302239688,
          3.1905311132630128,
          3.220163388133306,
          3.235284838765995,
          3.2532729371289757,
          3.2434818128314737,
          3.20655288718096,
          3.168442609875517,
          3.1353382555803915,
          3.050591981476001,
          3.0983563825469664,
          3.123908428047905,
          3.1133316515837093,
          3.0793794804190844,
          3.0940888361226473,
          3.230891525744348,
          3.2103743053733003,
          3.266764879773397,
          3.390209121566748
         ]
        },
        {
         "hovertemplate": "<b>Constructor:</b> Ferrari <br><b>Drivers:</b> %{text}<extra></extra>",
         "line": {
          "color": "#d73027",
          "dash": "solid"
         },
         "mode": "lines",
         "name": "Ferrari",
         "text": [
          "Irvine, Schumacher",
          "Irvine, Schumacher",
          "Irvine, Schumacher",
          "Irvine, Schumacher",
          "Barrichello, Schumacher",
          "Barrichello, Schumacher",
          "Barrichello, Schumacher",
          "Barrichello, Schumacher",
          "Barrichello, Schumacher",
          "Barrichello, Schumacher",
          "Massa, Schumacher",
          "Massa, Räikkönen",
          "Massa, Räikkönen",
          "Räikkönen, Massa",
          "Alonso, Massa",
          "Alonso, Massa",
          "Alonso, Massa",
          "Alonso, Massa",
          "Alonso, Räikkönen",
          "Räikkönen, Vettel",
          "Räikkönen, Vettel",
          "Räikkönen, Vettel",
          "Räikkönen, Vettel",
          "Leclerc, Vettel",
          "Leclerc, Vettel"
         ],
         "type": "scatter",
         "x": [
          1996,
          1997,
          1998,
          1999,
          2000,
          2001,
          2002,
          2003,
          2004,
          2005,
          2006,
          2007,
          2008,
          2009,
          2010,
          2011,
          2012,
          2013,
          2014,
          2015,
          2016,
          2017,
          2018,
          2019,
          2020
         ],
         "y": [
          3.063188010657107,
          3.1621140762586726,
          3.158277951650402,
          3.1652944632848685,
          3.1840190327081683,
          3.3115901426618364,
          3.3281482554703294,
          3.3262749089754453,
          3.4354980909032404,
          3.362029508528891,
          3.3236516115631054,
          3.2705027849465282,
          3.215887363578497,
          3.239304427834385,
          3.1652611705511036,
          3.141586450645891,
          3.110398024023888,
          3.1795959768897175,
          3.1009729541147686,
          3.139743542592858,
          3.169044070508765,
          3.3361238343928523,
          3.317520004490417,
          3.351973283686326,
          3.3517850371749813
         ]
        },
        {
         "hovertemplate": "<b>Constructor:</b> Haas <br><b>Drivers:</b> %{text}<extra></extra>",
         "line": {
          "color": "#d73027",
          "dash": "dash"
         },
         "mode": "lines",
         "name": "Haas",
         "text": [
          "Grosjean, Gutiérrez",
          "Grosjean, Magnussen",
          "Grosjean, Magnussen",
          "Grosjean, Magnussen",
          "Magnussen, Grosjean"
         ],
         "type": "scatter",
         "x": [
          2016,
          2017,
          2018,
          2019,
          2020
         ],
         "y": [
          3.1190902140562216,
          3.213017742841541,
          3.2625093981067392,
          3.230561848405293,
          3.3652532086590212
         ]
        },
        {
         "hovertemplate": "<b>Constructor:</b> McLaren <br><b>Drivers:</b> %{text}<extra></extra>",
         "line": {
          "color": "#fc8d59",
          "dash": "solid"
         },
         "mode": "lines",
         "name": "McLaren",
         "text": [
          "Coulthard, Häkkinen",
          "Coulthard, Häkkinen",
          "Coulthard, Häkkinen",
          "Coulthard, Häkkinen",
          "Coulthard, Häkkinen",
          "Coulthard, Häkkinen",
          "Coulthard, Räikkönen",
          "Coulthard, Räikkönen",
          "Coulthard, Räikkönen",
          "Räikkönen, Pablo Montoya",
          "Räikkönen, Pablo Montoya",
          "Alonso, Hamilton",
          "Hamilton, Kovalainen",
          "Hamilton, Kovalainen",
          "Button, Hamilton",
          "Button, Hamilton",
          "Button, Hamilton",
          "Button, Pérez",
          "Button, Magnussen",
          "Button, Alonso",
          "Button, Alonso",
          "Vandoorne, Alonso",
          "Alonso, Vandoorne",
          "Norris, Sainz",
          "Norris, Sainz"
         ],
         "type": "scatter",
         "x": [
          1996,
          1997,
          1998,
          1999,
          2000,
          2001,
          2002,
          2003,
          2004,
          2005,
          2006,
          2007,
          2008,
          2009,
          2010,
          2011,
          2012,
          2013,
          2014,
          2015,
          2016,
          2017,
          2018,
          2019,
          2020
         ],
         "y": [
          3.0364649120983165,
          3.303959288748481,
          3.185123164816,
          3.1937869250654263,
          3.194871399408494,
          3.269238858529036,
          3.283340541063127,
          3.295669465705724,
          3.434217400898208,
          3.3996588503789784,
          3.31157709397549,
          3.293048514804539,
          3.209911028611504,
          3.212454108305595,
          3.187350108849963,
          3.1362983794252433,
          3.128257112327256,
          3.1409518737452355,
          3.1081475337692996,
          3.0657152128451814,
          3.091711225200715,
          3.2218213975271524,
          3.244964341695639,
          3.2682391633731522,
          3.4006426335068065
         ]
        },
        {
         "hovertemplate": "<b>Constructor:</b> Mercedes <br><b>Drivers:</b> %{text}<extra></extra>",
         "line": {
          "color": "#484848",
          "dash": "solid"
         },
         "mode": "lines",
         "name": "Mercedes",
         "text": [
          "Katayama, Salo",
          "Salo, Verstappen",
          "Takagi, Rosset",
          "Villeneuve, Zonta",
          "Villeneuve, Zonta",
          "Panis, Villeneuve",
          "Panis, Villeneuve",
          "Button, Villeneuve",
          "Button, Sato",
          "Button, Sato",
          "Barrichello, Button",
          "Barrichello, Button",
          "Barrichello, Button",
          "Barrichello, Button",
          "Rosberg, Schumacher",
          "Rosberg, Schumacher",
          "Rosberg, Schumacher",
          "Hamilton, Rosberg",
          "Hamilton, Rosberg",
          "Hamilton, Rosberg",
          "Hamilton, Rosberg",
          "Bottas, Hamilton",
          "Bottas, Hamilton",
          "Bottas, Hamilton",
          "Bottas, Hamilton"
         ],
         "type": "scatter",
         "x": [
          1996,
          1997,
          1998,
          1999,
          2000,
          2001,
          2002,
          2003,
          2004,
          2005,
          2006,
          2007,
          2008,
          2009,
          2010,
          2011,
          2012,
          2013,
          2014,
          2015,
          2016,
          2017,
          2018,
          2019,
          2020
         ],
         "y": [
          3.0463122249608308,
          3.0742613225049453,
          3.039218979839157,
          3.1257544590061697,
          3.1620088712215524,
          3.3010002283109556,
          3.273284886282003,
          3.294490445211508,
          3.4380391288879726,
          3.4372005124033627,
          3.2852986108852105,
          3.22460716807026,
          3.1591356463444984,
          3.2308258922076107,
          3.164888188459162,
          3.1002267556582037,
          3.110273185922295,
          3.142192734113715,
          3.143240301021869,
          3.1593323187662494,
          3.169693847140866,
          3.3028239294264967,
          3.3117854442057695,
          3.3384009782913395,
          3.443768636398879
         ]
        },
        {
         "hovertemplate": "<b>Constructor:</b> Racing Point <br><b>Drivers:</b> %{text}<extra></extra>",
         "line": {
          "color": "#484848",
          "dash": "dash"
         },
         "mode": "lines",
         "name": "Racing Point",
         "text": [
          "Barrichello, Brundle",
          "Fisichella, Schumacher",
          "Hill, Schumacher",
          "Frentzen, Hill",
          "Frentzen, Trulli",
          "Trulli, Frentzen",
          "Fisichella, Sato",
          "Fisichella, Firman",
          "Heidfeld, Pantano",
          "Karthikeyan, Monteiro",
          "Albers, Monteiro",
          "Sutil, Albers",
          "Fisichella, Sutil",
          "Sutil, Fisichella",
          "Liuzzi, Sutil",
          "Sutil, di Resta",
          "Hülkenberg, di Resta",
          "Sutil, di Resta",
          "Hülkenberg, Pérez",
          "Hülkenberg, Pérez",
          "Hülkenberg, Pérez",
          "Ocon, Pérez",
          "Ocon, Pérez",
          "Pérez, Stroll",
          "Stroll, Pérez"
         ],
         "type": "scatter",
         "x": [
          1996,
          1997,
          1998,
          1999,
          2000,
          2001,
          2002,
          2003,
          2004,
          2005,
          2006,
          2007,
          2008,
          2009,
          2010,
          2011,
          2012,
          2013,
          2014,
          2015,
          2016,
          2017,
          2018,
          2019,
          2020
         ],
         "y": [
          3.1084044427352673,
          3.1936786746467116,
          3.1304608491880805,
          3.204275049963047,
          3.1498639351690296,
          3.2242285722871777,
          3.2591022856128204,
          3.215861960723427,
          3.317870261365406,
          3.2811832292720755,
          3.179346693197158,
          3.1719915245209798,
          3.133083036393462,
          3.2008492137425026,
          3.15109675143265,
          3.069633358950523,
          3.102513294207353,
          3.1154252459554606,
          3.150959350575007,
          3.1188110883728997,
          3.128919201012843,
          3.2525697151037756,
          3.2855955751666666,
          3.29516348343605,
          3.4204778511453493
         ]
        },
        {
         "hovertemplate": "<b>Constructor:</b> Red Bull <br><b>Drivers:</b> %{text}<extra></extra>",
         "line": {
          "color": "#4575b4",
          "dash": "solid"
         },
         "mode": "lines",
         "name": "Red Bull",
         "text": [
          "Barrichello, Magnussen",
          "Barrichello, Verstappen",
          "Barrichello, Herbert",
          "Herbert, Irvine",
          "Irvine, de la Rosa",
          "Irvine, de la Rosa",
          "Webber, Pizzonia",
          "Klien, Webber",
          "Coulthard, Klien",
          "Coulthard, Klien",
          "Coulthard, Webber",
          "Coulthard, Webber",
          "Vettel, Webber",
          "Vettel, Webber",
          "Vettel, Webber",
          "Vettel, Webber",
          "Vettel, Webber",
          "Ricciardo, Vettel",
          "Kvyat, Ricciardo",
          "Ricciardo, Verstappen",
          "Ricciardo, Verstappen",
          "Ricciardo, Verstappen",
          "Verstappen, Gasly",
          "Albon, Verstappen"
         ],
         "type": "scatter",
         "x": [
          1997,
          1998,
          1999,
          2000,
          2001,
          2002,
          2003,
          2004,
          2005,
          2006,
          2007,
          2008,
          2009,
          2010,
          2011,
          2012,
          2013,
          2014,
          2015,
          2016,
          2017,
          2018,
          2019,
          2020
         ],
         "y": [
          3.1020169180116732,
          3.101542577718314,
          3.1610371784596367,
          3.126133598006944,
          3.2430375496449635,
          3.1939893472589636,
          3.2829893891635176,
          3.420545363491655,
          3.4091640590257763,
          3.2821583069246096,
          3.209243307061766,
          3.219537073123103,
          3.268783536911847,
          3.1795250841893963,
          3.1223512266864706,
          3.12970992558824,
          3.1679040739126925,
          3.1268897676233216,
          3.1011803684065535,
          3.156579044724118,
          3.2989719289524904,
          3.31320363313495,
          3.3004103467396506,
          3.4170340504061976
         ]
        },
        {
         "hovertemplate": "<b>Constructor:</b> Renault <br><b>Drivers:</b> %{text}<extra></extra>",
         "line": {
          "color": "#fee090",
          "dash": "solid"
         },
         "mode": "lines",
         "name": "Renault",
         "text": [
          "Alesi, Berger",
          "Alesi, Berger",
          "Fisichella, Wurz",
          "Fisichella, Wurz",
          "Fisichella, Wurz",
          "Button, Fisichella",
          "Button, Trulli",
          "Alonso, Trulli",
          "Alonso, Trulli",
          "Alonso, Fisichella",
          "Alonso, Fisichella",
          "Fisichella, Kovalainen",
          "Alonso, Piquet Jr.",
          "Alonso, Piquet Jr.",
          "Kovalainen, Kubica, Petrov, Trulli",
          "Kovalainen, Petrov",
          "Räikkönen, Grosjean",
          "Grosjean, Räikkönen",
          "Grosjean, Maldonado",
          "Grosjean, Maldonado",
          "Magnussen, Palmer",
          "Hülkenberg, Palmer",
          "Hülkenberg, Sainz",
          "Hülkenberg, Ricciardo",
          "Ocon, Ricciardo"
         ],
         "type": "scatter",
         "x": [
          1996,
          1997,
          1998,
          1999,
          2000,
          2001,
          2002,
          2003,
          2004,
          2005,
          2006,
          2007,
          2008,
          2009,
          2010,
          2011,
          2012,
          2013,
          2014,
          2015,
          2016,
          2017,
          2018,
          2019,
          2020
         ],
         "y": [
          3.0651428804052037,
          3.205582605839531,
          3.1187528828679674,
          3.1125465232155607,
          3.1608482117892813,
          3.2084849489682226,
          3.2621200996106037,
          3.24986678418329,
          3.4185653408339456,
          3.3959039362984136,
          3.334809286181929,
          3.2269106948871977,
          3.2122216715064114,
          3.2345807850928185,
          3.080417682651935,
          3.047420612051364,
          3.1551948524419475,
          3.158018560697504,
          3.089798912810877,
          3.0483492844212163,
          3.1056735222859375,
          3.2432395950215174,
          3.256631329188224,
          3.2905512134715065,
          3.3935744673747257
         ]
        },
        {
         "hovertemplate": "<b>Constructor:</b> Williams <br><b>Drivers:</b> %{text}<extra></extra>",
         "line": {
          "color": "#484848",
          "dash": "dot"
         },
         "mode": "lines",
         "name": "Williams",
         "text": [
          "Hill, Villeneuve",
          "Frentzen, Villeneuve",
          "Frentzen, Villeneuve",
          "Schumacher, Zanardi",
          "Button, Schumacher",
          "Pablo Montoya, Schumacher",
          "Pablo Montoya, Schumacher",
          "Pablo Montoya, Schumacher",
          "Pablo Montoya, Schumacher",
          "Webber, Heidfeld",
          "Rosberg, Webber",
          "Rosberg, Wurz",
          "Nakajima, Rosberg",
          "Nakajima, Rosberg",
          "Barrichello, Hülkenberg",
          "Barrichello, Maldonado",
          "Maldonado, Senna",
          "Bottas, Maldonado",
          "Bottas, Massa",
          "Bottas, Massa",
          "Bottas, Massa",
          "Stroll, Massa",
          "Sirotkin, Stroll",
          "Kubica, Russell",
          "Latifi, Russell"
         ],
         "type": "scatter",
         "x": [
          1996,
          1997,
          1998,
          1999,
          2000,
          2001,
          2002,
          2003,
          2004,
          2005,
          2006,
          2007,
          2008,
          2009,
          2010,
          2011,
          2012,
          2013,
          2014,
          2015,
          2016,
          2017,
          2018,
          2019,
          2020
         ],
         "y": [
          3.0828652986217455,
          3.2422085809207526,
          3.153851312674868,
          3.147539815275784,
          3.1992287610295227,
          3.3440364823926276,
          3.2968607497347544,
          3.297037377961898,
          3.409894154900629,
          3.3334615710940714,
          3.2960734106454566,
          3.25270040175448,
          3.1710788450496916,
          3.2095506964591416,
          3.164310913481374,
          3.0461601706066133,
          3.1422040623912055,
          3.1275234896686586,
          3.108113346183098,
          3.1369785070229304,
          3.11829135573111,
          3.2417007877742674,
          3.2372356657191834,
          3.2280983409649306,
          3.3662214139773647
         ]
        }
       ],
       "layout": {
        "annotations": [
         {
          "arrowcolor": "teal",
          "arrowhead": 5,
          "arrowside": "end+start",
          "arrowsize": 1.5,
          "ax": 1996,
          "axref": "x",
          "ay": 3.53,
          "ayref": "y",
          "x": 2005,
          "xref": "x",
          "y": 3.53,
          "yref": "y"
         },
         {
          "font": {
           "color": "teal",
           "size": 18
          },
          "showarrow": false,
          "text": "<b>V10/12 Engines</b>",
          "x": 2000.5,
          "y": 3.55
         },
         {
          "arrowcolor": "IndianRed",
          "arrowhead": 5,
          "arrowside": "end+start",
          "arrowsize": 1.5,
          "ax": 2013,
          "axref": "x",
          "ay": 3.53,
          "ayref": "y",
          "x": 2005,
          "xref": "x",
          "y": 3.53,
          "yref": "y"
         },
         {
          "font": {
           "color": "IndianRed",
           "size": 18
          },
          "showarrow": false,
          "text": "<b>V8 Engines</b>",
          "x": 2009,
          "y": 3.55
         },
         {
          "arrowcolor": "darkgreen",
          "arrowhead": 5,
          "arrowside": "end+start",
          "arrowsize": 1.5,
          "ax": 2013,
          "axref": "x",
          "ay": 3.53,
          "ayref": "y",
          "x": 2020,
          "xref": "x",
          "y": 3.53,
          "yref": "y"
         },
         {
          "font": {
           "color": "darkgreen",
           "size": 18
          },
          "showarrow": false,
          "text": "<b>V6 Hybrid Engines</b>",
          "x": 2016.5,
          "y": 3.55
         }
        ],
        "autosize": false,
        "font": {
         "color": "black",
         "size": 15
        },
        "height": 800,
        "plot_bgcolor": "rgba(0,0,0,0)",
        "shapes": [
         {
          "fillcolor": "azure",
          "layer": "below",
          "line": {
           "width": 0
          },
          "type": "rect",
          "x0": "1996",
          "x1": "2005",
          "xref": "x",
          "y0": 0,
          "y1": 1,
          "yref": "y domain"
         },
         {
          "fillcolor": "cornsilk",
          "layer": "below",
          "line": {
           "width": 0
          },
          "type": "rect",
          "x0": "2005",
          "x1": "2013",
          "xref": "x",
          "y0": 0,
          "y1": 1,
          "yref": "y domain"
         },
         {
          "fillcolor": "honeydew",
          "layer": "below",
          "line": {
           "width": 0
          },
          "type": "rect",
          "x0": "2013",
          "x1": "2020",
          "xref": "x",
          "y0": 0,
          "y1": 1,
          "yref": "y domain"
         }
        ],
        "template": {
         "data": {
          "bar": [
           {
            "error_x": {
             "color": "#2a3f5f"
            },
            "error_y": {
             "color": "#2a3f5f"
            },
            "marker": {
             "line": {
              "color": "#E5ECF6",
              "width": 0.5
             }
            },
            "type": "bar"
           }
          ],
          "barpolar": [
           {
            "marker": {
             "line": {
              "color": "#E5ECF6",
              "width": 0.5
             }
            },
            "type": "barpolar"
           }
          ],
          "carpet": [
           {
            "aaxis": {
             "endlinecolor": "#2a3f5f",
             "gridcolor": "white",
             "linecolor": "white",
             "minorgridcolor": "white",
             "startlinecolor": "#2a3f5f"
            },
            "baxis": {
             "endlinecolor": "#2a3f5f",
             "gridcolor": "white",
             "linecolor": "white",
             "minorgridcolor": "white",
             "startlinecolor": "#2a3f5f"
            },
            "type": "carpet"
           }
          ],
          "choropleth": [
           {
            "colorbar": {
             "outlinewidth": 0,
             "ticks": ""
            },
            "type": "choropleth"
           }
          ],
          "contour": [
           {
            "colorbar": {
             "outlinewidth": 0,
             "ticks": ""
            },
            "colorscale": [
             [
              0,
              "#0d0887"
             ],
             [
              0.1111111111111111,
              "#46039f"
             ],
             [
              0.2222222222222222,
              "#7201a8"
             ],
             [
              0.3333333333333333,
              "#9c179e"
             ],
             [
              0.4444444444444444,
              "#bd3786"
             ],
             [
              0.5555555555555556,
              "#d8576b"
             ],
             [
              0.6666666666666666,
              "#ed7953"
             ],
             [
              0.7777777777777778,
              "#fb9f3a"
             ],
             [
              0.8888888888888888,
              "#fdca26"
             ],
             [
              1,
              "#f0f921"
             ]
            ],
            "type": "contour"
           }
          ],
          "contourcarpet": [
           {
            "colorbar": {
             "outlinewidth": 0,
             "ticks": ""
            },
            "type": "contourcarpet"
           }
          ],
          "heatmap": [
           {
            "colorbar": {
             "outlinewidth": 0,
             "ticks": ""
            },
            "colorscale": [
             [
              0,
              "#0d0887"
             ],
             [
              0.1111111111111111,
              "#46039f"
             ],
             [
              0.2222222222222222,
              "#7201a8"
             ],
             [
              0.3333333333333333,
              "#9c179e"
             ],
             [
              0.4444444444444444,
              "#bd3786"
             ],
             [
              0.5555555555555556,
              "#d8576b"
             ],
             [
              0.6666666666666666,
              "#ed7953"
             ],
             [
              0.7777777777777778,
              "#fb9f3a"
             ],
             [
              0.8888888888888888,
              "#fdca26"
             ],
             [
              1,
              "#f0f921"
             ]
            ],
            "type": "heatmap"
           }
          ],
          "heatmapgl": [
           {
            "colorbar": {
             "outlinewidth": 0,
             "ticks": ""
            },
            "colorscale": [
             [
              0,
              "#0d0887"
             ],
             [
              0.1111111111111111,
              "#46039f"
             ],
             [
              0.2222222222222222,
              "#7201a8"
             ],
             [
              0.3333333333333333,
              "#9c179e"
             ],
             [
              0.4444444444444444,
              "#bd3786"
             ],
             [
              0.5555555555555556,
              "#d8576b"
             ],
             [
              0.6666666666666666,
              "#ed7953"
             ],
             [
              0.7777777777777778,
              "#fb9f3a"
             ],
             [
              0.8888888888888888,
              "#fdca26"
             ],
             [
              1,
              "#f0f921"
             ]
            ],
            "type": "heatmapgl"
           }
          ],
          "histogram": [
           {
            "marker": {
             "colorbar": {
              "outlinewidth": 0,
              "ticks": ""
             }
            },
            "type": "histogram"
           }
          ],
          "histogram2d": [
           {
            "colorbar": {
             "outlinewidth": 0,
             "ticks": ""
            },
            "colorscale": [
             [
              0,
              "#0d0887"
             ],
             [
              0.1111111111111111,
              "#46039f"
             ],
             [
              0.2222222222222222,
              "#7201a8"
             ],
             [
              0.3333333333333333,
              "#9c179e"
             ],
             [
              0.4444444444444444,
              "#bd3786"
             ],
             [
              0.5555555555555556,
              "#d8576b"
             ],
             [
              0.6666666666666666,
              "#ed7953"
             ],
             [
              0.7777777777777778,
              "#fb9f3a"
             ],
             [
              0.8888888888888888,
              "#fdca26"
             ],
             [
              1,
              "#f0f921"
             ]
            ],
            "type": "histogram2d"
           }
          ],
          "histogram2dcontour": [
           {
            "colorbar": {
             "outlinewidth": 0,
             "ticks": ""
            },
            "colorscale": [
             [
              0,
              "#0d0887"
             ],
             [
              0.1111111111111111,
              "#46039f"
             ],
             [
              0.2222222222222222,
              "#7201a8"
             ],
             [
              0.3333333333333333,
              "#9c179e"
             ],
             [
              0.4444444444444444,
              "#bd3786"
             ],
             [
              0.5555555555555556,
              "#d8576b"
             ],
             [
              0.6666666666666666,
              "#ed7953"
             ],
             [
              0.7777777777777778,
              "#fb9f3a"
             ],
             [
              0.8888888888888888,
              "#fdca26"
             ],
             [
              1,
              "#f0f921"
             ]
            ],
            "type": "histogram2dcontour"
           }
          ],
          "mesh3d": [
           {
            "colorbar": {
             "outlinewidth": 0,
             "ticks": ""
            },
            "type": "mesh3d"
           }
          ],
          "parcoords": [
           {
            "line": {
             "colorbar": {
              "outlinewidth": 0,
              "ticks": ""
             }
            },
            "type": "parcoords"
           }
          ],
          "pie": [
           {
            "automargin": true,
            "type": "pie"
           }
          ],
          "scatter": [
           {
            "marker": {
             "colorbar": {
              "outlinewidth": 0,
              "ticks": ""
             }
            },
            "type": "scatter"
           }
          ],
          "scatter3d": [
           {
            "line": {
             "colorbar": {
              "outlinewidth": 0,
              "ticks": ""
             }
            },
            "marker": {
             "colorbar": {
              "outlinewidth": 0,
              "ticks": ""
             }
            },
            "type": "scatter3d"
           }
          ],
          "scattercarpet": [
           {
            "marker": {
             "colorbar": {
              "outlinewidth": 0,
              "ticks": ""
             }
            },
            "type": "scattercarpet"
           }
          ],
          "scattergeo": [
           {
            "marker": {
             "colorbar": {
              "outlinewidth": 0,
              "ticks": ""
             }
            },
            "type": "scattergeo"
           }
          ],
          "scattergl": [
           {
            "marker": {
             "colorbar": {
              "outlinewidth": 0,
              "ticks": ""
             }
            },
            "type": "scattergl"
           }
          ],
          "scattermapbox": [
           {
            "marker": {
             "colorbar": {
              "outlinewidth": 0,
              "ticks": ""
             }
            },
            "type": "scattermapbox"
           }
          ],
          "scatterpolar": [
           {
            "marker": {
             "colorbar": {
              "outlinewidth": 0,
              "ticks": ""
             }
            },
            "type": "scatterpolar"
           }
          ],
          "scatterpolargl": [
           {
            "marker": {
             "colorbar": {
              "outlinewidth": 0,
              "ticks": ""
             }
            },
            "type": "scatterpolargl"
           }
          ],
          "scatterternary": [
           {
            "marker": {
             "colorbar": {
              "outlinewidth": 0,
              "ticks": ""
             }
            },
            "type": "scatterternary"
           }
          ],
          "surface": [
           {
            "colorbar": {
             "outlinewidth": 0,
             "ticks": ""
            },
            "colorscale": [
             [
              0,
              "#0d0887"
             ],
             [
              0.1111111111111111,
              "#46039f"
             ],
             [
              0.2222222222222222,
              "#7201a8"
             ],
             [
              0.3333333333333333,
              "#9c179e"
             ],
             [
              0.4444444444444444,
              "#bd3786"
             ],
             [
              0.5555555555555556,
              "#d8576b"
             ],
             [
              0.6666666666666666,
              "#ed7953"
             ],
             [
              0.7777777777777778,
              "#fb9f3a"
             ],
             [
              0.8888888888888888,
              "#fdca26"
             ],
             [
              1,
              "#f0f921"
             ]
            ],
            "type": "surface"
           }
          ],
          "table": [
           {
            "cells": {
             "fill": {
              "color": "#EBF0F8"
             },
             "line": {
              "color": "white"
             }
            },
            "header": {
             "fill": {
              "color": "#C8D4E3"
             },
             "line": {
              "color": "white"
             }
            },
            "type": "table"
           }
          ]
         },
         "layout": {
          "annotationdefaults": {
           "arrowcolor": "#2a3f5f",
           "arrowhead": 0,
           "arrowwidth": 1
          },
          "autotypenumbers": "strict",
          "coloraxis": {
           "colorbar": {
            "outlinewidth": 0,
            "ticks": ""
           }
          },
          "colorscale": {
           "diverging": [
            [
             0,
             "#8e0152"
            ],
            [
             0.1,
             "#c51b7d"
            ],
            [
             0.2,
             "#de77ae"
            ],
            [
             0.3,
             "#f1b6da"
            ],
            [
             0.4,
             "#fde0ef"
            ],
            [
             0.5,
             "#f7f7f7"
            ],
            [
             0.6,
             "#e6f5d0"
            ],
            [
             0.7,
             "#b8e186"
            ],
            [
             0.8,
             "#7fbc41"
            ],
            [
             0.9,
             "#4d9221"
            ],
            [
             1,
             "#276419"
            ]
           ],
           "sequential": [
            [
             0,
             "#0d0887"
            ],
            [
             0.1111111111111111,
             "#46039f"
            ],
            [
             0.2222222222222222,
             "#7201a8"
            ],
            [
             0.3333333333333333,
             "#9c179e"
            ],
            [
             0.4444444444444444,
             "#bd3786"
            ],
            [
             0.5555555555555556,
             "#d8576b"
            ],
            [
             0.6666666666666666,
             "#ed7953"
            ],
            [
             0.7777777777777778,
             "#fb9f3a"
            ],
            [
             0.8888888888888888,
             "#fdca26"
            ],
            [
             1,
             "#f0f921"
            ]
           ],
           "sequentialminus": [
            [
             0,
             "#0d0887"
            ],
            [
             0.1111111111111111,
             "#46039f"
            ],
            [
             0.2222222222222222,
             "#7201a8"
            ],
            [
             0.3333333333333333,
             "#9c179e"
            ],
            [
             0.4444444444444444,
             "#bd3786"
            ],
            [
             0.5555555555555556,
             "#d8576b"
            ],
            [
             0.6666666666666666,
             "#ed7953"
            ],
            [
             0.7777777777777778,
             "#fb9f3a"
            ],
            [
             0.8888888888888888,
             "#fdca26"
            ],
            [
             1,
             "#f0f921"
            ]
           ]
          },
          "colorway": [
           "#636efa",
           "#EF553B",
           "#00cc96",
           "#ab63fa",
           "#FFA15A",
           "#19d3f3",
           "#FF6692",
           "#B6E880",
           "#FF97FF",
           "#FECB52"
          ],
          "font": {
           "color": "#2a3f5f"
          },
          "geo": {
           "bgcolor": "white",
           "lakecolor": "white",
           "landcolor": "#E5ECF6",
           "showlakes": true,
           "showland": true,
           "subunitcolor": "white"
          },
          "hoverlabel": {
           "align": "left"
          },
          "hovermode": "closest",
          "mapbox": {
           "style": "light"
          },
          "paper_bgcolor": "white",
          "plot_bgcolor": "#E5ECF6",
          "polar": {
           "angularaxis": {
            "gridcolor": "white",
            "linecolor": "white",
            "ticks": ""
           },
           "bgcolor": "#E5ECF6",
           "radialaxis": {
            "gridcolor": "white",
            "linecolor": "white",
            "ticks": ""
           }
          },
          "scene": {
           "xaxis": {
            "backgroundcolor": "#E5ECF6",
            "gridcolor": "white",
            "gridwidth": 2,
            "linecolor": "white",
            "showbackground": true,
            "ticks": "",
            "zerolinecolor": "white"
           },
           "yaxis": {
            "backgroundcolor": "#E5ECF6",
            "gridcolor": "white",
            "gridwidth": 2,
            "linecolor": "white",
            "showbackground": true,
            "ticks": "",
            "zerolinecolor": "white"
           },
           "zaxis": {
            "backgroundcolor": "#E5ECF6",
            "gridcolor": "white",
            "gridwidth": 2,
            "linecolor": "white",
            "showbackground": true,
            "ticks": "",
            "zerolinecolor": "white"
           }
          },
          "shapedefaults": {
           "line": {
            "color": "#2a3f5f"
           }
          },
          "ternary": {
           "aaxis": {
            "gridcolor": "white",
            "linecolor": "white",
            "ticks": ""
           },
           "baxis": {
            "gridcolor": "white",
            "linecolor": "white",
            "ticks": ""
           },
           "bgcolor": "#E5ECF6",
           "caxis": {
            "gridcolor": "white",
            "linecolor": "white",
            "ticks": ""
           }
          },
          "title": {
           "x": 0.05
          },
          "xaxis": {
           "automargin": true,
           "gridcolor": "white",
           "linecolor": "white",
           "ticks": "",
           "title": {
            "standoff": 15
           },
           "zerolinecolor": "white",
           "zerolinewidth": 2
          },
          "yaxis": {
           "automargin": true,
           "gridcolor": "white",
           "linecolor": "white",
           "ticks": "",
           "title": {
            "standoff": 15
           },
           "zerolinecolor": "white",
           "zerolinewidth": 2
          }
         }
        },
        "title": {
         "text": "<b>Average Speed by Constructor</b>",
         "x": 0.12,
         "xanchor": "left",
         "y": 0.92,
         "yanchor": "top"
        },
        "width": 1000,
        "xaxis": {
         "dtick": 2,
         "gridcolor": "lightGray",
         "linecolor": "black",
         "linewidth": 2,
         "range": [
          1995,
          2021
         ],
         "showline": true,
         "tick0": 1996,
         "ticklen": 10,
         "tickprefix": "<b>",
         "ticks": "outside",
         "ticksuffix": "</b>",
         "tickwidth": 2,
         "title": {
          "text": "<b>Year</b>"
         }
        },
        "yaxis": {
         "gridcolor": "lightGray",
         "linecolor": "black",
         "linewidth": 2,
         "range": [
          2.9,
          3.58
         ],
         "showline": true,
         "tickfont": {
          "size": 15
         },
         "ticklen": 10,
         "tickprefix": "<b>",
         "ticks": "outside",
         "ticksuffix": "</b>",
         "tickwidth": 2,
         "title": {
          "text": "<b>Km/min</b>"
         }
        }
       }
      },
      "text/html": [
       "<div>                            <div id=\"26cb982d-d73c-46ed-a083-48e29b4090cf\" class=\"plotly-graph-div\" style=\"height:800px; width:1000px;\"></div>            <script type=\"text/javascript\">                require([\"plotly\"], function(Plotly) {                    window.PLOTLYENV=window.PLOTLYENV || {};                                    if (document.getElementById(\"26cb982d-d73c-46ed-a083-48e29b4090cf\")) {                    Plotly.newPlot(                        \"26cb982d-d73c-46ed-a083-48e29b4090cf\",                        [{\"hovertemplate\": \"<b>Max Speed: </b>%{y}<br><extra></extra>\", \"line\": {\"color\": \"rgb(217, 217, 217)\"}, \"mode\": \"lines\", \"showlegend\": false, \"type\": \"scatter\", \"x\": [1996, 1997, 1998, 1999, 2000, 2001, 2002, 2003, 2004, 2005, 2006, 2007, 2008, 2009, 2010, 2011, 2012, 2013, 2014, 2015, 2016, 2017, 2018, 2019, 2020], \"y\": [3.1084044427352673, 3.303959288748481, 3.185123164816, 3.204275049963047, 3.1992287610295227, 3.3440364823926276, 3.3281482554703294, 3.3262749089754453, 3.4380391288879726, 3.4372005124033627, 3.334809286181929, 3.293048514804539, 3.219537073123103, 3.268783536911847, 3.187350108849963, 3.141586450645891, 3.1551948524419475, 3.1795959768897175, 3.150959350575007, 3.1593323187662494, 3.169693847140866, 3.3361238343928523, 3.317520004490417, 3.351973283686326, 3.443768636398879]}, {\"fill\": \"tonexty\", \"hovertemplate\": \"<b>Min Speed: </b>%{y}<br><extra></extra>\", \"line\": {\"color\": \"rgb(217, 217, 217)\"}, \"mode\": \"lines\", \"name\": \"Average Speed Range\", \"type\": \"scatter\", \"x\": [1996, 1997, 1998, 1999, 2000, 2001, 2002, 2003, 2004, 2005, 2006, 2007, 2008, 2009, 2010, 2011, 2012, 2013, 2014, 2015, 2016, 2017, 2018, 2019, 2020], \"y\": [2.9616130867665627, 3.038795825071712, 3.039218979839157, 3.0938971151307593, 3.126133598006944, 3.1511338293328697, 3.14279302239688, 3.1905311132630128, 3.220163388133306, 3.235284838765995, 3.179346693197158, 3.1719915245209798, 3.133083036393462, 3.168442609875517, 3.080417682651935, 3.0461601706066133, 3.0983563825469664, 3.1154252459554606, 3.089798912810877, 3.0483492844212163, 3.0775847803645013, 3.2084175512864372, 3.2103743053733003, 3.2280983409649306, 3.3517850371749813]}, {\"hovertemplate\": \"<b>Constructor:</b> Alfa Romeo <br><b>Drivers:</b> %{text}<extra></extra>\", \"line\": {\"color\": \"#d73027\", \"dash\": \"dot\"}, \"mode\": \"lines\", \"name\": \"Alfa Romeo\", \"text\": [\"Frentzen, Herbert\", \"Herbert, Morbidelli\", \"Alesi, Herbert\", \"Alesi, Diniz\", \"Diniz, Salo\", \"Heidfeld, R\\u00e4ikk\\u00f6nen\", \"Heidfeld, Massa\", \"Frentzen, Heidfeld\", \"Fisichella, Massa\", \"Massa, Villeneuve\", \"Heidfeld, Villeneuve\", \"Heidfeld, Kubica\", \"Heidfeld, Kubica\", \"Heidfeld, Kubica\", \"Kobayashi, de la Rosa\", \"Kobayashi, P\\u00e9rez\", \"Kobayashi, P\\u00e9rez\", \"Guti\\u00e9rrez, H\\u00fclkenberg\", \"Guti\\u00e9rrez, Sutil\", \"Ericsson, Nasr\", \"Ericsson, Nasr\", \"Ericsson, Wehrlein\", \"Ericsson, Leclerc\", \"Giovinazzi, R\\u00e4ikk\\u00f6nen\", \"Giovinazzi, R\\u00e4ikk\\u00f6nen\"], \"type\": \"scatter\", \"x\": [1996, 1997, 1998, 1999, 2000, 2001, 2002, 2003, 2004, 2005, 2006, 2007, 2008, 2009, 2010, 2011, 2012, 2013, 2014, 2015, 2016, 2017, 2018, 2019, 2020], \"y\": [2.9616130867665627, 3.203475073233089, 3.09532721136843, 3.1817698873406717, 3.181503834261114, 3.2879219932926786, 3.242093109577445, 3.264991785900433, 3.415059506774975, 3.336415824299738, 3.271603886805552, 3.2634103006675774, 3.207650474109146, 3.2330334947586423, 3.170161504705587, 3.0734365522194724, 3.111430411943973, 3.1235119492841217, 3.1127411616220813, 3.0892376742385332, 3.0775847803645013, 3.2084175512864372, 3.243266832908782, 3.2656529810187345, 3.378881207847727]}, {\"hovertemplate\": \"<b>Constructor:</b> AlphaTauri <br><b>Drivers:</b> %{text}<extra></extra>\", \"line\": {\"color\": \"#4575b4\", \"dash\": \"dot\"}, \"mode\": \"lines\", \"name\": \"AlphaTauri\", \"text\": [\"Lamy, Fisichella\", \"Katayama, Marques\", \"Nakano, Tuero\", \"Gen\\u00e9, Badoer\", \"Gen\\u00e9, Mazzacane\", \"Alonso, Marques\", \"Webber, Yoong\", \"Verstappen, Wilson\", \"Baumgartner, Bruni\", \"Albers, Friesacher\", \"Liuzzi, Speed\", \"Liuzzi, Speed\", \"Bourdais, Vettel\", \"Buemi, Bourdais\", \"Alguersuari, Buemi\", \"Alguersuari, Buemi\", \"Ricciardo, Vergne\", \"Ricciardo, Vergne\", \"Kvyat, Vergne\", \"Sainz, Verstappen\", \"Sainz, Kvyat\", \"Sainz, Kvyat\", \"Gasly, Hartley\", \"Kvyat, Albon\", \"Gasly, Kvyat\"], \"type\": \"scatter\", \"x\": [1996, 1997, 1998, 1999, 2000, 2001, 2002, 2003, 2004, 2005, 2006, 2007, 2008, 2009, 2010, 2011, 2012, 2013, 2014, 2015, 2016, 2017, 2018, 2019, 2020], \"y\": [3.0165527216758683, 3.038795825071712, 3.0418531257130614, 3.0938971151307593, 3.168039758878002, 3.1511338293328697, 3.14279302239688, 3.1905311132630128, 3.220163388133306, 3.235284838765995, 3.2532729371289757, 3.2434818128314737, 3.20655288718096, 3.168442609875517, 3.1353382555803915, 3.050591981476001, 3.0983563825469664, 3.123908428047905, 3.1133316515837093, 3.0793794804190844, 3.0940888361226473, 3.230891525744348, 3.2103743053733003, 3.266764879773397, 3.390209121566748]}, {\"hovertemplate\": \"<b>Constructor:</b> Ferrari <br><b>Drivers:</b> %{text}<extra></extra>\", \"line\": {\"color\": \"#d73027\", \"dash\": \"solid\"}, \"mode\": \"lines\", \"name\": \"Ferrari\", \"text\": [\"Irvine, Schumacher\", \"Irvine, Schumacher\", \"Irvine, Schumacher\", \"Irvine, Schumacher\", \"Barrichello, Schumacher\", \"Barrichello, Schumacher\", \"Barrichello, Schumacher\", \"Barrichello, Schumacher\", \"Barrichello, Schumacher\", \"Barrichello, Schumacher\", \"Massa, Schumacher\", \"Massa, R\\u00e4ikk\\u00f6nen\", \"Massa, R\\u00e4ikk\\u00f6nen\", \"R\\u00e4ikk\\u00f6nen, Massa\", \"Alonso, Massa\", \"Alonso, Massa\", \"Alonso, Massa\", \"Alonso, Massa\", \"Alonso, R\\u00e4ikk\\u00f6nen\", \"R\\u00e4ikk\\u00f6nen, Vettel\", \"R\\u00e4ikk\\u00f6nen, Vettel\", \"R\\u00e4ikk\\u00f6nen, Vettel\", \"R\\u00e4ikk\\u00f6nen, Vettel\", \"Leclerc, Vettel\", \"Leclerc, Vettel\"], \"type\": \"scatter\", \"x\": [1996, 1997, 1998, 1999, 2000, 2001, 2002, 2003, 2004, 2005, 2006, 2007, 2008, 2009, 2010, 2011, 2012, 2013, 2014, 2015, 2016, 2017, 2018, 2019, 2020], \"y\": [3.063188010657107, 3.1621140762586726, 3.158277951650402, 3.1652944632848685, 3.1840190327081683, 3.3115901426618364, 3.3281482554703294, 3.3262749089754453, 3.4354980909032404, 3.362029508528891, 3.3236516115631054, 3.2705027849465282, 3.215887363578497, 3.239304427834385, 3.1652611705511036, 3.141586450645891, 3.110398024023888, 3.1795959768897175, 3.1009729541147686, 3.139743542592858, 3.169044070508765, 3.3361238343928523, 3.317520004490417, 3.351973283686326, 3.3517850371749813]}, {\"hovertemplate\": \"<b>Constructor:</b> Haas <br><b>Drivers:</b> %{text}<extra></extra>\", \"line\": {\"color\": \"#d73027\", \"dash\": \"dash\"}, \"mode\": \"lines\", \"name\": \"Haas\", \"text\": [\"Grosjean, Guti\\u00e9rrez\", \"Grosjean, Magnussen\", \"Grosjean, Magnussen\", \"Grosjean, Magnussen\", \"Magnussen, Grosjean\"], \"type\": \"scatter\", \"x\": [2016, 2017, 2018, 2019, 2020], \"y\": [3.1190902140562216, 3.213017742841541, 3.2625093981067392, 3.230561848405293, 3.3652532086590212]}, {\"hovertemplate\": \"<b>Constructor:</b> McLaren <br><b>Drivers:</b> %{text}<extra></extra>\", \"line\": {\"color\": \"#fc8d59\", \"dash\": \"solid\"}, \"mode\": \"lines\", \"name\": \"McLaren\", \"text\": [\"Coulthard, H\\u00e4kkinen\", \"Coulthard, H\\u00e4kkinen\", \"Coulthard, H\\u00e4kkinen\", \"Coulthard, H\\u00e4kkinen\", \"Coulthard, H\\u00e4kkinen\", \"Coulthard, H\\u00e4kkinen\", \"Coulthard, R\\u00e4ikk\\u00f6nen\", \"Coulthard, R\\u00e4ikk\\u00f6nen\", \"Coulthard, R\\u00e4ikk\\u00f6nen\", \"R\\u00e4ikk\\u00f6nen, Pablo Montoya\", \"R\\u00e4ikk\\u00f6nen, Pablo Montoya\", \"Alonso, Hamilton\", \"Hamilton, Kovalainen\", \"Hamilton, Kovalainen\", \"Button, Hamilton\", \"Button, Hamilton\", \"Button, Hamilton\", \"Button, P\\u00e9rez\", \"Button, Magnussen\", \"Button, Alonso\", \"Button, Alonso\", \"Vandoorne, Alonso\", \"Alonso, Vandoorne\", \"Norris, Sainz\", \"Norris, Sainz\"], \"type\": \"scatter\", \"x\": [1996, 1997, 1998, 1999, 2000, 2001, 2002, 2003, 2004, 2005, 2006, 2007, 2008, 2009, 2010, 2011, 2012, 2013, 2014, 2015, 2016, 2017, 2018, 2019, 2020], \"y\": [3.0364649120983165, 3.303959288748481, 3.185123164816, 3.1937869250654263, 3.194871399408494, 3.269238858529036, 3.283340541063127, 3.295669465705724, 3.434217400898208, 3.3996588503789784, 3.31157709397549, 3.293048514804539, 3.209911028611504, 3.212454108305595, 3.187350108849963, 3.1362983794252433, 3.128257112327256, 3.1409518737452355, 3.1081475337692996, 3.0657152128451814, 3.091711225200715, 3.2218213975271524, 3.244964341695639, 3.2682391633731522, 3.4006426335068065]}, {\"hovertemplate\": \"<b>Constructor:</b> Mercedes <br><b>Drivers:</b> %{text}<extra></extra>\", \"line\": {\"color\": \"#484848\", \"dash\": \"solid\"}, \"mode\": \"lines\", \"name\": \"Mercedes\", \"text\": [\"Katayama, Salo\", \"Salo, Verstappen\", \"Takagi, Rosset\", \"Villeneuve, Zonta\", \"Villeneuve, Zonta\", \"Panis, Villeneuve\", \"Panis, Villeneuve\", \"Button, Villeneuve\", \"Button, Sato\", \"Button, Sato\", \"Barrichello, Button\", \"Barrichello, Button\", \"Barrichello, Button\", \"Barrichello, Button\", \"Rosberg, Schumacher\", \"Rosberg, Schumacher\", \"Rosberg, Schumacher\", \"Hamilton, Rosberg\", \"Hamilton, Rosberg\", \"Hamilton, Rosberg\", \"Hamilton, Rosberg\", \"Bottas, Hamilton\", \"Bottas, Hamilton\", \"Bottas, Hamilton\", \"Bottas, Hamilton\"], \"type\": \"scatter\", \"x\": [1996, 1997, 1998, 1999, 2000, 2001, 2002, 2003, 2004, 2005, 2006, 2007, 2008, 2009, 2010, 2011, 2012, 2013, 2014, 2015, 2016, 2017, 2018, 2019, 2020], \"y\": [3.0463122249608308, 3.0742613225049453, 3.039218979839157, 3.1257544590061697, 3.1620088712215524, 3.3010002283109556, 3.273284886282003, 3.294490445211508, 3.4380391288879726, 3.4372005124033627, 3.2852986108852105, 3.22460716807026, 3.1591356463444984, 3.2308258922076107, 3.164888188459162, 3.1002267556582037, 3.110273185922295, 3.142192734113715, 3.143240301021869, 3.1593323187662494, 3.169693847140866, 3.3028239294264967, 3.3117854442057695, 3.3384009782913395, 3.443768636398879]}, {\"hovertemplate\": \"<b>Constructor:</b> Racing Point <br><b>Drivers:</b> %{text}<extra></extra>\", \"line\": {\"color\": \"#484848\", \"dash\": \"dash\"}, \"mode\": \"lines\", \"name\": \"Racing Point\", \"text\": [\"Barrichello, Brundle\", \"Fisichella, Schumacher\", \"Hill, Schumacher\", \"Frentzen, Hill\", \"Frentzen, Trulli\", \"Trulli, Frentzen\", \"Fisichella, Sato\", \"Fisichella, Firman\", \"Heidfeld, Pantano\", \"Karthikeyan, Monteiro\", \"Albers, Monteiro\", \"Sutil, Albers\", \"Fisichella, Sutil\", \"Sutil, Fisichella\", \"Liuzzi, Sutil\", \"Sutil, di Resta\", \"H\\u00fclkenberg, di Resta\", \"Sutil, di Resta\", \"H\\u00fclkenberg, P\\u00e9rez\", \"H\\u00fclkenberg, P\\u00e9rez\", \"H\\u00fclkenberg, P\\u00e9rez\", \"Ocon, P\\u00e9rez\", \"Ocon, P\\u00e9rez\", \"P\\u00e9rez, Stroll\", \"Stroll, P\\u00e9rez\"], \"type\": \"scatter\", \"x\": [1996, 1997, 1998, 1999, 2000, 2001, 2002, 2003, 2004, 2005, 2006, 2007, 2008, 2009, 2010, 2011, 2012, 2013, 2014, 2015, 2016, 2017, 2018, 2019, 2020], \"y\": [3.1084044427352673, 3.1936786746467116, 3.1304608491880805, 3.204275049963047, 3.1498639351690296, 3.2242285722871777, 3.2591022856128204, 3.215861960723427, 3.317870261365406, 3.2811832292720755, 3.179346693197158, 3.1719915245209798, 3.133083036393462, 3.2008492137425026, 3.15109675143265, 3.069633358950523, 3.102513294207353, 3.1154252459554606, 3.150959350575007, 3.1188110883728997, 3.128919201012843, 3.2525697151037756, 3.2855955751666666, 3.29516348343605, 3.4204778511453493]}, {\"hovertemplate\": \"<b>Constructor:</b> Red Bull <br><b>Drivers:</b> %{text}<extra></extra>\", \"line\": {\"color\": \"#4575b4\", \"dash\": \"solid\"}, \"mode\": \"lines\", \"name\": \"Red Bull\", \"text\": [\"Barrichello, Magnussen\", \"Barrichello, Verstappen\", \"Barrichello, Herbert\", \"Herbert, Irvine\", \"Irvine, de la Rosa\", \"Irvine, de la Rosa\", \"Webber, Pizzonia\", \"Klien, Webber\", \"Coulthard, Klien\", \"Coulthard, Klien\", \"Coulthard, Webber\", \"Coulthard, Webber\", \"Vettel, Webber\", \"Vettel, Webber\", \"Vettel, Webber\", \"Vettel, Webber\", \"Vettel, Webber\", \"Ricciardo, Vettel\", \"Kvyat, Ricciardo\", \"Ricciardo, Verstappen\", \"Ricciardo, Verstappen\", \"Ricciardo, Verstappen\", \"Verstappen, Gasly\", \"Albon, Verstappen\"], \"type\": \"scatter\", \"x\": [1997, 1998, 1999, 2000, 2001, 2002, 2003, 2004, 2005, 2006, 2007, 2008, 2009, 2010, 2011, 2012, 2013, 2014, 2015, 2016, 2017, 2018, 2019, 2020], \"y\": [3.1020169180116732, 3.101542577718314, 3.1610371784596367, 3.126133598006944, 3.2430375496449635, 3.1939893472589636, 3.2829893891635176, 3.420545363491655, 3.4091640590257763, 3.2821583069246096, 3.209243307061766, 3.219537073123103, 3.268783536911847, 3.1795250841893963, 3.1223512266864706, 3.12970992558824, 3.1679040739126925, 3.1268897676233216, 3.1011803684065535, 3.156579044724118, 3.2989719289524904, 3.31320363313495, 3.3004103467396506, 3.4170340504061976]}, {\"hovertemplate\": \"<b>Constructor:</b> Renault <br><b>Drivers:</b> %{text}<extra></extra>\", \"line\": {\"color\": \"#fee090\", \"dash\": \"solid\"}, \"mode\": \"lines\", \"name\": \"Renault\", \"text\": [\"Alesi, Berger\", \"Alesi, Berger\", \"Fisichella, Wurz\", \"Fisichella, Wurz\", \"Fisichella, Wurz\", \"Button, Fisichella\", \"Button, Trulli\", \"Alonso, Trulli\", \"Alonso, Trulli\", \"Alonso, Fisichella\", \"Alonso, Fisichella\", \"Fisichella, Kovalainen\", \"Alonso, Piquet Jr.\", \"Alonso, Piquet Jr.\", \"Kovalainen, Kubica, Petrov, Trulli\", \"Kovalainen, Petrov\", \"R\\u00e4ikk\\u00f6nen, Grosjean\", \"Grosjean, R\\u00e4ikk\\u00f6nen\", \"Grosjean, Maldonado\", \"Grosjean, Maldonado\", \"Magnussen, Palmer\", \"H\\u00fclkenberg, Palmer\", \"H\\u00fclkenberg, Sainz\", \"H\\u00fclkenberg, Ricciardo\", \"Ocon, Ricciardo\"], \"type\": \"scatter\", \"x\": [1996, 1997, 1998, 1999, 2000, 2001, 2002, 2003, 2004, 2005, 2006, 2007, 2008, 2009, 2010, 2011, 2012, 2013, 2014, 2015, 2016, 2017, 2018, 2019, 2020], \"y\": [3.0651428804052037, 3.205582605839531, 3.1187528828679674, 3.1125465232155607, 3.1608482117892813, 3.2084849489682226, 3.2621200996106037, 3.24986678418329, 3.4185653408339456, 3.3959039362984136, 3.334809286181929, 3.2269106948871977, 3.2122216715064114, 3.2345807850928185, 3.080417682651935, 3.047420612051364, 3.1551948524419475, 3.158018560697504, 3.089798912810877, 3.0483492844212163, 3.1056735222859375, 3.2432395950215174, 3.256631329188224, 3.2905512134715065, 3.3935744673747257]}, {\"hovertemplate\": \"<b>Constructor:</b> Williams <br><b>Drivers:</b> %{text}<extra></extra>\", \"line\": {\"color\": \"#484848\", \"dash\": \"dot\"}, \"mode\": \"lines\", \"name\": \"Williams\", \"text\": [\"Hill, Villeneuve\", \"Frentzen, Villeneuve\", \"Frentzen, Villeneuve\", \"Schumacher, Zanardi\", \"Button, Schumacher\", \"Pablo Montoya, Schumacher\", \"Pablo Montoya, Schumacher\", \"Pablo Montoya, Schumacher\", \"Pablo Montoya, Schumacher\", \"Webber, Heidfeld\", \"Rosberg, Webber\", \"Rosberg, Wurz\", \"Nakajima, Rosberg\", \"Nakajima, Rosberg\", \"Barrichello, H\\u00fclkenberg\", \"Barrichello, Maldonado\", \"Maldonado, Senna\", \"Bottas, Maldonado\", \"Bottas, Massa\", \"Bottas, Massa\", \"Bottas, Massa\", \"Stroll, Massa\", \"Sirotkin, Stroll\", \"Kubica, Russell\", \"Latifi, Russell\"], \"type\": \"scatter\", \"x\": [1996, 1997, 1998, 1999, 2000, 2001, 2002, 2003, 2004, 2005, 2006, 2007, 2008, 2009, 2010, 2011, 2012, 2013, 2014, 2015, 2016, 2017, 2018, 2019, 2020], \"y\": [3.0828652986217455, 3.2422085809207526, 3.153851312674868, 3.147539815275784, 3.1992287610295227, 3.3440364823926276, 3.2968607497347544, 3.297037377961898, 3.409894154900629, 3.3334615710940714, 3.2960734106454566, 3.25270040175448, 3.1710788450496916, 3.2095506964591416, 3.164310913481374, 3.0461601706066133, 3.1422040623912055, 3.1275234896686586, 3.108113346183098, 3.1369785070229304, 3.11829135573111, 3.2417007877742674, 3.2372356657191834, 3.2280983409649306, 3.3662214139773647]}],                        {\"annotations\": [{\"arrowcolor\": \"teal\", \"arrowhead\": 5, \"arrowside\": \"end+start\", \"arrowsize\": 1.5, \"ax\": 1996, \"axref\": \"x\", \"ay\": 3.53, \"ayref\": \"y\", \"x\": 2005, \"xref\": \"x\", \"y\": 3.53, \"yref\": \"y\"}, {\"font\": {\"color\": \"teal\", \"size\": 18}, \"showarrow\": false, \"text\": \"<b>V10/12 Engines</b>\", \"x\": 2000.5, \"y\": 3.55}, {\"arrowcolor\": \"IndianRed\", \"arrowhead\": 5, \"arrowside\": \"end+start\", \"arrowsize\": 1.5, \"ax\": 2013, \"axref\": \"x\", \"ay\": 3.53, \"ayref\": \"y\", \"x\": 2005, \"xref\": \"x\", \"y\": 3.53, \"yref\": \"y\"}, {\"font\": {\"color\": \"IndianRed\", \"size\": 18}, \"showarrow\": false, \"text\": \"<b>V8 Engines</b>\", \"x\": 2009, \"y\": 3.55}, {\"arrowcolor\": \"darkgreen\", \"arrowhead\": 5, \"arrowside\": \"end+start\", \"arrowsize\": 1.5, \"ax\": 2013, \"axref\": \"x\", \"ay\": 3.53, \"ayref\": \"y\", \"x\": 2020, \"xref\": \"x\", \"y\": 3.53, \"yref\": \"y\"}, {\"font\": {\"color\": \"darkgreen\", \"size\": 18}, \"showarrow\": false, \"text\": \"<b>V6 Hybrid Engines</b>\", \"x\": 2016.5, \"y\": 3.55}], \"autosize\": false, \"font\": {\"color\": \"black\", \"size\": 15}, \"height\": 800, \"plot_bgcolor\": \"rgba(0,0,0,0)\", \"shapes\": [{\"fillcolor\": \"azure\", \"layer\": \"below\", \"line\": {\"width\": 0}, \"type\": \"rect\", \"x0\": \"1996\", \"x1\": \"2005\", \"xref\": \"x\", \"y0\": 0, \"y1\": 1, \"yref\": \"y domain\"}, {\"fillcolor\": \"cornsilk\", \"layer\": \"below\", \"line\": {\"width\": 0}, \"type\": \"rect\", \"x0\": \"2005\", \"x1\": \"2013\", \"xref\": \"x\", \"y0\": 0, \"y1\": 1, \"yref\": \"y domain\"}, {\"fillcolor\": \"honeydew\", \"layer\": \"below\", \"line\": {\"width\": 0}, \"type\": \"rect\", \"x0\": \"2013\", \"x1\": \"2020\", \"xref\": \"x\", \"y0\": 0, \"y1\": 1, \"yref\": \"y domain\"}], \"template\": {\"data\": {\"bar\": [{\"error_x\": {\"color\": \"#2a3f5f\"}, \"error_y\": {\"color\": \"#2a3f5f\"}, \"marker\": {\"line\": {\"color\": \"#E5ECF6\", \"width\": 0.5}}, \"type\": \"bar\"}], \"barpolar\": [{\"marker\": {\"line\": {\"color\": \"#E5ECF6\", \"width\": 0.5}}, \"type\": \"barpolar\"}], \"carpet\": [{\"aaxis\": {\"endlinecolor\": \"#2a3f5f\", \"gridcolor\": \"white\", \"linecolor\": \"white\", \"minorgridcolor\": \"white\", \"startlinecolor\": \"#2a3f5f\"}, \"baxis\": {\"endlinecolor\": \"#2a3f5f\", \"gridcolor\": \"white\", \"linecolor\": \"white\", \"minorgridcolor\": \"white\", \"startlinecolor\": \"#2a3f5f\"}, \"type\": \"carpet\"}], \"choropleth\": [{\"colorbar\": {\"outlinewidth\": 0, \"ticks\": \"\"}, \"type\": \"choropleth\"}], \"contour\": [{\"colorbar\": {\"outlinewidth\": 0, \"ticks\": \"\"}, \"colorscale\": [[0.0, \"#0d0887\"], [0.1111111111111111, \"#46039f\"], [0.2222222222222222, \"#7201a8\"], [0.3333333333333333, \"#9c179e\"], [0.4444444444444444, \"#bd3786\"], [0.5555555555555556, \"#d8576b\"], [0.6666666666666666, \"#ed7953\"], [0.7777777777777778, \"#fb9f3a\"], [0.8888888888888888, \"#fdca26\"], [1.0, \"#f0f921\"]], \"type\": \"contour\"}], \"contourcarpet\": [{\"colorbar\": {\"outlinewidth\": 0, \"ticks\": \"\"}, \"type\": \"contourcarpet\"}], \"heatmap\": [{\"colorbar\": {\"outlinewidth\": 0, \"ticks\": \"\"}, \"colorscale\": [[0.0, \"#0d0887\"], [0.1111111111111111, \"#46039f\"], [0.2222222222222222, \"#7201a8\"], [0.3333333333333333, \"#9c179e\"], [0.4444444444444444, \"#bd3786\"], [0.5555555555555556, \"#d8576b\"], [0.6666666666666666, \"#ed7953\"], [0.7777777777777778, \"#fb9f3a\"], [0.8888888888888888, \"#fdca26\"], [1.0, \"#f0f921\"]], \"type\": \"heatmap\"}], \"heatmapgl\": [{\"colorbar\": {\"outlinewidth\": 0, \"ticks\": \"\"}, \"colorscale\": [[0.0, \"#0d0887\"], [0.1111111111111111, \"#46039f\"], [0.2222222222222222, \"#7201a8\"], [0.3333333333333333, \"#9c179e\"], [0.4444444444444444, \"#bd3786\"], [0.5555555555555556, \"#d8576b\"], [0.6666666666666666, \"#ed7953\"], [0.7777777777777778, \"#fb9f3a\"], [0.8888888888888888, \"#fdca26\"], [1.0, \"#f0f921\"]], \"type\": \"heatmapgl\"}], \"histogram\": [{\"marker\": {\"colorbar\": {\"outlinewidth\": 0, \"ticks\": \"\"}}, \"type\": \"histogram\"}], \"histogram2d\": [{\"colorbar\": {\"outlinewidth\": 0, \"ticks\": \"\"}, \"colorscale\": [[0.0, \"#0d0887\"], [0.1111111111111111, \"#46039f\"], [0.2222222222222222, \"#7201a8\"], [0.3333333333333333, \"#9c179e\"], [0.4444444444444444, \"#bd3786\"], [0.5555555555555556, \"#d8576b\"], [0.6666666666666666, \"#ed7953\"], [0.7777777777777778, \"#fb9f3a\"], [0.8888888888888888, \"#fdca26\"], [1.0, \"#f0f921\"]], \"type\": \"histogram2d\"}], \"histogram2dcontour\": [{\"colorbar\": {\"outlinewidth\": 0, \"ticks\": \"\"}, \"colorscale\": [[0.0, \"#0d0887\"], [0.1111111111111111, \"#46039f\"], [0.2222222222222222, \"#7201a8\"], [0.3333333333333333, \"#9c179e\"], [0.4444444444444444, \"#bd3786\"], [0.5555555555555556, \"#d8576b\"], [0.6666666666666666, \"#ed7953\"], [0.7777777777777778, \"#fb9f3a\"], [0.8888888888888888, \"#fdca26\"], [1.0, \"#f0f921\"]], \"type\": \"histogram2dcontour\"}], \"mesh3d\": [{\"colorbar\": {\"outlinewidth\": 0, \"ticks\": \"\"}, \"type\": \"mesh3d\"}], \"parcoords\": [{\"line\": {\"colorbar\": {\"outlinewidth\": 0, \"ticks\": \"\"}}, \"type\": \"parcoords\"}], \"pie\": [{\"automargin\": true, \"type\": \"pie\"}], \"scatter\": [{\"marker\": {\"colorbar\": {\"outlinewidth\": 0, \"ticks\": \"\"}}, \"type\": \"scatter\"}], \"scatter3d\": [{\"line\": {\"colorbar\": {\"outlinewidth\": 0, \"ticks\": \"\"}}, \"marker\": {\"colorbar\": {\"outlinewidth\": 0, \"ticks\": \"\"}}, \"type\": \"scatter3d\"}], \"scattercarpet\": [{\"marker\": {\"colorbar\": {\"outlinewidth\": 0, \"ticks\": \"\"}}, \"type\": \"scattercarpet\"}], \"scattergeo\": [{\"marker\": {\"colorbar\": {\"outlinewidth\": 0, \"ticks\": \"\"}}, \"type\": \"scattergeo\"}], \"scattergl\": [{\"marker\": {\"colorbar\": {\"outlinewidth\": 0, \"ticks\": \"\"}}, \"type\": \"scattergl\"}], \"scattermapbox\": [{\"marker\": {\"colorbar\": {\"outlinewidth\": 0, \"ticks\": \"\"}}, \"type\": \"scattermapbox\"}], \"scatterpolar\": [{\"marker\": {\"colorbar\": {\"outlinewidth\": 0, \"ticks\": \"\"}}, \"type\": \"scatterpolar\"}], \"scatterpolargl\": [{\"marker\": {\"colorbar\": {\"outlinewidth\": 0, \"ticks\": \"\"}}, \"type\": \"scatterpolargl\"}], \"scatterternary\": [{\"marker\": {\"colorbar\": {\"outlinewidth\": 0, \"ticks\": \"\"}}, \"type\": \"scatterternary\"}], \"surface\": [{\"colorbar\": {\"outlinewidth\": 0, \"ticks\": \"\"}, \"colorscale\": [[0.0, \"#0d0887\"], [0.1111111111111111, \"#46039f\"], [0.2222222222222222, \"#7201a8\"], [0.3333333333333333, \"#9c179e\"], [0.4444444444444444, \"#bd3786\"], [0.5555555555555556, \"#d8576b\"], [0.6666666666666666, \"#ed7953\"], [0.7777777777777778, \"#fb9f3a\"], [0.8888888888888888, \"#fdca26\"], [1.0, \"#f0f921\"]], \"type\": \"surface\"}], \"table\": [{\"cells\": {\"fill\": {\"color\": \"#EBF0F8\"}, \"line\": {\"color\": \"white\"}}, \"header\": {\"fill\": {\"color\": \"#C8D4E3\"}, \"line\": {\"color\": \"white\"}}, \"type\": \"table\"}]}, \"layout\": {\"annotationdefaults\": {\"arrowcolor\": \"#2a3f5f\", \"arrowhead\": 0, \"arrowwidth\": 1}, \"autotypenumbers\": \"strict\", \"coloraxis\": {\"colorbar\": {\"outlinewidth\": 0, \"ticks\": \"\"}}, \"colorscale\": {\"diverging\": [[0, \"#8e0152\"], [0.1, \"#c51b7d\"], [0.2, \"#de77ae\"], [0.3, \"#f1b6da\"], [0.4, \"#fde0ef\"], [0.5, \"#f7f7f7\"], [0.6, \"#e6f5d0\"], [0.7, \"#b8e186\"], [0.8, \"#7fbc41\"], [0.9, \"#4d9221\"], [1, \"#276419\"]], \"sequential\": [[0.0, \"#0d0887\"], [0.1111111111111111, \"#46039f\"], [0.2222222222222222, \"#7201a8\"], [0.3333333333333333, \"#9c179e\"], [0.4444444444444444, \"#bd3786\"], [0.5555555555555556, \"#d8576b\"], [0.6666666666666666, \"#ed7953\"], [0.7777777777777778, \"#fb9f3a\"], [0.8888888888888888, \"#fdca26\"], [1.0, \"#f0f921\"]], \"sequentialminus\": [[0.0, \"#0d0887\"], [0.1111111111111111, \"#46039f\"], [0.2222222222222222, \"#7201a8\"], [0.3333333333333333, \"#9c179e\"], [0.4444444444444444, \"#bd3786\"], [0.5555555555555556, \"#d8576b\"], [0.6666666666666666, \"#ed7953\"], [0.7777777777777778, \"#fb9f3a\"], [0.8888888888888888, \"#fdca26\"], [1.0, \"#f0f921\"]]}, \"colorway\": [\"#636efa\", \"#EF553B\", \"#00cc96\", \"#ab63fa\", \"#FFA15A\", \"#19d3f3\", \"#FF6692\", \"#B6E880\", \"#FF97FF\", \"#FECB52\"], \"font\": {\"color\": \"#2a3f5f\"}, \"geo\": {\"bgcolor\": \"white\", \"lakecolor\": \"white\", \"landcolor\": \"#E5ECF6\", \"showlakes\": true, \"showland\": true, \"subunitcolor\": \"white\"}, \"hoverlabel\": {\"align\": \"left\"}, \"hovermode\": \"closest\", \"mapbox\": {\"style\": \"light\"}, \"paper_bgcolor\": \"white\", \"plot_bgcolor\": \"#E5ECF6\", \"polar\": {\"angularaxis\": {\"gridcolor\": \"white\", \"linecolor\": \"white\", \"ticks\": \"\"}, \"bgcolor\": \"#E5ECF6\", \"radialaxis\": {\"gridcolor\": \"white\", \"linecolor\": \"white\", \"ticks\": \"\"}}, \"scene\": {\"xaxis\": {\"backgroundcolor\": \"#E5ECF6\", \"gridcolor\": \"white\", \"gridwidth\": 2, \"linecolor\": \"white\", \"showbackground\": true, \"ticks\": \"\", \"zerolinecolor\": \"white\"}, \"yaxis\": {\"backgroundcolor\": \"#E5ECF6\", \"gridcolor\": \"white\", \"gridwidth\": 2, \"linecolor\": \"white\", \"showbackground\": true, \"ticks\": \"\", \"zerolinecolor\": \"white\"}, \"zaxis\": {\"backgroundcolor\": \"#E5ECF6\", \"gridcolor\": \"white\", \"gridwidth\": 2, \"linecolor\": \"white\", \"showbackground\": true, \"ticks\": \"\", \"zerolinecolor\": \"white\"}}, \"shapedefaults\": {\"line\": {\"color\": \"#2a3f5f\"}}, \"ternary\": {\"aaxis\": {\"gridcolor\": \"white\", \"linecolor\": \"white\", \"ticks\": \"\"}, \"baxis\": {\"gridcolor\": \"white\", \"linecolor\": \"white\", \"ticks\": \"\"}, \"bgcolor\": \"#E5ECF6\", \"caxis\": {\"gridcolor\": \"white\", \"linecolor\": \"white\", \"ticks\": \"\"}}, \"title\": {\"x\": 0.05}, \"xaxis\": {\"automargin\": true, \"gridcolor\": \"white\", \"linecolor\": \"white\", \"ticks\": \"\", \"title\": {\"standoff\": 15}, \"zerolinecolor\": \"white\", \"zerolinewidth\": 2}, \"yaxis\": {\"automargin\": true, \"gridcolor\": \"white\", \"linecolor\": \"white\", \"ticks\": \"\", \"title\": {\"standoff\": 15}, \"zerolinecolor\": \"white\", \"zerolinewidth\": 2}}}, \"title\": {\"text\": \"<b>Average Speed by Constructor</b>\", \"x\": 0.12, \"xanchor\": \"left\", \"y\": 0.92, \"yanchor\": \"top\"}, \"width\": 1000, \"xaxis\": {\"dtick\": 2, \"gridcolor\": \"lightGray\", \"linecolor\": \"black\", \"linewidth\": 2, \"range\": [1995, 2021], \"showline\": true, \"tick0\": 1996, \"ticklen\": 10, \"tickprefix\": \"<b>\", \"ticks\": \"outside\", \"ticksuffix\": \"</b>\", \"tickwidth\": 2, \"title\": {\"text\": \"<b>Year</b>\"}}, \"yaxis\": {\"gridcolor\": \"lightGray\", \"linecolor\": \"black\", \"linewidth\": 2, \"range\": [2.9, 3.58], \"showline\": true, \"tickfont\": {\"size\": 15}, \"ticklen\": 10, \"tickprefix\": \"<b>\", \"ticks\": \"outside\", \"ticksuffix\": \"</b>\", \"tickwidth\": 2, \"title\": {\"text\": \"<b>Km/min</b>\"}}},                        {\"responsive\": true}                    ).then(function(){\n",
       "                            \n",
       "var gd = document.getElementById('26cb982d-d73c-46ed-a083-48e29b4090cf');\n",
       "var x = new MutationObserver(function (mutations, observer) {{\n",
       "        var display = window.getComputedStyle(gd).display;\n",
       "        if (!display || display === 'none') {{\n",
       "            console.log([gd, 'removed!']);\n",
       "            Plotly.purge(gd);\n",
       "            observer.disconnect();\n",
       "        }}\n",
       "}});\n",
       "\n",
       "// Listen for the removal of the full notebook cells\n",
       "var notebookContainer = gd.closest('#notebook-container');\n",
       "if (notebookContainer) {{\n",
       "    x.observe(notebookContainer, {childList: true});\n",
       "}}\n",
       "\n",
       "// Listen for the clearing of the current output cell\n",
       "var outputEl = gd.closest('.output');\n",
       "if (outputEl) {{\n",
       "    x.observe(outputEl, {childList: true});\n",
       "}}\n",
       "\n",
       "                        })                };                });            </script>        </div>"
      ]
     },
     "metadata": {},
     "output_type": "display_data"
    }
   ],
   "source": [
    "fig = go.Figure()\n",
    "\n",
    "df = avg_lap_speed\n",
    "\n",
    "fig.add_trace(go.Scatter(x=max_speeds['year'], y=max_speeds['avg_lap_speed'],\n",
    "                         fill=None,\n",
    "                         mode='lines',\n",
    "                         line_color='rgb(217, 217, 217)',\n",
    "                         hovertemplate= '<b>Max Speed: </b>%{y}<br><extra></extra>',\n",
    "                         showlegend=False))\n",
    "\n",
    "fig.add_trace(go.Scatter(x=min_speeds['year'], y=min_speeds['avg_lap_speed'],\n",
    "                         fill='tonexty',\n",
    "                         mode='lines', line_color='rgb(217, 217, 217)',\n",
    "                         hovertemplate= '<b>Min Speed: </b>%{y}<br><extra></extra>',\n",
    "                         name=\"Average Speed Range\"))\n",
    "\n",
    "for key, grp in df.groupby(['constructorRef_mapped']):\n",
    "    fig.add_trace(go.Scatter(x=grp['year'], y=grp['avg_lap_speed'],\n",
    "                             mode='lines',\n",
    "                             line=dict(color=col_map[key], dash=line_map[key]),\n",
    "                             name=constructor_names[key],\n",
    "                             hovertemplate=\n",
    "                             f'<b>Constructor:</b> {constructor_names[key]} <br>' +\n",
    "                             '<b>Drivers:</b> %{text}<extra></extra>',\n",
    "                             text=df.loc[(df.constructorRef_mapped == key), \"drivers\"], ))\n",
    "\n",
    "fig.add_vrect(\n",
    "    x0=\"1996\", x1=\"2005\",\n",
    "    fillcolor=\"azure\",  # opacity=0.5,\n",
    "    layer=\"below\", line_width=0,\n",
    "),\n",
    "\n",
    "fig.add_vrect(\n",
    "    x0=\"2005\", x1=\"2013\",\n",
    "    fillcolor=\"cornsilk\",  # opacity=0.5,\n",
    "    layer=\"below\", line_width=0,\n",
    "),\n",
    "\n",
    "fig.add_vrect(\n",
    "    x0=\"2013\", x1=\"2020\",\n",
    "    fillcolor=\"honeydew\",  # opacity=0.5,\n",
    "    layer=\"below\", line_width=0,\n",
    "),\n",
    "\n",
    "fig.add_annotation(x=2005, y=3.53,\n",
    "                   xref=\"x\", yref=\"y\", ax=1996, ay=3.53,\n",
    "                   axref=\"x\", ayref=\"y\",\n",
    "                   arrowhead=5, arrowside=\"end+start\", arrowsize=1.5, arrowcolor='teal')\n",
    "\n",
    "fig.add_annotation(x=2000.5, y=3.55, text=\"<b>V10/12 Engines</b>\",\n",
    "                   showarrow=False, font=dict(size=18, color='teal'))\n",
    "\n",
    "fig.add_annotation(x=2005, y=3.53,\n",
    "                   xref=\"x\", yref=\"y\", ax=2013, ay=3.53,\n",
    "                   axref=\"x\", ayref=\"y\",\n",
    "                   arrowhead=5, arrowside=\"end+start\", arrowsize=1.5, arrowcolor='IndianRed')\n",
    "\n",
    "fig.add_annotation(x=2009, y=3.55, text=\"<b>V8 Engines</b>\",\n",
    "                   showarrow=False, font=dict(size=18, color='IndianRed'))\n",
    "\n",
    "fig.add_annotation(x=2020, y=3.53,\n",
    "                   xref=\"x\", yref=\"y\", ax=2013, ay=3.53,\n",
    "                   axref=\"x\", ayref=\"y\",\n",
    "                   arrowhead=5, arrowside=\"end+start\", arrowsize=1.5, arrowcolor='darkgreen')\n",
    "\n",
    "fig.add_annotation(x=2016.5, y=3.55, text=\"<b>V6 Hybrid Engines</b>\",\n",
    "                   showarrow=False, font=dict(size=18, color='darkgreen'))\n",
    "\n",
    "fig.update_layout(\n",
    "    autosize=False,\n",
    "    width=1000,\n",
    "    height=800,\n",
    "\n",
    "    plot_bgcolor='rgba(0,0,0,0)',\n",
    "\n",
    "    title=dict(\n",
    "        text=\"<b>Average Speed by Constructor</b>\",\n",
    "        xanchor='left',\n",
    "        yanchor='top',\n",
    "        y=0.92,\n",
    "        x=0.12\n",
    "    ),\n",
    "\n",
    "    #legend=dict(\n",
    "    #    title_text=\"<b>Constructors</b>\",\n",
    "    #),\n",
    "\n",
    "    yaxis=dict(\n",
    "        range=[2.9, 3.58],\n",
    "        title_text=\"<b>Km/min</b>\",\n",
    "        tickwidth=2,\n",
    "        ticks=\"outside\",\n",
    "        ticklen=10,\n",
    "        tickprefix=\"<b>\", ticksuffix=\"</b>\",\n",
    "        tickfont=dict(size=15),\n",
    "        showline=True,\n",
    "        linewidth=2,\n",
    "        linecolor='black',\n",
    "        gridcolor='lightGray'\n",
    "    ),\n",
    "\n",
    "    xaxis=dict(\n",
    "        range=[1995, 2021],\n",
    "        tick0=1996,\n",
    "        dtick=2,\n",
    "        title_text=\"<b>Year</b>\",\n",
    "        tickwidth=2,\n",
    "        ticks=\"outside\",\n",
    "        tickprefix=\"<b>\", ticksuffix=\"</b>\",\n",
    "        ticklen=10,\n",
    "        showline=True,\n",
    "        linewidth=2,\n",
    "        linecolor='black',\n",
    "        gridcolor='lightGray'\n",
    "    ),\n",
    "\n",
    "    font=dict(\n",
    "        size=15,\n",
    "        color='black')\n",
    ")\n",
    "\n",
    "\n",
    "fig.show()"
   ]
  },
  {
   "cell_type": "code",
   "execution_count": null,
   "metadata": {},
   "outputs": [],
   "source": []
  }
 ],
 "metadata": {
  "kernelspec": {
   "display_name": "Python 3",
   "language": "python",
   "name": "python3"
  },
  "language_info": {
   "codemirror_mode": {
    "name": "ipython",
    "version": 3
   },
   "file_extension": ".py",
   "mimetype": "text/x-python",
   "name": "python",
   "nbconvert_exporter": "python",
   "pygments_lexer": "ipython3",
   "version": "3.7.3"
  }
 },
 "nbformat": 4,
 "nbformat_minor": 2
}
