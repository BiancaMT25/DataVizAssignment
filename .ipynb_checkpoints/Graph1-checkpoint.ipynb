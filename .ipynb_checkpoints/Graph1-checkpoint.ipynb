{
 "cells": [
  {
   "cell_type": "code",
   "execution_count": 2,
   "metadata": {},
   "outputs": [],
   "source": [
    "import seaborn as sns\n",
    "import matplotlib.pyplot as plt\n",
    "import numpy as np\n",
    "%matplotlib inline\n",
    "\n",
    "sns.set(style=\"whitegrid\")\n",
    "\n",
    "import pandas as pd\n",
    "pd.set_option('display.max_columns', None)\n",
    "pd.set_option('display.max_rows', None)\n",
    "pd.set_option('display.max_colwidth', -1)"
   ]
  },
  {
   "cell_type": "markdown",
   "metadata": {},
   "source": [
    "#### Import data"
   ]
  },
  {
   "cell_type": "code",
   "execution_count": 3,
   "metadata": {},
   "outputs": [],
   "source": [
    "lap_times = pd.read_csv(r\"F1_data\\lap_times.csv\")\n",
    "drivers = pd.read_csv(r\"F1_data\\drivers.csv\")\n",
    "constructors = pd.read_csv(r\"F1_data\\constructors.csv\")\n",
    "results = pd.read_csv(r\"F1_data\\results.csv\")\n",
    "\n",
    "circuits = pd.read_csv(r\"data_cleaned\\circuits.csv\")\n",
    "races = pd.read_csv(r\"data_cleaned\\races.csv\")"
   ]
  },
  {
   "cell_type": "markdown",
   "metadata": {},
   "source": [
    "#### Get lap speeds in terms of km/sec and km/min (lap speeds are only recorded since 1996)"
   ]
  },
  {
   "cell_type": "code",
   "execution_count": 4,
   "metadata": {},
   "outputs": [
    {
     "data": {
      "text/html": [
       "<div>\n",
       "<style scoped>\n",
       "    .dataframe tbody tr th:only-of-type {\n",
       "        vertical-align: middle;\n",
       "    }\n",
       "\n",
       "    .dataframe tbody tr th {\n",
       "        vertical-align: top;\n",
       "    }\n",
       "\n",
       "    .dataframe thead th {\n",
       "        text-align: right;\n",
       "    }\n",
       "</style>\n",
       "<table border=\"1\" class=\"dataframe\">\n",
       "  <thead>\n",
       "    <tr style=\"text-align: right;\">\n",
       "      <th></th>\n",
       "      <th>raceId</th>\n",
       "      <th>length_val</th>\n",
       "      <th>driverId</th>\n",
       "      <th>lap</th>\n",
       "      <th>position</th>\n",
       "      <th>milliseconds</th>\n",
       "      <th>km_per_sec</th>\n",
       "      <th>km_per_min</th>\n",
       "    </tr>\n",
       "  </thead>\n",
       "  <tbody>\n",
       "    <tr>\n",
       "      <th>0</th>\n",
       "      <td>1</td>\n",
       "      <td>5.303</td>\n",
       "      <td>1.0</td>\n",
       "      <td>1.0</td>\n",
       "      <td>13.0</td>\n",
       "      <td>109088.0</td>\n",
       "      <td>0.048612</td>\n",
       "      <td>2.916728</td>\n",
       "    </tr>\n",
       "    <tr>\n",
       "      <th>1</th>\n",
       "      <td>1</td>\n",
       "      <td>5.303</td>\n",
       "      <td>1.0</td>\n",
       "      <td>2.0</td>\n",
       "      <td>12.0</td>\n",
       "      <td>93740.0</td>\n",
       "      <td>0.056571</td>\n",
       "      <td>3.394282</td>\n",
       "    </tr>\n",
       "    <tr>\n",
       "      <th>2</th>\n",
       "      <td>1</td>\n",
       "      <td>5.303</td>\n",
       "      <td>1.0</td>\n",
       "      <td>3.0</td>\n",
       "      <td>11.0</td>\n",
       "      <td>91600.0</td>\n",
       "      <td>0.057893</td>\n",
       "      <td>3.473581</td>\n",
       "    </tr>\n",
       "    <tr>\n",
       "      <th>3</th>\n",
       "      <td>1</td>\n",
       "      <td>5.303</td>\n",
       "      <td>1.0</td>\n",
       "      <td>4.0</td>\n",
       "      <td>10.0</td>\n",
       "      <td>91067.0</td>\n",
       "      <td>0.058232</td>\n",
       "      <td>3.493911</td>\n",
       "    </tr>\n",
       "    <tr>\n",
       "      <th>4</th>\n",
       "      <td>1</td>\n",
       "      <td>5.303</td>\n",
       "      <td>1.0</td>\n",
       "      <td>5.0</td>\n",
       "      <td>10.0</td>\n",
       "      <td>92129.0</td>\n",
       "      <td>0.057561</td>\n",
       "      <td>3.453636</td>\n",
       "    </tr>\n",
       "  </tbody>\n",
       "</table>\n",
       "</div>"
      ],
      "text/plain": [
       "   raceId  length_val  driverId  lap  position  milliseconds  km_per_sec  \\\n",
       "0  1       5.303       1.0       1.0  13.0      109088.0      0.048612     \n",
       "1  1       5.303       1.0       2.0  12.0      93740.0       0.056571     \n",
       "2  1       5.303       1.0       3.0  11.0      91600.0       0.057893     \n",
       "3  1       5.303       1.0       4.0  10.0      91067.0       0.058232     \n",
       "4  1       5.303       1.0       5.0  10.0      92129.0       0.057561     \n",
       "\n",
       "   km_per_min  \n",
       "0  2.916728    \n",
       "1  3.394282    \n",
       "2  3.473581    \n",
       "3  3.493911    \n",
       "4  3.453636    "
      ]
     },
     "execution_count": 4,
     "metadata": {},
     "output_type": "execute_result"
    }
   ],
   "source": [
    "lap_speeds = races[['raceId', 'length_val']]\\\n",
    "            .merge(right=lap_times[['raceId', 'driverId', 'lap', 'position', 'milliseconds']], on='raceId', how='outer')\n",
    "\n",
    "lap_speeds['km_per_sec'] = lap_speeds['length_val']/(lap_speeds['milliseconds']*0.001)\n",
    "lap_speeds['km_per_min'] = lap_speeds['length_val']/((lap_speeds['milliseconds']*0.001)/60)\n",
    "\n",
    "lap_speeds.dropna(axis=0, inplace=True)\n",
    "lap_speeds.head()"
   ]
  },
  {
   "cell_type": "markdown",
   "metadata": {},
   "source": [
    "#### Get driver and constructor combinations by race"
   ]
  },
  {
   "cell_type": "code",
   "execution_count": 18,
   "metadata": {},
   "outputs": [
    {
     "data": {
      "text/html": [
       "<div>\n",
       "<style scoped>\n",
       "    .dataframe tbody tr th:only-of-type {\n",
       "        vertical-align: middle;\n",
       "    }\n",
       "\n",
       "    .dataframe tbody tr th {\n",
       "        vertical-align: top;\n",
       "    }\n",
       "\n",
       "    .dataframe thead th {\n",
       "        text-align: right;\n",
       "    }\n",
       "</style>\n",
       "<table border=\"1\" class=\"dataframe\">\n",
       "  <thead>\n",
       "    <tr style=\"text-align: right;\">\n",
       "      <th></th>\n",
       "      <th>raceId</th>\n",
       "      <th>driverId</th>\n",
       "      <th>constructorId</th>\n",
       "      <th>position_race</th>\n",
       "      <th>constructorRef</th>\n",
       "      <th>constructorRef_mapped</th>\n",
       "      <th>driverRef</th>\n",
       "      <th>forename</th>\n",
       "      <th>surname</th>\n",
       "      <th>year</th>\n",
       "    </tr>\n",
       "  </thead>\n",
       "  <tbody>\n",
       "    <tr>\n",
       "      <th>0</th>\n",
       "      <td>18.0</td>\n",
       "      <td>1.0</td>\n",
       "      <td>1</td>\n",
       "      <td>1</td>\n",
       "      <td>mclaren</td>\n",
       "      <td>mclaren</td>\n",
       "      <td>hamilton</td>\n",
       "      <td>Lewis</td>\n",
       "      <td>Hamilton</td>\n",
       "      <td>2008.0</td>\n",
       "    </tr>\n",
       "    <tr>\n",
       "      <th>1</th>\n",
       "      <td>18.0</td>\n",
       "      <td>5.0</td>\n",
       "      <td>1</td>\n",
       "      <td>5</td>\n",
       "      <td>mclaren</td>\n",
       "      <td>mclaren</td>\n",
       "      <td>kovalainen</td>\n",
       "      <td>Heikki</td>\n",
       "      <td>Kovalainen</td>\n",
       "      <td>2008.0</td>\n",
       "    </tr>\n",
       "    <tr>\n",
       "      <th>2</th>\n",
       "      <td>19.0</td>\n",
       "      <td>5.0</td>\n",
       "      <td>1</td>\n",
       "      <td>3</td>\n",
       "      <td>mclaren</td>\n",
       "      <td>mclaren</td>\n",
       "      <td>kovalainen</td>\n",
       "      <td>Heikki</td>\n",
       "      <td>Kovalainen</td>\n",
       "      <td>2008.0</td>\n",
       "    </tr>\n",
       "    <tr>\n",
       "      <th>3</th>\n",
       "      <td>19.0</td>\n",
       "      <td>1.0</td>\n",
       "      <td>1</td>\n",
       "      <td>5</td>\n",
       "      <td>mclaren</td>\n",
       "      <td>mclaren</td>\n",
       "      <td>hamilton</td>\n",
       "      <td>Lewis</td>\n",
       "      <td>Hamilton</td>\n",
       "      <td>2008.0</td>\n",
       "    </tr>\n",
       "    <tr>\n",
       "      <th>4</th>\n",
       "      <td>20.0</td>\n",
       "      <td>5.0</td>\n",
       "      <td>1</td>\n",
       "      <td>5</td>\n",
       "      <td>mclaren</td>\n",
       "      <td>mclaren</td>\n",
       "      <td>kovalainen</td>\n",
       "      <td>Heikki</td>\n",
       "      <td>Kovalainen</td>\n",
       "      <td>2008.0</td>\n",
       "    </tr>\n",
       "  </tbody>\n",
       "</table>\n",
       "</div>"
      ],
      "text/plain": [
       "   raceId  driverId  constructorId position_race constructorRef  \\\n",
       "0  18.0    1.0       1              1             mclaren         \n",
       "1  18.0    5.0       1              5             mclaren         \n",
       "2  19.0    5.0       1              3             mclaren         \n",
       "3  19.0    1.0       1              5             mclaren         \n",
       "4  20.0    5.0       1              5             mclaren         \n",
       "\n",
       "  constructorRef_mapped   driverRef forename     surname    year  \n",
       "0  mclaren               hamilton    Lewis    Hamilton    2008.0  \n",
       "1  mclaren               kovalainen  Heikki   Kovalainen  2008.0  \n",
       "2  mclaren               kovalainen  Heikki   Kovalainen  2008.0  \n",
       "3  mclaren               hamilton    Lewis    Hamilton    2008.0  \n",
       "4  mclaren               kovalainen  Heikki   Kovalainen  2008.0  "
      ]
     },
     "execution_count": 18,
     "metadata": {},
     "output_type": "execute_result"
    }
   ],
   "source": [
    "teams = results[['raceId', 'driverId', 'constructorId', 'position']]\\\n",
    "        .merge(right=constructors[['constructorId', 'constructorRef']], on='constructorId', how='outer')\n",
    "teams.columns = ['raceId', 'driverId', 'constructorId', 'position_race', 'constructorRef']\n",
    "\n",
    "constructor_map = {'alfa': ['sauber', 'bmw_sauber', 'alfa'],\n",
    "                   'alphatauri': ['alpha_tauri', 'minardi', 'toro_rosso', 'alphatauri'],\n",
    "                   'mclaren': ['mclaren', 'mclaren-alfa_romeo', 'mclaren-brm', 'mclaren-ford', 'mclaren-seren'],\n",
    "                   'mercedes': ['mercedes', 'tyrrell', 'bar', 'brawn', 'honda'],\n",
    "                   'racing_point': ['racing_point', 'force_india', 'jordan', 'spyker', 'spyker_mf1', 'mf1'],\n",
    "                   'red_bull': ['red_bull', 'stewart', 'jaguar'],\n",
    "                   'renault': ['renault', 'toleman', 'benetton', 'lotus_racing', 'lotus_f1'],\n",
    "                   'ferrari': ['ferrari'],\n",
    "                   'haas': ['haas'],\n",
    "                   'williams': ['williams'],}\n",
    "\n",
    "# reverse dictionary\n",
    "reversed_constructor_map = {}\n",
    "for k, v in constructor_map.items():\n",
    "    for element in v:\n",
    "        reversed_constructor_map[element] = k\n",
    "        \n",
    "teams[\"constructorRef_mapped\"] = teams['constructorRef'].map(reversed_constructor_map)\n",
    "\n",
    "teams = teams.merge(drivers[['driverId', 'driverRef', 'forename', 'surname']], on='driverId', how='left')\n",
    "teams = teams.merge(races[['year', 'raceId']], on ='raceId', how='left')\n",
    "teams.head()"
   ]
  },
  {
   "cell_type": "code",
   "execution_count": 94,
   "metadata": {},
   "outputs": [
    {
     "data": {
      "text/html": [
       "<div>\n",
       "<style scoped>\n",
       "    .dataframe tbody tr th:only-of-type {\n",
       "        vertical-align: middle;\n",
       "    }\n",
       "\n",
       "    .dataframe tbody tr th {\n",
       "        vertical-align: top;\n",
       "    }\n",
       "\n",
       "    .dataframe thead th {\n",
       "        text-align: right;\n",
       "    }\n",
       "</style>\n",
       "<table border=\"1\" class=\"dataframe\">\n",
       "  <thead>\n",
       "    <tr style=\"text-align: right;\">\n",
       "      <th></th>\n",
       "      <th>year</th>\n",
       "      <th>constructorRef_mapped</th>\n",
       "      <th>surname</th>\n",
       "      <th>race_count</th>\n",
       "    </tr>\n",
       "  </thead>\n",
       "  <tbody>\n",
       "    <tr>\n",
       "      <th>0</th>\n",
       "      <td>1950.0</td>\n",
       "      <td>alfa</td>\n",
       "      <td>Fangio</td>\n",
       "      <td>7</td>\n",
       "    </tr>\n",
       "    <tr>\n",
       "      <th>1</th>\n",
       "      <td>1950.0</td>\n",
       "      <td>alfa</td>\n",
       "      <td>Fagioli</td>\n",
       "      <td>6</td>\n",
       "    </tr>\n",
       "    <tr>\n",
       "      <th>2</th>\n",
       "      <td>1950.0</td>\n",
       "      <td>alfa</td>\n",
       "      <td>Farina</td>\n",
       "      <td>6</td>\n",
       "    </tr>\n",
       "    <tr>\n",
       "      <th>3</th>\n",
       "      <td>1951.0</td>\n",
       "      <td>alfa</td>\n",
       "      <td>Fangio</td>\n",
       "      <td>8</td>\n",
       "    </tr>\n",
       "    <tr>\n",
       "      <th>4</th>\n",
       "      <td>1951.0</td>\n",
       "      <td>alfa</td>\n",
       "      <td>Farina</td>\n",
       "      <td>8</td>\n",
       "    </tr>\n",
       "  </tbody>\n",
       "</table>\n",
       "</div>"
      ],
      "text/plain": [
       "     year constructorRef_mapped  surname  race_count\n",
       "0  1950.0  alfa                  Fangio   7         \n",
       "1  1950.0  alfa                  Fagioli  6         \n",
       "2  1950.0  alfa                  Farina   6         \n",
       "3  1951.0  alfa                  Fangio   8         \n",
       "4  1951.0  alfa                  Farina   8         "
      ]
     },
     "execution_count": 94,
     "metadata": {},
     "output_type": "execute_result"
    }
   ],
   "source": [
    "main_drivers = pd.DataFrame({'race_count' : teams.groupby(['year', 'constructorRef_mapped', 'surname'])['raceId']\n",
    "              .count()}).sort_values(['constructorRef_mapped', 'year', 'race_count']).reset_index()\n",
    "\n",
    "main_drivers = main_drivers.groupby(['constructorRef_mapped', 'year']).apply(lambda x: x.nlargest(2,'race_count', keep='all')).reset_index(drop=True)\n",
    "main_drivers.head()"
   ]
  },
  {
   "cell_type": "code",
   "execution_count": 95,
   "metadata": {},
   "outputs": [
    {
     "data": {
      "text/html": [
       "<div>\n",
       "<style scoped>\n",
       "    .dataframe tbody tr th:only-of-type {\n",
       "        vertical-align: middle;\n",
       "    }\n",
       "\n",
       "    .dataframe tbody tr th {\n",
       "        vertical-align: top;\n",
       "    }\n",
       "\n",
       "    .dataframe thead th {\n",
       "        text-align: right;\n",
       "    }\n",
       "</style>\n",
       "<table border=\"1\" class=\"dataframe\">\n",
       "  <thead>\n",
       "    <tr style=\"text-align: right;\">\n",
       "      <th></th>\n",
       "      <th>raceId</th>\n",
       "      <th>length_val</th>\n",
       "      <th>driverId</th>\n",
       "      <th>lap</th>\n",
       "      <th>position</th>\n",
       "      <th>milliseconds</th>\n",
       "      <th>km_per_sec</th>\n",
       "      <th>km_per_min</th>\n",
       "      <th>date</th>\n",
       "      <th>year</th>\n",
       "      <th>circuitId</th>\n",
       "      <th>constructorRef</th>\n",
       "      <th>constructorRef_mapped</th>\n",
       "      <th>circuitRef</th>\n",
       "    </tr>\n",
       "  </thead>\n",
       "  <tbody>\n",
       "    <tr>\n",
       "      <th>0</th>\n",
       "      <td>1</td>\n",
       "      <td>5.303</td>\n",
       "      <td>1.0</td>\n",
       "      <td>1.0</td>\n",
       "      <td>13.0</td>\n",
       "      <td>109088.0</td>\n",
       "      <td>0.048612</td>\n",
       "      <td>2.916728</td>\n",
       "      <td>2009-03-29</td>\n",
       "      <td>2009</td>\n",
       "      <td>1</td>\n",
       "      <td>mclaren</td>\n",
       "      <td>mclaren</td>\n",
       "      <td>albert_park</td>\n",
       "    </tr>\n",
       "    <tr>\n",
       "      <th>1</th>\n",
       "      <td>1</td>\n",
       "      <td>5.303</td>\n",
       "      <td>1.0</td>\n",
       "      <td>2.0</td>\n",
       "      <td>12.0</td>\n",
       "      <td>93740.0</td>\n",
       "      <td>0.056571</td>\n",
       "      <td>3.394282</td>\n",
       "      <td>2009-03-29</td>\n",
       "      <td>2009</td>\n",
       "      <td>1</td>\n",
       "      <td>mclaren</td>\n",
       "      <td>mclaren</td>\n",
       "      <td>albert_park</td>\n",
       "    </tr>\n",
       "    <tr>\n",
       "      <th>2</th>\n",
       "      <td>1</td>\n",
       "      <td>5.303</td>\n",
       "      <td>1.0</td>\n",
       "      <td>3.0</td>\n",
       "      <td>11.0</td>\n",
       "      <td>91600.0</td>\n",
       "      <td>0.057893</td>\n",
       "      <td>3.473581</td>\n",
       "      <td>2009-03-29</td>\n",
       "      <td>2009</td>\n",
       "      <td>1</td>\n",
       "      <td>mclaren</td>\n",
       "      <td>mclaren</td>\n",
       "      <td>albert_park</td>\n",
       "    </tr>\n",
       "    <tr>\n",
       "      <th>3</th>\n",
       "      <td>1</td>\n",
       "      <td>5.303</td>\n",
       "      <td>1.0</td>\n",
       "      <td>4.0</td>\n",
       "      <td>10.0</td>\n",
       "      <td>91067.0</td>\n",
       "      <td>0.058232</td>\n",
       "      <td>3.493911</td>\n",
       "      <td>2009-03-29</td>\n",
       "      <td>2009</td>\n",
       "      <td>1</td>\n",
       "      <td>mclaren</td>\n",
       "      <td>mclaren</td>\n",
       "      <td>albert_park</td>\n",
       "    </tr>\n",
       "    <tr>\n",
       "      <th>4</th>\n",
       "      <td>1</td>\n",
       "      <td>5.303</td>\n",
       "      <td>1.0</td>\n",
       "      <td>5.0</td>\n",
       "      <td>10.0</td>\n",
       "      <td>92129.0</td>\n",
       "      <td>0.057561</td>\n",
       "      <td>3.453636</td>\n",
       "      <td>2009-03-29</td>\n",
       "      <td>2009</td>\n",
       "      <td>1</td>\n",
       "      <td>mclaren</td>\n",
       "      <td>mclaren</td>\n",
       "      <td>albert_park</td>\n",
       "    </tr>\n",
       "  </tbody>\n",
       "</table>\n",
       "</div>"
      ],
      "text/plain": [
       "   raceId  length_val  driverId  lap  position  milliseconds  km_per_sec  \\\n",
       "0  1       5.303       1.0       1.0  13.0      109088.0      0.048612     \n",
       "1  1       5.303       1.0       2.0  12.0      93740.0       0.056571     \n",
       "2  1       5.303       1.0       3.0  11.0      91600.0       0.057893     \n",
       "3  1       5.303       1.0       4.0  10.0      91067.0       0.058232     \n",
       "4  1       5.303       1.0       5.0  10.0      92129.0       0.057561     \n",
       "\n",
       "   km_per_min       date  year  circuitId constructorRef  \\\n",
       "0  2.916728   2009-03-29  2009  1          mclaren         \n",
       "1  3.394282   2009-03-29  2009  1          mclaren         \n",
       "2  3.473581   2009-03-29  2009  1          mclaren         \n",
       "3  3.493911   2009-03-29  2009  1          mclaren         \n",
       "4  3.453636   2009-03-29  2009  1          mclaren         \n",
       "\n",
       "  constructorRef_mapped   circuitRef  \n",
       "0  mclaren               albert_park  \n",
       "1  mclaren               albert_park  \n",
       "2  mclaren               albert_park  \n",
       "3  mclaren               albert_park  \n",
       "4  mclaren               albert_park  "
      ]
     },
     "execution_count": 95,
     "metadata": {},
     "output_type": "execute_result"
    }
   ],
   "source": [
    "df=lap_speeds.merge(races[['date','year', 'raceId', 'circuitId']], on ='raceId', how='left')\n",
    "df=df.merge(teams[['raceId', 'driverId', 'constructorRef', 'constructorRef_mapped']], on=['raceId', 'driverId'], how='left')\n",
    "df=df.merge(circuits[['circuitId', 'circuitRef']], on='circuitId', how='left')\n",
    "df['date'] = pd.to_datetime(df['date'])\n",
    "df.head()"
   ]
  },
  {
   "cell_type": "code",
   "execution_count": 96,
   "metadata": {},
   "outputs": [],
   "source": [
    "avg_lap_speed = pd.DataFrame({'avg_lap_speed' : df.groupby(['year', 'constructorRef_mapped'])['km_per_min']\n",
    "              .mean()}).sort_values(['constructorRef_mapped', 'year']).reset_index()\n",
    "avg_lap_speed = avg_lap_speed.sort_values([\"constructorRef_mapped\",\"year\"])\n",
    "\n",
    "avg_lap_speed = avg_lap_speed.merge(main_drivers, on = ['year', 'constructorRef_mapped'], how='left') \n",
    "\n",
    "avg_lap_speed['drivers'] = avg_lap_speed .groupby(['year', 'constructorRef_mapped'])['surname'].transform(lambda x : ', '.join(x))\n",
    "\n",
    "avg_lap_speed = avg_lap_speed[['year', 'constructorRef_mapped', 'avg_lap_speed', 'drivers']].drop_duplicates()    \n"
   ]
  },
  {
   "cell_type": "code",
   "execution_count": 206,
   "metadata": {},
   "outputs": [
    {
     "data": {
      "text/html": [
       "<div>\n",
       "<style scoped>\n",
       "    .dataframe tbody tr th:only-of-type {\n",
       "        vertical-align: middle;\n",
       "    }\n",
       "\n",
       "    .dataframe tbody tr th {\n",
       "        vertical-align: top;\n",
       "    }\n",
       "\n",
       "    .dataframe thead th {\n",
       "        text-align: right;\n",
       "    }\n",
       "</style>\n",
       "<table border=\"1\" class=\"dataframe\">\n",
       "  <thead>\n",
       "    <tr style=\"text-align: right;\">\n",
       "      <th></th>\n",
       "      <th>year</th>\n",
       "      <th>constructorRef_mapped</th>\n",
       "      <th>avg_lap_speed</th>\n",
       "      <th>drivers</th>\n",
       "      <th>constructor_name</th>\n",
       "    </tr>\n",
       "  </thead>\n",
       "  <tbody>\n",
       "    <tr>\n",
       "      <th>0</th>\n",
       "      <td>1996</td>\n",
       "      <td>alfa</td>\n",
       "      <td>2.961613</td>\n",
       "      <td>Frentzen, Herbert</td>\n",
       "      <td>Alfa Romeo</td>\n",
       "    </tr>\n",
       "    <tr>\n",
       "      <th>2</th>\n",
       "      <td>1997</td>\n",
       "      <td>alfa</td>\n",
       "      <td>3.203475</td>\n",
       "      <td>Herbert, Morbidelli</td>\n",
       "      <td>Alfa Romeo</td>\n",
       "    </tr>\n",
       "    <tr>\n",
       "      <th>4</th>\n",
       "      <td>1998</td>\n",
       "      <td>alfa</td>\n",
       "      <td>3.095327</td>\n",
       "      <td>Alesi, Herbert</td>\n",
       "      <td>Alfa Romeo</td>\n",
       "    </tr>\n",
       "    <tr>\n",
       "      <th>6</th>\n",
       "      <td>1999</td>\n",
       "      <td>alfa</td>\n",
       "      <td>3.181770</td>\n",
       "      <td>Alesi, Diniz</td>\n",
       "      <td>Alfa Romeo</td>\n",
       "    </tr>\n",
       "    <tr>\n",
       "      <th>8</th>\n",
       "      <td>2000</td>\n",
       "      <td>alfa</td>\n",
       "      <td>3.181504</td>\n",
       "      <td>Diniz, Salo</td>\n",
       "      <td>Alfa Romeo</td>\n",
       "    </tr>\n",
       "  </tbody>\n",
       "</table>\n",
       "</div>"
      ],
      "text/plain": [
       "   year constructorRef_mapped  avg_lap_speed              drivers  \\\n",
       "0  1996  alfa                  2.961613       Frentzen, Herbert     \n",
       "2  1997  alfa                  3.203475       Herbert, Morbidelli   \n",
       "4  1998  alfa                  3.095327       Alesi, Herbert        \n",
       "6  1999  alfa                  3.181770       Alesi, Diniz          \n",
       "8  2000  alfa                  3.181504       Diniz, Salo           \n",
       "\n",
       "  constructor_name  \n",
       "0  Alfa Romeo       \n",
       "2  Alfa Romeo       \n",
       "4  Alfa Romeo       \n",
       "6  Alfa Romeo       \n",
       "8  Alfa Romeo       "
      ]
     },
     "execution_count": 206,
     "metadata": {},
     "output_type": "execute_result"
    }
   ],
   "source": [
    "avg_lap_speed['constructor_name'] = avg_lap_speed['constructorRef_mapped'].map(constructor_names)\n",
    "avg_lap_speed.head()"
   ]
  },
  {
   "cell_type": "code",
   "execution_count": 207,
   "metadata": {},
   "outputs": [],
   "source": [
    "avg_lap_speed.to_csv(r\"graph_data\\avg_lap_speed.csv\", index=False)"
   ]
  },
  {
   "cell_type": "code",
   "execution_count": 9,
   "metadata": {},
   "outputs": [],
   "source": [
    "constructor_names = {'alfa': 'Alfa Romeo',\n",
    "                   'alphatauri': 'AlphaTauri',\n",
    "                   'mclaren': 'McLaren',\n",
    "                   'mercedes': 'Mercedes',\n",
    "                   'racing_point': 'Racing Point',\n",
    "                   'red_bull': 'Red Bull',\n",
    "                   'renault': 'Renault',\n",
    "                   'ferrari': 'Ferrari',\n",
    "                   'haas': 'Haas',\n",
    "                   'williams': 'Williams'}\n",
    "\n",
    "col_map = {'mercedes': 'mediumturquoise',\n",
    "          'red_bull': 'blue',\n",
    "          'racing_point': 'hotpink',\n",
    "          'mclaren': 'darkorange',\n",
    "          'renault': 'gold',\n",
    "          'ferrari': 'red',\n",
    "          'alphatauri': 'black',\n",
    "          'alfa': 'darkred',\n",
    "          'haas': 'darkgrey',\n",
    "          'williams': 'dodgerblue'}\n",
    "\n",
    "line_map = {'mercedes': 'solid',\n",
    "          'red_bull': 'solid',\n",
    "          'racing_point': 'dashed',\n",
    "          'mclaren': 'solid',\n",
    "          'renault': 'solid',\n",
    "          'ferrari': 'solid',\n",
    "          'alphatauri': 'dotted',\n",
    "          'alfa': 'dotted',\n",
    "          'haas': 'dashed',\n",
    "          'williams': 'dotted'}\n",
    "\n",
    "col_map = {'mercedes': 'mediumturquoise',\n",
    "          'red_bull': 'blue',\n",
    "          'racing_point': 'mediumturquoise',\n",
    "          'mclaren': 'darkorange',\n",
    "          'renault': 'gold',\n",
    "          'ferrari': 'red',\n",
    "          'alphatauri': 'blue',\n",
    "          'alfa': 'red',\n",
    "          'haas': 'red',\n",
    "          'williams': 'mediumturquoise'}"
   ]
  },
  {
   "cell_type": "code",
   "execution_count": 12,
   "metadata": {},
   "outputs": [
    {
     "data": {
      "image/png": "[encoded data removed]",
      "text/plain": [
       "<Figure size 1500x1000 with 1 Axes>"
      ]
     },
     "metadata": {},
     "output_type": "display_data"
    }
   ],
   "source": [
    "import matplotlib as mpl\n",
    "mpl.rcParams.update(mpl.rcParamsDefault)\n",
    "\n",
    "sns.set(style=\"whitegrid\")\n",
    "plt.rcParams[\"font.weight\"] = \"bold\"\n",
    "plt.rcParams[\"axes.labelweight\"] = \"bold\"\n",
    "#plt.rcParams['xtick.major.size'] = 20\n",
    "plt.rcParams['xtick.major.width'] = 2\n",
    "plt.rcParams['ytick.major.width'] = 2\n",
    "plt.rcParams['xtick.bottom'] = True\n",
    "plt.rcParams['ytick.left'] = True\n",
    "\n",
    "years = avg_lap_speed['year'].unique()\n",
    "\n",
    "fig = plt.figure(figsize=(15,10))\n",
    "\n",
    "ax1 = plt.gca()\n",
    "ax1.set_xlim(1995,2021)\n",
    "ax1.set_ylim(2.9,3.58)\n",
    "\n",
    "for key, grp in avg_lap_speed.groupby(['constructorRef_mapped']):\n",
    "    ax1.plot(grp['year'], grp['avg_lap_speed'], label = constructor_names[key], \n",
    "             color=col_map[key], linestyle = line_map[key])\n",
    "\n",
    "plt.xticks(np.arange(min(years), max(years)+1, 2.0))\n",
    "\n",
    "leg = ax1.legend(loc='center left', bbox_to_anchor=(1, .8), fontsize=15)\n",
    "\n",
    "leg.set_title('Constructors', prop = {'size':'x-large'})\n",
    "leg.get_frame().set_linewidth(0.0)\n",
    "leg._legend_box.sep = 20\n",
    "\n",
    "for legobj in leg.legendHandles:\n",
    "    legobj.set_linewidth(4.0)\n",
    "\n",
    "ax1.axvspan(1996, 2005, facecolor='azure', alpha=0.5)\n",
    "ax1.axvspan(2006, 2013, facecolor='cornsilk', alpha=0.5)\n",
    "ax1.axvspan(2014, 2020, facecolor='honeydew', alpha=0.5)\n",
    "\n",
    "ax1.annotate('', xy=(1996, 3.53), xytext=(2005, 3.53), xycoords='data', textcoords='data',\n",
    "             arrowprops=dict(arrowstyle= '|-|', color='teal', lw=2, ls='--'))\n",
    "ax1.annotate('V10/12 Engines', xy=(2000.5, 3.55), ha='center', va='center', color = 'teal', fontsize=16)\n",
    "\n",
    "ax1.annotate('', xy=(2006, 3.53), xytext=(2013, 3.53), xycoords='data', textcoords='data',\n",
    "             arrowprops=dict(arrowstyle= '|-|', color='darkgoldenrod', lw=2, ls='--'))\n",
    "ax1.annotate('V8 Engines', xy=(2009.5, 3.55), ha='center', va='center', color='darkgoldenrod', fontsize=16)\n",
    "\n",
    "ax1.annotate('', xy=(2014, 3.53), xytext=(2020, 3.53), xycoords='data', textcoords='data',\n",
    "             arrowprops=dict(arrowstyle= '|-|', color='darkgreen', lw=2, ls='--'))\n",
    "ax1.annotate('V6 - Hybrid Engines', xy=(2017, 3.55), ha='center', va='center', color='darkgreen', fontsize=16)\n",
    "\n",
    "plt.title(\"Average Yearly Km/min by Constructor\", fontsize=20, fontweight='bold', pad=20)\n",
    "plt.xlabel(\"Year\", fontsize=18, fontweight='bold', labelpad=20)\n",
    "plt.ylabel(\"Km/min\", fontsize=18, fontweight='bold', labelpad=20)\n",
    "\n",
    "for tick in ax1.xaxis.get_major_ticks():\n",
    "    tick.label1.set_fontsize(15)\n",
    "    tick.label1.set_fontweight('bold')\n",
    "for tick in ax1.yaxis.get_major_ticks():\n",
    "    tick.label1.set_fontsize(15)\n",
    "    tick.label1.set_fontweight('bold')\n",
    "\n",
    "plt.setp(ax1.spines.values(), linewidth=3, color='black')\n",
    "\n",
    "ax1.spines['right'].set_visible(False)\n",
    "ax1.spines['top'].set_visible(False)\n",
    "\n",
    "plt.savefig(r\"figs\\avgLapYear_V2.png\", bbox_inches='tight')\n",
    "\n",
    "plt.show()\n"
   ]
  },
  {
   "cell_type": "code",
   "execution_count": 202,
   "metadata": {},
   "outputs": [],
   "source": [
    "import plotly.graph_objects as go\n",
    "from ipywidgets import widgets\n"
   ]
  },
  {
   "cell_type": "code",
   "execution_count": 49,
   "metadata": {},
   "outputs": [],
   "source": [
    "constructor_names = {'alfa': 'Alfa Romeo',\n",
    "                   'alphatauri': 'AlphaTauri',\n",
    "                   'mclaren': 'McLaren',\n",
    "                   'mercedes': 'Mercedes',\n",
    "                   'racing_point': 'Racing Point',\n",
    "                   'red_bull': 'Red Bull',\n",
    "                   'renault': 'Renault',\n",
    "                   'ferrari': 'Ferrari',\n",
    "                   'haas': 'Haas',\n",
    "                   'williams': 'Williams'}\n",
    "\n",
    "line_map = {'mercedes': 'solid',\n",
    "          'red_bull':   'solid',\n",
    "          'racing_point': 'dash',\n",
    "          'mclaren': 'solid',\n",
    "          'renault': 'solid',\n",
    "          'ferrari': 'solid',\n",
    "          'alphatauri': 'dot',\n",
    "          'alfa': 'dot',\n",
    "          'haas': 'dash',\n",
    "          'williams': 'dot'}\n",
    "\n",
    "col_map = {'mercedes': 'mediumturquoise',\n",
    "          'red_bull': 'blue',\n",
    "          'racing_point': 'mediumturquoise',\n",
    "          'mclaren': 'darkorange',\n",
    "          'renault': 'gold',\n",
    "          'ferrari': 'red',\n",
    "          'alphatauri': 'blue',\n",
    "          'alfa': 'red',\n",
    "          'haas': 'red',\n",
    "          'williams': 'mediumturquoise'}"
   ]
  },
  {
   "cell_type": "code",
   "execution_count": 214,
   "metadata": {},
   "outputs": [
    {
     "data": {
      "application/vnd.plotly.v1+json": {
       "config": {
        "plotlyServerURL": "https://plot.ly"
       },
       "data": [
        {
         "hovertemplate": "<b>Constructor:</b> Alfa Romeo <br><b>Drivers:</b> %{text}<extra></extra>",
         "line": {
          "color": "red",
          "dash": "dot"
         },
         "mode": "lines",
         "name": "Alfa Romeo",
         "text": [
          "Frentzen, Herbert",
          "Herbert, Morbidelli",
          "Alesi, Herbert",
          "Alesi, Diniz",
          "Diniz, Salo",
          "Heidfeld, Räikkönen",
          "Heidfeld, Massa",
          "Frentzen, Heidfeld",
          "Fisichella, Massa",
          "Massa, Villeneuve",
          "Heidfeld, Villeneuve",
          "Heidfeld, Kubica",
          "Heidfeld, Kubica",
          "Heidfeld, Kubica",
          "Kobayashi, de la Rosa",
          "Kobayashi, Pérez",
          "Kobayashi, Pérez",
          "Gutiérrez, Hülkenberg",
          "Gutiérrez, Sutil",
          "Ericsson, Nasr",
          "Ericsson, Nasr",
          "Ericsson, Wehrlein",
          "Ericsson, Leclerc",
          "Giovinazzi, Räikkönen",
          "Giovinazzi, Räikkönen"
         ],
         "type": "scatter",
         "x": [
          1996,
          1997,
          1998,
          1999,
          2000,
          2001,
          2002,
          2003,
          2004,
          2005,
          2006,
          2007,
          2008,
          2009,
          2010,
          2011,
          2012,
          2013,
          2014,
          2015,
          2016,
          2017,
          2018,
          2019,
          2020
         ],
         "y": [
          2.9616130867665627,
          3.2034750732330894,
          3.09532721136843,
          3.1817698873406712,
          3.1815038342611146,
          3.2879219932926786,
          3.2420931095774446,
          3.264991785900433,
          3.415059506774975,
          3.336415824299738,
          3.2716038868055515,
          3.2634103006675774,
          3.207650474109146,
          3.2330334947586423,
          3.170161504705587,
          3.0734365522194724,
          3.111430411943973,
          3.1235119492841212,
          3.1127411616220813,
          3.0892376742385332,
          3.0775847803645013,
          3.2084175512864372,
          3.243266832908782,
          3.2656529810187345,
          3.4293689170805286
         ]
        },
        {
         "hovertemplate": "<b>Constructor:</b> AlphaTauri <br><b>Drivers:</b> %{text}<extra></extra>",
         "line": {
          "color": "blue",
          "dash": "dot"
         },
         "mode": "lines",
         "name": "AlphaTauri",
         "text": [
          "Lamy, Fisichella",
          "Katayama, Marques",
          "Nakano, Tuero",
          "Gené, Badoer",
          "Gené, Mazzacane",
          "Alonso, Marques",
          "Webber, Yoong",
          "Verstappen, Wilson",
          "Baumgartner, Bruni",
          "Albers, Friesacher",
          "Liuzzi, Speed",
          "Liuzzi, Speed",
          "Bourdais, Vettel",
          "Buemi, Bourdais",
          "Alguersuari, Buemi",
          "Alguersuari, Buemi",
          "Ricciardo, Vergne",
          "Ricciardo, Vergne",
          "Kvyat, Vergne",
          "Sainz, Verstappen",
          "Sainz, Kvyat",
          "Sainz, Kvyat",
          "Gasly, Hartley",
          "Kvyat, Albon",
          "Gasly, Kvyat"
         ],
         "type": "scatter",
         "x": [
          1996,
          1997,
          1998,
          1999,
          2000,
          2001,
          2002,
          2003,
          2004,
          2005,
          2006,
          2007,
          2008,
          2009,
          2010,
          2011,
          2012,
          2013,
          2014,
          2015,
          2016,
          2017,
          2018,
          2019,
          2020
         ],
         "y": [
          3.016552721675868,
          3.0387958250717126,
          3.0418531257130614,
          3.0938971151307593,
          3.168039758878002,
          3.1511338293328683,
          3.1427930223968796,
          3.1905311132630128,
          3.220163388133306,
          3.2352848387659945,
          3.2532729371289753,
          3.2434818128314737,
          3.20655288718096,
          3.168442609875517,
          3.135338255580392,
          3.050591981476001,
          3.0983563825469664,
          3.123908428047905,
          3.1133316515837093,
          3.0793794804190844,
          3.0940888361226473,
          3.230891525744348,
          3.2103743053733003,
          3.266764879773397,
          3.4581117248914826
         ]
        },
        {
         "hovertemplate": "<b>Constructor:</b> Ferrari <br><b>Drivers:</b> %{text}<extra></extra>",
         "line": {
          "color": "red",
          "dash": "solid"
         },
         "mode": "lines",
         "name": "Ferrari",
         "text": [
          "Irvine, Schumacher",
          "Irvine, Schumacher",
          "Irvine, Schumacher",
          "Irvine, Schumacher",
          "Barrichello, Schumacher",
          "Barrichello, Schumacher",
          "Barrichello, Schumacher",
          "Barrichello, Schumacher",
          "Barrichello, Schumacher",
          "Barrichello, Schumacher",
          "Massa, Schumacher",
          "Massa, Räikkönen",
          "Massa, Räikkönen",
          "Räikkönen, Massa",
          "Alonso, Massa",
          "Alonso, Massa",
          "Alonso, Massa",
          "Alonso, Massa",
          "Alonso, Räikkönen",
          "Räikkönen, Vettel",
          "Räikkönen, Vettel",
          "Räikkönen, Vettel",
          "Räikkönen, Vettel",
          "Leclerc, Vettel",
          "Leclerc, Vettel"
         ],
         "type": "scatter",
         "x": [
          1996,
          1997,
          1998,
          1999,
          2000,
          2001,
          2002,
          2003,
          2004,
          2005,
          2006,
          2007,
          2008,
          2009,
          2010,
          2011,
          2012,
          2013,
          2014,
          2015,
          2016,
          2017,
          2018,
          2019,
          2020
         ],
         "y": [
          3.063188010657107,
          3.1621140762586726,
          3.158277951650402,
          3.1652944632848685,
          3.1840190327081683,
          3.3115901426618373,
          3.3281482554703294,
          3.3262749089754453,
          3.435498090903241,
          3.362029508528891,
          3.323651611563106,
          3.2705027849465282,
          3.2158873635784975,
          3.239304427834385,
          3.1652611705511036,
          3.141586450645891,
          3.110398024023888,
          3.1795959768897175,
          3.1009729541147686,
          3.139743542592858,
          3.169044070508765,
          3.3361238343928523,
          3.317520004490417,
          3.351973283686326,
          3.4041983027369795
         ]
        },
        {
         "hovertemplate": "<b>Constructor:</b> Haas <br><b>Drivers:</b> %{text}<extra></extra>",
         "line": {
          "color": "red",
          "dash": "dash"
         },
         "mode": "lines",
         "name": "Haas",
         "text": [
          "Grosjean, Gutiérrez",
          "Grosjean, Magnussen",
          "Grosjean, Magnussen",
          "Grosjean, Magnussen",
          "Grosjean, Magnussen"
         ],
         "type": "scatter",
         "x": [
          2016,
          2017,
          2018,
          2019,
          2020
         ],
         "y": [
          3.1190902140562216,
          3.213017742841541,
          3.2625093981067392,
          3.230561848405293,
          3.4189635346109943
         ]
        },
        {
         "hovertemplate": "<b>Constructor:</b> McLaren <br><b>Drivers:</b> %{text}<extra></extra>",
         "line": {
          "color": "darkorange",
          "dash": "solid"
         },
         "mode": "lines",
         "name": "McLaren",
         "text": [
          "Coulthard, Häkkinen",
          "Coulthard, Häkkinen",
          "Coulthard, Häkkinen",
          "Coulthard, Häkkinen",
          "Coulthard, Häkkinen",
          "Coulthard, Häkkinen",
          "Coulthard, Räikkönen",
          "Coulthard, Räikkönen",
          "Coulthard, Räikkönen",
          "Räikkönen, Pablo Montoya",
          "Räikkönen, Pablo Montoya",
          "Alonso, Hamilton",
          "Hamilton, Kovalainen",
          "Hamilton, Kovalainen",
          "Button, Hamilton",
          "Button, Hamilton",
          "Button, Hamilton",
          "Button, Pérez",
          "Button, Magnussen",
          "Button, Alonso",
          "Button, Alonso",
          "Vandoorne, Alonso",
          "Alonso, Vandoorne",
          "Norris, Sainz",
          "Norris, Sainz"
         ],
         "type": "scatter",
         "x": [
          1996,
          1997,
          1998,
          1999,
          2000,
          2001,
          2002,
          2003,
          2004,
          2005,
          2006,
          2007,
          2008,
          2009,
          2010,
          2011,
          2012,
          2013,
          2014,
          2015,
          2016,
          2017,
          2018,
          2019,
          2020
         ],
         "y": [
          3.0364649120983165,
          3.30395928874848,
          3.185123164816,
          3.1937869250654263,
          3.194871399408494,
          3.269238858529036,
          3.283340541063127,
          3.295669465705724,
          3.434217400898208,
          3.3996588503789784,
          3.31157709397549,
          3.293048514804539,
          3.209911028611504,
          3.212454108305595,
          3.1873501088499627,
          3.1362983794252437,
          3.128257112327256,
          3.1409518737452355,
          3.1081475337692996,
          3.0657152128451814,
          3.0917112252007155,
          3.2218213975271524,
          3.244964341695639,
          3.2682391633731522,
          3.4622767228030766
         ]
        },
        {
         "hovertemplate": "<b>Constructor:</b> Mercedes <br><b>Drivers:</b> %{text}<extra></extra>",
         "line": {
          "color": "mediumturquoise",
          "dash": "solid"
         },
         "mode": "lines",
         "name": "Mercedes",
         "text": [
          "Katayama, Salo",
          "Salo, Verstappen",
          "Takagi, Rosset",
          "Villeneuve, Zonta",
          "Villeneuve, Zonta",
          "Panis, Villeneuve",
          "Panis, Villeneuve",
          "Button, Villeneuve",
          "Button, Sato",
          "Button, Sato",
          "Barrichello, Button",
          "Barrichello, Button",
          "Barrichello, Button",
          "Barrichello, Button",
          "Rosberg, Schumacher",
          "Rosberg, Schumacher",
          "Rosberg, Schumacher",
          "Hamilton, Rosberg",
          "Hamilton, Rosberg",
          "Hamilton, Rosberg",
          "Hamilton, Rosberg",
          "Bottas, Hamilton",
          "Bottas, Hamilton",
          "Bottas, Hamilton",
          "Bottas, Hamilton"
         ],
         "type": "scatter",
         "x": [
          1996,
          1997,
          1998,
          1999,
          2000,
          2001,
          2002,
          2003,
          2004,
          2005,
          2006,
          2007,
          2008,
          2009,
          2010,
          2011,
          2012,
          2013,
          2014,
          2015,
          2016,
          2017,
          2018,
          2019,
          2020
         ],
         "y": [
          3.046312224960831,
          3.0742613225049453,
          3.039218979839157,
          3.1257544590061688,
          3.1620088712215524,
          3.3010002283109556,
          3.273284886282003,
          3.294490445211508,
          3.4380391288879726,
          3.4372005124033627,
          3.2852986108852105,
          3.2246071680702606,
          3.1591356463444984,
          3.230825892207611,
          3.164888188459162,
          3.1002267556582037,
          3.110273185922295,
          3.142192734113715,
          3.143240301021869,
          3.1593323187662503,
          3.1696938471408656,
          3.3028239294264967,
          3.3117854442057695,
          3.3384009782913395,
          3.510912091860054
         ]
        },
        {
         "hovertemplate": "<b>Constructor:</b> Racing Point <br><b>Drivers:</b> %{text}<extra></extra>",
         "line": {
          "color": "mediumturquoise",
          "dash": "dash"
         },
         "mode": "lines",
         "name": "Racing Point",
         "text": [
          "Barrichello, Brundle",
          "Fisichella, Schumacher",
          "Hill, Schumacher",
          "Frentzen, Hill",
          "Frentzen, Trulli",
          "Trulli, Frentzen",
          "Fisichella, Sato",
          "Fisichella, Firman",
          "Heidfeld, Pantano",
          "Karthikeyan, Monteiro",
          "Albers, Monteiro",
          "Sutil, Albers",
          "Fisichella, Sutil",
          "Sutil, Fisichella",
          "Liuzzi, Sutil",
          "Sutil, di Resta",
          "Hülkenberg, di Resta",
          "Sutil, di Resta",
          "Hülkenberg, Pérez",
          "Hülkenberg, Pérez",
          "Hülkenberg, Pérez",
          "Ocon, Pérez",
          "Ocon, Pérez",
          "Pérez, Stroll",
          "Stroll, Pérez"
         ],
         "type": "scatter",
         "x": [
          1996,
          1997,
          1998,
          1999,
          2000,
          2001,
          2002,
          2003,
          2004,
          2005,
          2006,
          2007,
          2008,
          2009,
          2010,
          2011,
          2012,
          2013,
          2014,
          2015,
          2016,
          2017,
          2018,
          2019,
          2020
         ],
         "y": [
          3.1084044427352673,
          3.193678674646712,
          3.1304608491880797,
          3.204275049963047,
          3.1498639351690296,
          3.2242285722871773,
          3.2591022856128204,
          3.215861960723427,
          3.317870261365406,
          3.2811832292720746,
          3.179346693197159,
          3.1719915245209793,
          3.133083036393462,
          3.2008492137425026,
          3.15109675143265,
          3.069633358950523,
          3.102513294207353,
          3.1154252459554606,
          3.1509593505750066,
          3.1188110883728997,
          3.128919201012843,
          3.2525697151037756,
          3.2855955751666666,
          3.29516348343605,
          3.471152563609727
         ]
        },
        {
         "hovertemplate": "<b>Constructor:</b> Red Bull <br><b>Drivers:</b> %{text}<extra></extra>",
         "line": {
          "color": "blue",
          "dash": "solid"
         },
         "mode": "lines",
         "name": "Red Bull",
         "text": [
          "Barrichello, Magnussen",
          "Barrichello, Verstappen",
          "Barrichello, Herbert",
          "Herbert, Irvine",
          "Irvine, de la Rosa",
          "Irvine, de la Rosa",
          "Webber, Pizzonia",
          "Klien, Webber",
          "Coulthard, Klien",
          "Coulthard, Klien",
          "Coulthard, Webber",
          "Coulthard, Webber",
          "Vettel, Webber",
          "Vettel, Webber",
          "Vettel, Webber",
          "Vettel, Webber",
          "Vettel, Webber",
          "Ricciardo, Vettel",
          "Kvyat, Ricciardo",
          "Ricciardo, Verstappen",
          "Ricciardo, Verstappen",
          "Ricciardo, Verstappen",
          "Verstappen, Gasly",
          "Albon, Verstappen"
         ],
         "type": "scatter",
         "x": [
          1997,
          1998,
          1999,
          2000,
          2001,
          2002,
          2003,
          2004,
          2005,
          2006,
          2007,
          2008,
          2009,
          2010,
          2011,
          2012,
          2013,
          2014,
          2015,
          2016,
          2017,
          2018,
          2019,
          2020
         ],
         "y": [
          3.1020169180116732,
          3.101542577718314,
          3.1610371784596376,
          3.126133598006944,
          3.2430375496449635,
          3.1939893472589636,
          3.2829893891635176,
          3.420545363491655,
          3.4091640590257763,
          3.2821583069246096,
          3.209243307061766,
          3.219537073123103,
          3.268783536911847,
          3.1795250841893963,
          3.122351226686471,
          3.12970992558824,
          3.1679040739126925,
          3.1268897676233216,
          3.1011803684065535,
          3.156579044724118,
          3.2989719289524904,
          3.31320363313495,
          3.3004103467396506,
          3.480262281145235
         ]
        },
        {
         "hovertemplate": "<b>Constructor:</b> Renault <br><b>Drivers:</b> %{text}<extra></extra>",
         "line": {
          "color": "gold",
          "dash": "solid"
         },
         "mode": "lines",
         "name": "Renault",
         "text": [
          "Alesi, Berger",
          "Alesi, Berger",
          "Fisichella, Wurz",
          "Fisichella, Wurz",
          "Fisichella, Wurz",
          "Button, Fisichella",
          "Button, Trulli",
          "Alonso, Trulli",
          "Alonso, Trulli",
          "Alonso, Fisichella",
          "Alonso, Fisichella",
          "Fisichella, Kovalainen",
          "Alonso, Piquet Jr.",
          "Alonso, Piquet Jr.",
          "Kovalainen, Kubica, Petrov, Trulli",
          "Kovalainen, Petrov",
          "Räikkönen, Grosjean",
          "Grosjean, Räikkönen",
          "Grosjean, Maldonado",
          "Grosjean, Maldonado",
          "Magnussen, Palmer",
          "Hülkenberg, Palmer",
          "Hülkenberg, Sainz",
          "Hülkenberg, Ricciardo",
          "Ocon, Ricciardo"
         ],
         "type": "scatter",
         "x": [
          1996,
          1997,
          1998,
          1999,
          2000,
          2001,
          2002,
          2003,
          2004,
          2005,
          2006,
          2007,
          2008,
          2009,
          2010,
          2011,
          2012,
          2013,
          2014,
          2015,
          2016,
          2017,
          2018,
          2019,
          2020
         ],
         "y": [
          3.0651428804052037,
          3.205582605839531,
          3.1187528828679674,
          3.1125465232155607,
          3.1608482117892813,
          3.2084849489682226,
          3.2621200996106037,
          3.24986678418329,
          3.4185653408339456,
          3.3959039362984136,
          3.334809286181929,
          3.2269106948871977,
          3.2122216715064122,
          3.2345807850928185,
          3.080417682651935,
          3.0474206120513645,
          3.1551948524419475,
          3.1580185606975038,
          3.089798912810877,
          3.0483492844212163,
          3.1056735222859375,
          3.2432395950215174,
          3.256631329188224,
          3.290551213471506,
          3.458588879672986
         ]
        },
        {
         "hovertemplate": "<b>Constructor:</b> Williams <br><b>Drivers:</b> %{text}<extra></extra>",
         "line": {
          "color": "mediumturquoise",
          "dash": "dot"
         },
         "mode": "lines",
         "name": "Williams",
         "text": [
          "Hill, Villeneuve",
          "Frentzen, Villeneuve",
          "Frentzen, Villeneuve",
          "Schumacher, Zanardi",
          "Button, Schumacher",
          "Pablo Montoya, Schumacher",
          "Pablo Montoya, Schumacher",
          "Pablo Montoya, Schumacher",
          "Pablo Montoya, Schumacher",
          "Webber, Heidfeld",
          "Rosberg, Webber",
          "Rosberg, Wurz",
          "Nakajima, Rosberg",
          "Nakajima, Rosberg",
          "Barrichello, Hülkenberg",
          "Barrichello, Maldonado",
          "Maldonado, Senna",
          "Bottas, Maldonado",
          "Bottas, Massa",
          "Bottas, Massa",
          "Bottas, Massa",
          "Stroll, Massa",
          "Sirotkin, Stroll",
          "Kubica, Russell",
          "Latifi, Russell"
         ],
         "type": "scatter",
         "x": [
          1996,
          1997,
          1998,
          1999,
          2000,
          2001,
          2002,
          2003,
          2004,
          2005,
          2006,
          2007,
          2008,
          2009,
          2010,
          2011,
          2012,
          2013,
          2014,
          2015,
          2016,
          2017,
          2018,
          2019,
          2020
         ],
         "y": [
          3.0828652986217455,
          3.242208580920752,
          3.1538513126748673,
          3.147539815275784,
          3.1992287610295227,
          3.3440364823926276,
          3.296860749734755,
          3.297037377961898,
          3.409894154900629,
          3.3334615710940705,
          3.2960734106454566,
          3.2527004017544794,
          3.1710788450496916,
          3.209550696459142,
          3.164310913481374,
          3.0461601706066133,
          3.1422040623912055,
          3.127523489668659,
          3.1081133461830985,
          3.1369785070229304,
          3.11829135573111,
          3.2417007877742674,
          3.2372356657191834,
          3.2280983409649306,
          3.4261135956203774
         ]
        }
       ],
       "layout": {
        "annotations": [
         {
          "arrowcolor": "teal",
          "arrowhead": 5,
          "arrowside": "end+start",
          "arrowsize": 1.5,
          "ax": 1996,
          "axref": "x",
          "ay": 3.53,
          "ayref": "y",
          "x": 2005,
          "xref": "x",
          "y": 3.53,
          "yref": "y"
         },
         {
          "font": {
           "color": "teal",
           "size": 18
          },
          "showarrow": false,
          "text": "<b>V10/12 Engines</b>",
          "x": 2000.5,
          "y": 3.55
         },
         {
          "arrowcolor": "IndianRed",
          "arrowhead": 5,
          "arrowside": "end+start",
          "arrowsize": 1.5,
          "ax": 2013,
          "axref": "x",
          "ay": 3.53,
          "ayref": "y",
          "x": 2006,
          "xref": "x",
          "y": 3.53,
          "yref": "y"
         },
         {
          "font": {
           "color": "IndianRed",
           "size": 18
          },
          "showarrow": false,
          "text": "<b>V8 Engines</b>",
          "x": 2009.5,
          "y": 3.55
         },
         {
          "arrowcolor": "darkgreen",
          "arrowhead": 5,
          "arrowside": "end+start",
          "arrowsize": 1.5,
          "ax": 2014,
          "axref": "x",
          "ay": 3.53,
          "ayref": "y",
          "x": 2020,
          "xref": "x",
          "y": 3.53,
          "yref": "y"
         },
         {
          "font": {
           "color": "darkgreen",
           "size": 18
          },
          "showarrow": false,
          "text": "<b>V6 Hybrid Engines</b>",
          "x": 2017,
          "y": 3.55
         }
        ],
        "autosize": false,
        "font": {
         "color": "black",
         "size": 15
        },
        "height": 800,
        "legend": {
         "title": {
          "text": "<b>Constructors</b>"
         }
        },
        "plot_bgcolor": "rgba(0,0,0,0)",
        "shapes": [
         {
          "fillcolor": "azure",
          "layer": "below",
          "line": {
           "width": 0
          },
          "type": "rect",
          "x0": "1996",
          "x1": "2005",
          "xref": "x",
          "y0": 0,
          "y1": 1,
          "yref": "y domain"
         },
         {
          "fillcolor": "cornsilk",
          "layer": "below",
          "line": {
           "width": 0
          },
          "type": "rect",
          "x0": "2006",
          "x1": "2013",
          "xref": "x",
          "y0": 0,
          "y1": 1,
          "yref": "y domain"
         },
         {
          "fillcolor": "honeydew",
          "layer": "below",
          "line": {
           "width": 0
          },
          "type": "rect",
          "x0": "2014",
          "x1": "2020",
          "xref": "x",
          "y0": 0,
          "y1": 1,
          "yref": "y domain"
         }
        ],
        "template": {
         "data": {
          "bar": [
           {
            "error_x": {
             "color": "#2a3f5f"
            },
            "error_y": {
             "color": "#2a3f5f"
            },
            "marker": {
             "line": {
              "color": "#E5ECF6",
              "width": 0.5
             }
            },
            "type": "bar"
           }
          ],
          "barpolar": [
           {
            "marker": {
             "line": {
              "color": "#E5ECF6",
              "width": 0.5
             }
            },
            "type": "barpolar"
           }
          ],
          "carpet": [
           {
            "aaxis": {
             "endlinecolor": "#2a3f5f",
             "gridcolor": "white",
             "linecolor": "white",
             "minorgridcolor": "white",
             "startlinecolor": "#2a3f5f"
            },
            "baxis": {
             "endlinecolor": "#2a3f5f",
             "gridcolor": "white",
             "linecolor": "white",
             "minorgridcolor": "white",
             "startlinecolor": "#2a3f5f"
            },
            "type": "carpet"
           }
          ],
          "choropleth": [
           {
            "colorbar": {
             "outlinewidth": 0,
             "ticks": ""
            },
            "type": "choropleth"
           }
          ],
          "contour": [
           {
            "colorbar": {
             "outlinewidth": 0,
             "ticks": ""
            },
            "colorscale": [
             [
              0,
              "#0d0887"
             ],
             [
              0.1111111111111111,
              "#46039f"
             ],
             [
              0.2222222222222222,
              "#7201a8"
             ],
             [
              0.3333333333333333,
              "#9c179e"
             ],
             [
              0.4444444444444444,
              "#bd3786"
             ],
             [
              0.5555555555555556,
              "#d8576b"
             ],
             [
              0.6666666666666666,
              "#ed7953"
             ],
             [
              0.7777777777777778,
              "#fb9f3a"
             ],
             [
              0.8888888888888888,
              "#fdca26"
             ],
             [
              1,
              "#f0f921"
             ]
            ],
            "type": "contour"
           }
          ],
          "contourcarpet": [
           {
            "colorbar": {
             "outlinewidth": 0,
             "ticks": ""
            },
            "type": "contourcarpet"
           }
          ],
          "heatmap": [
           {
            "colorbar": {
             "outlinewidth": 0,
             "ticks": ""
            },
            "colorscale": [
             [
              0,
              "#0d0887"
             ],
             [
              0.1111111111111111,
              "#46039f"
             ],
             [
              0.2222222222222222,
              "#7201a8"
             ],
             [
              0.3333333333333333,
              "#9c179e"
             ],
             [
              0.4444444444444444,
              "#bd3786"
             ],
             [
              0.5555555555555556,
              "#d8576b"
             ],
             [
              0.6666666666666666,
              "#ed7953"
             ],
             [
              0.7777777777777778,
              "#fb9f3a"
             ],
             [
              0.8888888888888888,
              "#fdca26"
             ],
             [
              1,
              "#f0f921"
             ]
            ],
            "type": "heatmap"
           }
          ],
          "heatmapgl": [
           {
            "colorbar": {
             "outlinewidth": 0,
             "ticks": ""
            },
            "colorscale": [
             [
              0,
              "#0d0887"
             ],
             [
              0.1111111111111111,
              "#46039f"
             ],
             [
              0.2222222222222222,
              "#7201a8"
             ],
             [
              0.3333333333333333,
              "#9c179e"
             ],
             [
              0.4444444444444444,
              "#bd3786"
             ],
             [
              0.5555555555555556,
              "#d8576b"
             ],
             [
              0.6666666666666666,
              "#ed7953"
             ],
             [
              0.7777777777777778,
              "#fb9f3a"
             ],
             [
              0.8888888888888888,
              "#fdca26"
             ],
             [
              1,
              "#f0f921"
             ]
            ],
            "type": "heatmapgl"
           }
          ],
          "histogram": [
           {
            "marker": {
             "colorbar": {
              "outlinewidth": 0,
              "ticks": ""
             }
            },
            "type": "histogram"
           }
          ],
          "histogram2d": [
           {
            "colorbar": {
             "outlinewidth": 0,
             "ticks": ""
            },
            "colorscale": [
             [
              0,
              "#0d0887"
             ],
             [
              0.1111111111111111,
              "#46039f"
             ],
             [
              0.2222222222222222,
              "#7201a8"
             ],
             [
              0.3333333333333333,
              "#9c179e"
             ],
             [
              0.4444444444444444,
              "#bd3786"
             ],
             [
              0.5555555555555556,
              "#d8576b"
             ],
             [
              0.6666666666666666,
              "#ed7953"
             ],
             [
              0.7777777777777778,
              "#fb9f3a"
             ],
             [
              0.8888888888888888,
              "#fdca26"
             ],
             [
              1,
              "#f0f921"
             ]
            ],
            "type": "histogram2d"
           }
          ],
          "histogram2dcontour": [
           {
            "colorbar": {
             "outlinewidth": 0,
             "ticks": ""
            },
            "colorscale": [
             [
              0,
              "#0d0887"
             ],
             [
              0.1111111111111111,
              "#46039f"
             ],
             [
              0.2222222222222222,
              "#7201a8"
             ],
             [
              0.3333333333333333,
              "#9c179e"
             ],
             [
              0.4444444444444444,
              "#bd3786"
             ],
             [
              0.5555555555555556,
              "#d8576b"
             ],
             [
              0.6666666666666666,
              "#ed7953"
             ],
             [
              0.7777777777777778,
              "#fb9f3a"
             ],
             [
              0.8888888888888888,
              "#fdca26"
             ],
             [
              1,
              "#f0f921"
             ]
            ],
            "type": "histogram2dcontour"
           }
          ],
          "mesh3d": [
           {
            "colorbar": {
             "outlinewidth": 0,
             "ticks": ""
            },
            "type": "mesh3d"
           }
          ],
          "parcoords": [
           {
            "line": {
             "colorbar": {
              "outlinewidth": 0,
              "ticks": ""
             }
            },
            "type": "parcoords"
           }
          ],
          "pie": [
           {
            "automargin": true,
            "type": "pie"
           }
          ],
          "scatter": [
           {
            "marker": {
             "colorbar": {
              "outlinewidth": 0,
              "ticks": ""
             }
            },
            "type": "scatter"
           }
          ],
          "scatter3d": [
           {
            "line": {
             "colorbar": {
              "outlinewidth": 0,
              "ticks": ""
             }
            },
            "marker": {
             "colorbar": {
              "outlinewidth": 0,
              "ticks": ""
             }
            },
            "type": "scatter3d"
           }
          ],
          "scattercarpet": [
           {
            "marker": {
             "colorbar": {
              "outlinewidth": 0,
              "ticks": ""
             }
            },
            "type": "scattercarpet"
           }
          ],
          "scattergeo": [
           {
            "marker": {
             "colorbar": {
              "outlinewidth": 0,
              "ticks": ""
             }
            },
            "type": "scattergeo"
           }
          ],
          "scattergl": [
           {
            "marker": {
             "colorbar": {
              "outlinewidth": 0,
              "ticks": ""
             }
            },
            "type": "scattergl"
           }
          ],
          "scattermapbox": [
           {
            "marker": {
             "colorbar": {
              "outlinewidth": 0,
              "ticks": ""
             }
            },
            "type": "scattermapbox"
           }
          ],
          "scatterpolar": [
           {
            "marker": {
             "colorbar": {
              "outlinewidth": 0,
              "ticks": ""
             }
            },
            "type": "scatterpolar"
           }
          ],
          "scatterpolargl": [
           {
            "marker": {
             "colorbar": {
              "outlinewidth": 0,
              "ticks": ""
             }
            },
            "type": "scatterpolargl"
           }
          ],
          "scatterternary": [
           {
            "marker": {
             "colorbar": {
              "outlinewidth": 0,
              "ticks": ""
             }
            },
            "type": "scatterternary"
           }
          ],
          "surface": [
           {
            "colorbar": {
             "outlinewidth": 0,
             "ticks": ""
            },
            "colorscale": [
             [
              0,
              "#0d0887"
             ],
             [
              0.1111111111111111,
              "#46039f"
             ],
             [
              0.2222222222222222,
              "#7201a8"
             ],
             [
              0.3333333333333333,
              "#9c179e"
             ],
             [
              0.4444444444444444,
              "#bd3786"
             ],
             [
              0.5555555555555556,
              "#d8576b"
             ],
             [
              0.6666666666666666,
              "#ed7953"
             ],
             [
              0.7777777777777778,
              "#fb9f3a"
             ],
             [
              0.8888888888888888,
              "#fdca26"
             ],
             [
              1,
              "#f0f921"
             ]
            ],
            "type": "surface"
           }
          ],
          "table": [
           {
            "cells": {
             "fill": {
              "color": "#EBF0F8"
             },
             "line": {
              "color": "white"
             }
            },
            "header": {
             "fill": {
              "color": "#C8D4E3"
             },
             "line": {
              "color": "white"
             }
            },
            "type": "table"
           }
          ]
         },
         "layout": {
          "annotationdefaults": {
           "arrowcolor": "#2a3f5f",
           "arrowhead": 0,
           "arrowwidth": 1
          },
          "autotypenumbers": "strict",
          "coloraxis": {
           "colorbar": {
            "outlinewidth": 0,
            "ticks": ""
           }
          },
          "colorscale": {
           "diverging": [
            [
             0,
             "#8e0152"
            ],
            [
             0.1,
             "#c51b7d"
            ],
            [
             0.2,
             "#de77ae"
            ],
            [
             0.3,
             "#f1b6da"
            ],
            [
             0.4,
             "#fde0ef"
            ],
            [
             0.5,
             "#f7f7f7"
            ],
            [
             0.6,
             "#e6f5d0"
            ],
            [
             0.7,
             "#b8e186"
            ],
            [
             0.8,
             "#7fbc41"
            ],
            [
             0.9,
             "#4d9221"
            ],
            [
             1,
             "#276419"
            ]
           ],
           "sequential": [
            [
             0,
             "#0d0887"
            ],
            [
             0.1111111111111111,
             "#46039f"
            ],
            [
             0.2222222222222222,
             "#7201a8"
            ],
            [
             0.3333333333333333,
             "#9c179e"
            ],
            [
             0.4444444444444444,
             "#bd3786"
            ],
            [
             0.5555555555555556,
             "#d8576b"
            ],
            [
             0.6666666666666666,
             "#ed7953"
            ],
            [
             0.7777777777777778,
             "#fb9f3a"
            ],
            [
             0.8888888888888888,
             "#fdca26"
            ],
            [
             1,
             "#f0f921"
            ]
           ],
           "sequentialminus": [
            [
             0,
             "#0d0887"
            ],
            [
             0.1111111111111111,
             "#46039f"
            ],
            [
             0.2222222222222222,
             "#7201a8"
            ],
            [
             0.3333333333333333,
             "#9c179e"
            ],
            [
             0.4444444444444444,
             "#bd3786"
            ],
            [
             0.5555555555555556,
             "#d8576b"
            ],
            [
             0.6666666666666666,
             "#ed7953"
            ],
            [
             0.7777777777777778,
             "#fb9f3a"
            ],
            [
             0.8888888888888888,
             "#fdca26"
            ],
            [
             1,
             "#f0f921"
            ]
           ]
          },
          "colorway": [
           "#636efa",
           "#EF553B",
           "#00cc96",
           "#ab63fa",
           "#FFA15A",
           "#19d3f3",
           "#FF6692",
           "#B6E880",
           "#FF97FF",
           "#FECB52"
          ],
          "font": {
           "color": "#2a3f5f"
          },
          "geo": {
           "bgcolor": "white",
           "lakecolor": "white",
           "landcolor": "#E5ECF6",
           "showlakes": true,
           "showland": true,
           "subunitcolor": "white"
          },
          "hoverlabel": {
           "align": "left"
          },
          "hovermode": "closest",
          "mapbox": {
           "style": "light"
          },
          "paper_bgcolor": "white",
          "plot_bgcolor": "#E5ECF6",
          "polar": {
           "angularaxis": {
            "gridcolor": "white",
            "linecolor": "white",
            "ticks": ""
           },
           "bgcolor": "#E5ECF6",
           "radialaxis": {
            "gridcolor": "white",
            "linecolor": "white",
            "ticks": ""
           }
          },
          "scene": {
           "xaxis": {
            "backgroundcolor": "#E5ECF6",
            "gridcolor": "white",
            "gridwidth": 2,
            "linecolor": "white",
            "showbackground": true,
            "ticks": "",
            "zerolinecolor": "white"
           },
           "yaxis": {
            "backgroundcolor": "#E5ECF6",
            "gridcolor": "white",
            "gridwidth": 2,
            "linecolor": "white",
            "showbackground": true,
            "ticks": "",
            "zerolinecolor": "white"
           },
           "zaxis": {
            "backgroundcolor": "#E5ECF6",
            "gridcolor": "white",
            "gridwidth": 2,
            "linecolor": "white",
            "showbackground": true,
            "ticks": "",
            "zerolinecolor": "white"
           }
          },
          "shapedefaults": {
           "line": {
            "color": "#2a3f5f"
           }
          },
          "ternary": {
           "aaxis": {
            "gridcolor": "white",
            "linecolor": "white",
            "ticks": ""
           },
           "baxis": {
            "gridcolor": "white",
            "linecolor": "white",
            "ticks": ""
           },
           "bgcolor": "#E5ECF6",
           "caxis": {
            "gridcolor": "white",
            "linecolor": "white",
            "ticks": ""
           }
          },
          "title": {
           "x": 0.05
          },
          "xaxis": {
           "automargin": true,
           "gridcolor": "white",
           "linecolor": "white",
           "ticks": "",
           "title": {
            "standoff": 15
           },
           "zerolinecolor": "white",
           "zerolinewidth": 2
          },
          "yaxis": {
           "automargin": true,
           "gridcolor": "white",
           "linecolor": "white",
           "ticks": "",
           "title": {
            "standoff": 15
           },
           "zerolinecolor": "white",
           "zerolinewidth": 2
          }
         }
        },
        "title": {
         "text": "<b>Average Yearly Km/min by Constructor</b>",
         "xanchor": "left",
         "y": 0.92,
         "yanchor": "top"
        },
        "width": 1000,
        "xaxis": {
         "dtick": 2,
         "gridcolor": "lightGray",
         "linecolor": "black",
         "linewidth": 2,
         "range": [
          1995,
          2021
         ],
         "showline": true,
         "tick0": 1996,
         "ticklen": 10,
         "tickprefix": "<b>",
         "ticks": "outside",
         "ticksuffix": "</b>",
         "tickwidth": 2,
         "title": {
          "text": "<b>Year</b>"
         }
        },
        "yaxis": {
         "gridcolor": "lightGray",
         "linecolor": "black",
         "linewidth": 2,
         "range": [
          2.9,
          3.58
         ],
         "showline": true,
         "tickfont": {
          "size": 15
         },
         "ticklen": 10,
         "tickprefix": "<b>",
         "ticks": "outside",
         "ticksuffix": "</b>",
         "tickwidth": 2,
         "title": {
          "text": "<b>Km/min</b>"
         }
        }
       }
      },
      "text/html": [
       "<div>                            <div id=\"b0723853-936f-413e-b379-e3a104b706fb\" class=\"plotly-graph-div\" style=\"height:800px; width:1000px;\"></div>            <script type=\"text/javascript\">                require([\"plotly\"], function(Plotly) {                    window.PLOTLYENV=window.PLOTLYENV || {};                                    if (document.getElementById(\"b0723853-936f-413e-b379-e3a104b706fb\")) {                    Plotly.newPlot(                        \"b0723853-936f-413e-b379-e3a104b706fb\",                        [{\"hovertemplate\": \"<b>Constructor:</b> Alfa Romeo <br><b>Drivers:</b> %{text}<extra></extra>\", \"line\": {\"color\": \"red\", \"dash\": \"dot\"}, \"mode\": \"lines\", \"name\": \"Alfa Romeo\", \"text\": [\"Frentzen, Herbert\", \"Herbert, Morbidelli\", \"Alesi, Herbert\", \"Alesi, Diniz\", \"Diniz, Salo\", \"Heidfeld, R\\u00e4ikk\\u00f6nen\", \"Heidfeld, Massa\", \"Frentzen, Heidfeld\", \"Fisichella, Massa\", \"Massa, Villeneuve\", \"Heidfeld, Villeneuve\", \"Heidfeld, Kubica\", \"Heidfeld, Kubica\", \"Heidfeld, Kubica\", \"Kobayashi, de la Rosa\", \"Kobayashi, P\\u00e9rez\", \"Kobayashi, P\\u00e9rez\", \"Guti\\u00e9rrez, H\\u00fclkenberg\", \"Guti\\u00e9rrez, Sutil\", \"Ericsson, Nasr\", \"Ericsson, Nasr\", \"Ericsson, Wehrlein\", \"Ericsson, Leclerc\", \"Giovinazzi, R\\u00e4ikk\\u00f6nen\", \"Giovinazzi, R\\u00e4ikk\\u00f6nen\"], \"type\": \"scatter\", \"x\": [1996, 1997, 1998, 1999, 2000, 2001, 2002, 2003, 2004, 2005, 2006, 2007, 2008, 2009, 2010, 2011, 2012, 2013, 2014, 2015, 2016, 2017, 2018, 2019, 2020], \"y\": [2.9616130867665627, 3.2034750732330894, 3.09532721136843, 3.1817698873406712, 3.1815038342611146, 3.2879219932926786, 3.2420931095774446, 3.264991785900433, 3.415059506774975, 3.336415824299738, 3.2716038868055515, 3.2634103006675774, 3.207650474109146, 3.2330334947586423, 3.170161504705587, 3.0734365522194724, 3.111430411943973, 3.1235119492841212, 3.1127411616220813, 3.0892376742385332, 3.0775847803645013, 3.2084175512864372, 3.243266832908782, 3.2656529810187345, 3.4293689170805286]}, {\"hovertemplate\": \"<b>Constructor:</b> AlphaTauri <br><b>Drivers:</b> %{text}<extra></extra>\", \"line\": {\"color\": \"blue\", \"dash\": \"dot\"}, \"mode\": \"lines\", \"name\": \"AlphaTauri\", \"text\": [\"Lamy, Fisichella\", \"Katayama, Marques\", \"Nakano, Tuero\", \"Gen\\u00e9, Badoer\", \"Gen\\u00e9, Mazzacane\", \"Alonso, Marques\", \"Webber, Yoong\", \"Verstappen, Wilson\", \"Baumgartner, Bruni\", \"Albers, Friesacher\", \"Liuzzi, Speed\", \"Liuzzi, Speed\", \"Bourdais, Vettel\", \"Buemi, Bourdais\", \"Alguersuari, Buemi\", \"Alguersuari, Buemi\", \"Ricciardo, Vergne\", \"Ricciardo, Vergne\", \"Kvyat, Vergne\", \"Sainz, Verstappen\", \"Sainz, Kvyat\", \"Sainz, Kvyat\", \"Gasly, Hartley\", \"Kvyat, Albon\", \"Gasly, Kvyat\"], \"type\": \"scatter\", \"x\": [1996, 1997, 1998, 1999, 2000, 2001, 2002, 2003, 2004, 2005, 2006, 2007, 2008, 2009, 2010, 2011, 2012, 2013, 2014, 2015, 2016, 2017, 2018, 2019, 2020], \"y\": [3.016552721675868, 3.0387958250717126, 3.0418531257130614, 3.0938971151307593, 3.168039758878002, 3.1511338293328683, 3.1427930223968796, 3.1905311132630128, 3.220163388133306, 3.2352848387659945, 3.2532729371289753, 3.2434818128314737, 3.20655288718096, 3.168442609875517, 3.135338255580392, 3.050591981476001, 3.0983563825469664, 3.123908428047905, 3.1133316515837093, 3.0793794804190844, 3.0940888361226473, 3.230891525744348, 3.2103743053733003, 3.266764879773397, 3.4581117248914826]}, {\"hovertemplate\": \"<b>Constructor:</b> Ferrari <br><b>Drivers:</b> %{text}<extra></extra>\", \"line\": {\"color\": \"red\", \"dash\": \"solid\"}, \"mode\": \"lines\", \"name\": \"Ferrari\", \"text\": [\"Irvine, Schumacher\", \"Irvine, Schumacher\", \"Irvine, Schumacher\", \"Irvine, Schumacher\", \"Barrichello, Schumacher\", \"Barrichello, Schumacher\", \"Barrichello, Schumacher\", \"Barrichello, Schumacher\", \"Barrichello, Schumacher\", \"Barrichello, Schumacher\", \"Massa, Schumacher\", \"Massa, R\\u00e4ikk\\u00f6nen\", \"Massa, R\\u00e4ikk\\u00f6nen\", \"R\\u00e4ikk\\u00f6nen, Massa\", \"Alonso, Massa\", \"Alonso, Massa\", \"Alonso, Massa\", \"Alonso, Massa\", \"Alonso, R\\u00e4ikk\\u00f6nen\", \"R\\u00e4ikk\\u00f6nen, Vettel\", \"R\\u00e4ikk\\u00f6nen, Vettel\", \"R\\u00e4ikk\\u00f6nen, Vettel\", \"R\\u00e4ikk\\u00f6nen, Vettel\", \"Leclerc, Vettel\", \"Leclerc, Vettel\"], \"type\": \"scatter\", \"x\": [1996, 1997, 1998, 1999, 2000, 2001, 2002, 2003, 2004, 2005, 2006, 2007, 2008, 2009, 2010, 2011, 2012, 2013, 2014, 2015, 2016, 2017, 2018, 2019, 2020], \"y\": [3.063188010657107, 3.1621140762586726, 3.158277951650402, 3.1652944632848685, 3.1840190327081683, 3.3115901426618373, 3.3281482554703294, 3.3262749089754453, 3.435498090903241, 3.362029508528891, 3.323651611563106, 3.2705027849465282, 3.2158873635784975, 3.239304427834385, 3.1652611705511036, 3.141586450645891, 3.110398024023888, 3.1795959768897175, 3.1009729541147686, 3.139743542592858, 3.169044070508765, 3.3361238343928523, 3.317520004490417, 3.351973283686326, 3.4041983027369795]}, {\"hovertemplate\": \"<b>Constructor:</b> Haas <br><b>Drivers:</b> %{text}<extra></extra>\", \"line\": {\"color\": \"red\", \"dash\": \"dash\"}, \"mode\": \"lines\", \"name\": \"Haas\", \"text\": [\"Grosjean, Guti\\u00e9rrez\", \"Grosjean, Magnussen\", \"Grosjean, Magnussen\", \"Grosjean, Magnussen\", \"Grosjean, Magnussen\"], \"type\": \"scatter\", \"x\": [2016, 2017, 2018, 2019, 2020], \"y\": [3.1190902140562216, 3.213017742841541, 3.2625093981067392, 3.230561848405293, 3.4189635346109943]}, {\"hovertemplate\": \"<b>Constructor:</b> McLaren <br><b>Drivers:</b> %{text}<extra></extra>\", \"line\": {\"color\": \"darkorange\", \"dash\": \"solid\"}, \"mode\": \"lines\", \"name\": \"McLaren\", \"text\": [\"Coulthard, H\\u00e4kkinen\", \"Coulthard, H\\u00e4kkinen\", \"Coulthard, H\\u00e4kkinen\", \"Coulthard, H\\u00e4kkinen\", \"Coulthard, H\\u00e4kkinen\", \"Coulthard, H\\u00e4kkinen\", \"Coulthard, R\\u00e4ikk\\u00f6nen\", \"Coulthard, R\\u00e4ikk\\u00f6nen\", \"Coulthard, R\\u00e4ikk\\u00f6nen\", \"R\\u00e4ikk\\u00f6nen, Pablo Montoya\", \"R\\u00e4ikk\\u00f6nen, Pablo Montoya\", \"Alonso, Hamilton\", \"Hamilton, Kovalainen\", \"Hamilton, Kovalainen\", \"Button, Hamilton\", \"Button, Hamilton\", \"Button, Hamilton\", \"Button, P\\u00e9rez\", \"Button, Magnussen\", \"Button, Alonso\", \"Button, Alonso\", \"Vandoorne, Alonso\", \"Alonso, Vandoorne\", \"Norris, Sainz\", \"Norris, Sainz\"], \"type\": \"scatter\", \"x\": [1996, 1997, 1998, 1999, 2000, 2001, 2002, 2003, 2004, 2005, 2006, 2007, 2008, 2009, 2010, 2011, 2012, 2013, 2014, 2015, 2016, 2017, 2018, 2019, 2020], \"y\": [3.0364649120983165, 3.30395928874848, 3.185123164816, 3.1937869250654263, 3.194871399408494, 3.269238858529036, 3.283340541063127, 3.295669465705724, 3.434217400898208, 3.3996588503789784, 3.31157709397549, 3.293048514804539, 3.209911028611504, 3.212454108305595, 3.1873501088499627, 3.1362983794252437, 3.128257112327256, 3.1409518737452355, 3.1081475337692996, 3.0657152128451814, 3.0917112252007155, 3.2218213975271524, 3.244964341695639, 3.2682391633731522, 3.4622767228030766]}, {\"hovertemplate\": \"<b>Constructor:</b> Mercedes <br><b>Drivers:</b> %{text}<extra></extra>\", \"line\": {\"color\": \"mediumturquoise\", \"dash\": \"solid\"}, \"mode\": \"lines\", \"name\": \"Mercedes\", \"text\": [\"Katayama, Salo\", \"Salo, Verstappen\", \"Takagi, Rosset\", \"Villeneuve, Zonta\", \"Villeneuve, Zonta\", \"Panis, Villeneuve\", \"Panis, Villeneuve\", \"Button, Villeneuve\", \"Button, Sato\", \"Button, Sato\", \"Barrichello, Button\", \"Barrichello, Button\", \"Barrichello, Button\", \"Barrichello, Button\", \"Rosberg, Schumacher\", \"Rosberg, Schumacher\", \"Rosberg, Schumacher\", \"Hamilton, Rosberg\", \"Hamilton, Rosberg\", \"Hamilton, Rosberg\", \"Hamilton, Rosberg\", \"Bottas, Hamilton\", \"Bottas, Hamilton\", \"Bottas, Hamilton\", \"Bottas, Hamilton\"], \"type\": \"scatter\", \"x\": [1996, 1997, 1998, 1999, 2000, 2001, 2002, 2003, 2004, 2005, 2006, 2007, 2008, 2009, 2010, 2011, 2012, 2013, 2014, 2015, 2016, 2017, 2018, 2019, 2020], \"y\": [3.046312224960831, 3.0742613225049453, 3.039218979839157, 3.1257544590061688, 3.1620088712215524, 3.3010002283109556, 3.273284886282003, 3.294490445211508, 3.4380391288879726, 3.4372005124033627, 3.2852986108852105, 3.2246071680702606, 3.1591356463444984, 3.230825892207611, 3.164888188459162, 3.1002267556582037, 3.110273185922295, 3.142192734113715, 3.143240301021869, 3.1593323187662503, 3.1696938471408656, 3.3028239294264967, 3.3117854442057695, 3.3384009782913395, 3.510912091860054]}, {\"hovertemplate\": \"<b>Constructor:</b> Racing Point <br><b>Drivers:</b> %{text}<extra></extra>\", \"line\": {\"color\": \"mediumturquoise\", \"dash\": \"dash\"}, \"mode\": \"lines\", \"name\": \"Racing Point\", \"text\": [\"Barrichello, Brundle\", \"Fisichella, Schumacher\", \"Hill, Schumacher\", \"Frentzen, Hill\", \"Frentzen, Trulli\", \"Trulli, Frentzen\", \"Fisichella, Sato\", \"Fisichella, Firman\", \"Heidfeld, Pantano\", \"Karthikeyan, Monteiro\", \"Albers, Monteiro\", \"Sutil, Albers\", \"Fisichella, Sutil\", \"Sutil, Fisichella\", \"Liuzzi, Sutil\", \"Sutil, di Resta\", \"H\\u00fclkenberg, di Resta\", \"Sutil, di Resta\", \"H\\u00fclkenberg, P\\u00e9rez\", \"H\\u00fclkenberg, P\\u00e9rez\", \"H\\u00fclkenberg, P\\u00e9rez\", \"Ocon, P\\u00e9rez\", \"Ocon, P\\u00e9rez\", \"P\\u00e9rez, Stroll\", \"Stroll, P\\u00e9rez\"], \"type\": \"scatter\", \"x\": [1996, 1997, 1998, 1999, 2000, 2001, 2002, 2003, 2004, 2005, 2006, 2007, 2008, 2009, 2010, 2011, 2012, 2013, 2014, 2015, 2016, 2017, 2018, 2019, 2020], \"y\": [3.1084044427352673, 3.193678674646712, 3.1304608491880797, 3.204275049963047, 3.1498639351690296, 3.2242285722871773, 3.2591022856128204, 3.215861960723427, 3.317870261365406, 3.2811832292720746, 3.179346693197159, 3.1719915245209793, 3.133083036393462, 3.2008492137425026, 3.15109675143265, 3.069633358950523, 3.102513294207353, 3.1154252459554606, 3.1509593505750066, 3.1188110883728997, 3.128919201012843, 3.2525697151037756, 3.2855955751666666, 3.29516348343605, 3.471152563609727]}, {\"hovertemplate\": \"<b>Constructor:</b> Red Bull <br><b>Drivers:</b> %{text}<extra></extra>\", \"line\": {\"color\": \"blue\", \"dash\": \"solid\"}, \"mode\": \"lines\", \"name\": \"Red Bull\", \"text\": [\"Barrichello, Magnussen\", \"Barrichello, Verstappen\", \"Barrichello, Herbert\", \"Herbert, Irvine\", \"Irvine, de la Rosa\", \"Irvine, de la Rosa\", \"Webber, Pizzonia\", \"Klien, Webber\", \"Coulthard, Klien\", \"Coulthard, Klien\", \"Coulthard, Webber\", \"Coulthard, Webber\", \"Vettel, Webber\", \"Vettel, Webber\", \"Vettel, Webber\", \"Vettel, Webber\", \"Vettel, Webber\", \"Ricciardo, Vettel\", \"Kvyat, Ricciardo\", \"Ricciardo, Verstappen\", \"Ricciardo, Verstappen\", \"Ricciardo, Verstappen\", \"Verstappen, Gasly\", \"Albon, Verstappen\"], \"type\": \"scatter\", \"x\": [1997, 1998, 1999, 2000, 2001, 2002, 2003, 2004, 2005, 2006, 2007, 2008, 2009, 2010, 2011, 2012, 2013, 2014, 2015, 2016, 2017, 2018, 2019, 2020], \"y\": [3.1020169180116732, 3.101542577718314, 3.1610371784596376, 3.126133598006944, 3.2430375496449635, 3.1939893472589636, 3.2829893891635176, 3.420545363491655, 3.4091640590257763, 3.2821583069246096, 3.209243307061766, 3.219537073123103, 3.268783536911847, 3.1795250841893963, 3.122351226686471, 3.12970992558824, 3.1679040739126925, 3.1268897676233216, 3.1011803684065535, 3.156579044724118, 3.2989719289524904, 3.31320363313495, 3.3004103467396506, 3.480262281145235]}, {\"hovertemplate\": \"<b>Constructor:</b> Renault <br><b>Drivers:</b> %{text}<extra></extra>\", \"line\": {\"color\": \"gold\", \"dash\": \"solid\"}, \"mode\": \"lines\", \"name\": \"Renault\", \"text\": [\"Alesi, Berger\", \"Alesi, Berger\", \"Fisichella, Wurz\", \"Fisichella, Wurz\", \"Fisichella, Wurz\", \"Button, Fisichella\", \"Button, Trulli\", \"Alonso, Trulli\", \"Alonso, Trulli\", \"Alonso, Fisichella\", \"Alonso, Fisichella\", \"Fisichella, Kovalainen\", \"Alonso, Piquet Jr.\", \"Alonso, Piquet Jr.\", \"Kovalainen, Kubica, Petrov, Trulli\", \"Kovalainen, Petrov\", \"R\\u00e4ikk\\u00f6nen, Grosjean\", \"Grosjean, R\\u00e4ikk\\u00f6nen\", \"Grosjean, Maldonado\", \"Grosjean, Maldonado\", \"Magnussen, Palmer\", \"H\\u00fclkenberg, Palmer\", \"H\\u00fclkenberg, Sainz\", \"H\\u00fclkenberg, Ricciardo\", \"Ocon, Ricciardo\"], \"type\": \"scatter\", \"x\": [1996, 1997, 1998, 1999, 2000, 2001, 2002, 2003, 2004, 2005, 2006, 2007, 2008, 2009, 2010, 2011, 2012, 2013, 2014, 2015, 2016, 2017, 2018, 2019, 2020], \"y\": [3.0651428804052037, 3.205582605839531, 3.1187528828679674, 3.1125465232155607, 3.1608482117892813, 3.2084849489682226, 3.2621200996106037, 3.24986678418329, 3.4185653408339456, 3.3959039362984136, 3.334809286181929, 3.2269106948871977, 3.2122216715064122, 3.2345807850928185, 3.080417682651935, 3.0474206120513645, 3.1551948524419475, 3.1580185606975038, 3.089798912810877, 3.0483492844212163, 3.1056735222859375, 3.2432395950215174, 3.256631329188224, 3.290551213471506, 3.458588879672986]}, {\"hovertemplate\": \"<b>Constructor:</b> Williams <br><b>Drivers:</b> %{text}<extra></extra>\", \"line\": {\"color\": \"mediumturquoise\", \"dash\": \"dot\"}, \"mode\": \"lines\", \"name\": \"Williams\", \"text\": [\"Hill, Villeneuve\", \"Frentzen, Villeneuve\", \"Frentzen, Villeneuve\", \"Schumacher, Zanardi\", \"Button, Schumacher\", \"Pablo Montoya, Schumacher\", \"Pablo Montoya, Schumacher\", \"Pablo Montoya, Schumacher\", \"Pablo Montoya, Schumacher\", \"Webber, Heidfeld\", \"Rosberg, Webber\", \"Rosberg, Wurz\", \"Nakajima, Rosberg\", \"Nakajima, Rosberg\", \"Barrichello, H\\u00fclkenberg\", \"Barrichello, Maldonado\", \"Maldonado, Senna\", \"Bottas, Maldonado\", \"Bottas, Massa\", \"Bottas, Massa\", \"Bottas, Massa\", \"Stroll, Massa\", \"Sirotkin, Stroll\", \"Kubica, Russell\", \"Latifi, Russell\"], \"type\": \"scatter\", \"x\": [1996, 1997, 1998, 1999, 2000, 2001, 2002, 2003, 2004, 2005, 2006, 2007, 2008, 2009, 2010, 2011, 2012, 2013, 2014, 2015, 2016, 2017, 2018, 2019, 2020], \"y\": [3.0828652986217455, 3.242208580920752, 3.1538513126748673, 3.147539815275784, 3.1992287610295227, 3.3440364823926276, 3.296860749734755, 3.297037377961898, 3.409894154900629, 3.3334615710940705, 3.2960734106454566, 3.2527004017544794, 3.1710788450496916, 3.209550696459142, 3.164310913481374, 3.0461601706066133, 3.1422040623912055, 3.127523489668659, 3.1081133461830985, 3.1369785070229304, 3.11829135573111, 3.2417007877742674, 3.2372356657191834, 3.2280983409649306, 3.4261135956203774]}],                        {\"annotations\": [{\"arrowcolor\": \"teal\", \"arrowhead\": 5, \"arrowside\": \"end+start\", \"arrowsize\": 1.5, \"ax\": 1996, \"axref\": \"x\", \"ay\": 3.53, \"ayref\": \"y\", \"x\": 2005, \"xref\": \"x\", \"y\": 3.53, \"yref\": \"y\"}, {\"font\": {\"color\": \"teal\", \"size\": 18}, \"showarrow\": false, \"text\": \"<b>V10/12 Engines</b>\", \"x\": 2000.5, \"y\": 3.55}, {\"arrowcolor\": \"IndianRed\", \"arrowhead\": 5, \"arrowside\": \"end+start\", \"arrowsize\": 1.5, \"ax\": 2013, \"axref\": \"x\", \"ay\": 3.53, \"ayref\": \"y\", \"x\": 2006, \"xref\": \"x\", \"y\": 3.53, \"yref\": \"y\"}, {\"font\": {\"color\": \"IndianRed\", \"size\": 18}, \"showarrow\": false, \"text\": \"<b>V8 Engines</b>\", \"x\": 2009.5, \"y\": 3.55}, {\"arrowcolor\": \"darkgreen\", \"arrowhead\": 5, \"arrowside\": \"end+start\", \"arrowsize\": 1.5, \"ax\": 2014, \"axref\": \"x\", \"ay\": 3.53, \"ayref\": \"y\", \"x\": 2020, \"xref\": \"x\", \"y\": 3.53, \"yref\": \"y\"}, {\"font\": {\"color\": \"darkgreen\", \"size\": 18}, \"showarrow\": false, \"text\": \"<b>V6 Hybrid Engines</b>\", \"x\": 2017, \"y\": 3.55}], \"autosize\": false, \"font\": {\"color\": \"black\", \"size\": 15}, \"height\": 800, \"legend\": {\"title\": {\"text\": \"<b>Constructors</b>\"}}, \"plot_bgcolor\": \"rgba(0,0,0,0)\", \"shapes\": [{\"fillcolor\": \"azure\", \"layer\": \"below\", \"line\": {\"width\": 0}, \"type\": \"rect\", \"x0\": \"1996\", \"x1\": \"2005\", \"xref\": \"x\", \"y0\": 0, \"y1\": 1, \"yref\": \"y domain\"}, {\"fillcolor\": \"cornsilk\", \"layer\": \"below\", \"line\": {\"width\": 0}, \"type\": \"rect\", \"x0\": \"2006\", \"x1\": \"2013\", \"xref\": \"x\", \"y0\": 0, \"y1\": 1, \"yref\": \"y domain\"}, {\"fillcolor\": \"honeydew\", \"layer\": \"below\", \"line\": {\"width\": 0}, \"type\": \"rect\", \"x0\": \"2014\", \"x1\": \"2020\", \"xref\": \"x\", \"y0\": 0, \"y1\": 1, \"yref\": \"y domain\"}], \"template\": {\"data\": {\"bar\": [{\"error_x\": {\"color\": \"#2a3f5f\"}, \"error_y\": {\"color\": \"#2a3f5f\"}, \"marker\": {\"line\": {\"color\": \"#E5ECF6\", \"width\": 0.5}}, \"type\": \"bar\"}], \"barpolar\": [{\"marker\": {\"line\": {\"color\": \"#E5ECF6\", \"width\": 0.5}}, \"type\": \"barpolar\"}], \"carpet\": [{\"aaxis\": {\"endlinecolor\": \"#2a3f5f\", \"gridcolor\": \"white\", \"linecolor\": \"white\", \"minorgridcolor\": \"white\", \"startlinecolor\": \"#2a3f5f\"}, \"baxis\": {\"endlinecolor\": \"#2a3f5f\", \"gridcolor\": \"white\", \"linecolor\": \"white\", \"minorgridcolor\": \"white\", \"startlinecolor\": \"#2a3f5f\"}, \"type\": \"carpet\"}], \"choropleth\": [{\"colorbar\": {\"outlinewidth\": 0, \"ticks\": \"\"}, \"type\": \"choropleth\"}], \"contour\": [{\"colorbar\": {\"outlinewidth\": 0, \"ticks\": \"\"}, \"colorscale\": [[0.0, \"#0d0887\"], [0.1111111111111111, \"#46039f\"], [0.2222222222222222, \"#7201a8\"], [0.3333333333333333, \"#9c179e\"], [0.4444444444444444, \"#bd3786\"], [0.5555555555555556, \"#d8576b\"], [0.6666666666666666, \"#ed7953\"], [0.7777777777777778, \"#fb9f3a\"], [0.8888888888888888, \"#fdca26\"], [1.0, \"#f0f921\"]], \"type\": \"contour\"}], \"contourcarpet\": [{\"colorbar\": {\"outlinewidth\": 0, \"ticks\": \"\"}, \"type\": \"contourcarpet\"}], \"heatmap\": [{\"colorbar\": {\"outlinewidth\": 0, \"ticks\": \"\"}, \"colorscale\": [[0.0, \"#0d0887\"], [0.1111111111111111, \"#46039f\"], [0.2222222222222222, \"#7201a8\"], [0.3333333333333333, \"#9c179e\"], [0.4444444444444444, \"#bd3786\"], [0.5555555555555556, \"#d8576b\"], [0.6666666666666666, \"#ed7953\"], [0.7777777777777778, \"#fb9f3a\"], [0.8888888888888888, \"#fdca26\"], [1.0, \"#f0f921\"]], \"type\": \"heatmap\"}], \"heatmapgl\": [{\"colorbar\": {\"outlinewidth\": 0, \"ticks\": \"\"}, \"colorscale\": [[0.0, \"#0d0887\"], [0.1111111111111111, \"#46039f\"], [0.2222222222222222, \"#7201a8\"], [0.3333333333333333, \"#9c179e\"], [0.4444444444444444, \"#bd3786\"], [0.5555555555555556, \"#d8576b\"], [0.6666666666666666, \"#ed7953\"], [0.7777777777777778, \"#fb9f3a\"], [0.8888888888888888, \"#fdca26\"], [1.0, \"#f0f921\"]], \"type\": \"heatmapgl\"}], \"histogram\": [{\"marker\": {\"colorbar\": {\"outlinewidth\": 0, \"ticks\": \"\"}}, \"type\": \"histogram\"}], \"histogram2d\": [{\"colorbar\": {\"outlinewidth\": 0, \"ticks\": \"\"}, \"colorscale\": [[0.0, \"#0d0887\"], [0.1111111111111111, \"#46039f\"], [0.2222222222222222, \"#7201a8\"], [0.3333333333333333, \"#9c179e\"], [0.4444444444444444, \"#bd3786\"], [0.5555555555555556, \"#d8576b\"], [0.6666666666666666, \"#ed7953\"], [0.7777777777777778, \"#fb9f3a\"], [0.8888888888888888, \"#fdca26\"], [1.0, \"#f0f921\"]], \"type\": \"histogram2d\"}], \"histogram2dcontour\": [{\"colorbar\": {\"outlinewidth\": 0, \"ticks\": \"\"}, \"colorscale\": [[0.0, \"#0d0887\"], [0.1111111111111111, \"#46039f\"], [0.2222222222222222, \"#7201a8\"], [0.3333333333333333, \"#9c179e\"], [0.4444444444444444, \"#bd3786\"], [0.5555555555555556, \"#d8576b\"], [0.6666666666666666, \"#ed7953\"], [0.7777777777777778, \"#fb9f3a\"], [0.8888888888888888, \"#fdca26\"], [1.0, \"#f0f921\"]], \"type\": \"histogram2dcontour\"}], \"mesh3d\": [{\"colorbar\": {\"outlinewidth\": 0, \"ticks\": \"\"}, \"type\": \"mesh3d\"}], \"parcoords\": [{\"line\": {\"colorbar\": {\"outlinewidth\": 0, \"ticks\": \"\"}}, \"type\": \"parcoords\"}], \"pie\": [{\"automargin\": true, \"type\": \"pie\"}], \"scatter\": [{\"marker\": {\"colorbar\": {\"outlinewidth\": 0, \"ticks\": \"\"}}, \"type\": \"scatter\"}], \"scatter3d\": [{\"line\": {\"colorbar\": {\"outlinewidth\": 0, \"ticks\": \"\"}}, \"marker\": {\"colorbar\": {\"outlinewidth\": 0, \"ticks\": \"\"}}, \"type\": \"scatter3d\"}], \"scattercarpet\": [{\"marker\": {\"colorbar\": {\"outlinewidth\": 0, \"ticks\": \"\"}}, \"type\": \"scattercarpet\"}], \"scattergeo\": [{\"marker\": {\"colorbar\": {\"outlinewidth\": 0, \"ticks\": \"\"}}, \"type\": \"scattergeo\"}], \"scattergl\": [{\"marker\": {\"colorbar\": {\"outlinewidth\": 0, \"ticks\": \"\"}}, \"type\": \"scattergl\"}], \"scattermapbox\": [{\"marker\": {\"colorbar\": {\"outlinewidth\": 0, \"ticks\": \"\"}}, \"type\": \"scattermapbox\"}], \"scatterpolar\": [{\"marker\": {\"colorbar\": {\"outlinewidth\": 0, \"ticks\": \"\"}}, \"type\": \"scatterpolar\"}], \"scatterpolargl\": [{\"marker\": {\"colorbar\": {\"outlinewidth\": 0, \"ticks\": \"\"}}, \"type\": \"scatterpolargl\"}], \"scatterternary\": [{\"marker\": {\"colorbar\": {\"outlinewidth\": 0, \"ticks\": \"\"}}, \"type\": \"scatterternary\"}], \"surface\": [{\"colorbar\": {\"outlinewidth\": 0, \"ticks\": \"\"}, \"colorscale\": [[0.0, \"#0d0887\"], [0.1111111111111111, \"#46039f\"], [0.2222222222222222, \"#7201a8\"], [0.3333333333333333, \"#9c179e\"], [0.4444444444444444, \"#bd3786\"], [0.5555555555555556, \"#d8576b\"], [0.6666666666666666, \"#ed7953\"], [0.7777777777777778, \"#fb9f3a\"], [0.8888888888888888, \"#fdca26\"], [1.0, \"#f0f921\"]], \"type\": \"surface\"}], \"table\": [{\"cells\": {\"fill\": {\"color\": \"#EBF0F8\"}, \"line\": {\"color\": \"white\"}}, \"header\": {\"fill\": {\"color\": \"#C8D4E3\"}, \"line\": {\"color\": \"white\"}}, \"type\": \"table\"}]}, \"layout\": {\"annotationdefaults\": {\"arrowcolor\": \"#2a3f5f\", \"arrowhead\": 0, \"arrowwidth\": 1}, \"autotypenumbers\": \"strict\", \"coloraxis\": {\"colorbar\": {\"outlinewidth\": 0, \"ticks\": \"\"}}, \"colorscale\": {\"diverging\": [[0, \"#8e0152\"], [0.1, \"#c51b7d\"], [0.2, \"#de77ae\"], [0.3, \"#f1b6da\"], [0.4, \"#fde0ef\"], [0.5, \"#f7f7f7\"], [0.6, \"#e6f5d0\"], [0.7, \"#b8e186\"], [0.8, \"#7fbc41\"], [0.9, \"#4d9221\"], [1, \"#276419\"]], \"sequential\": [[0.0, \"#0d0887\"], [0.1111111111111111, \"#46039f\"], [0.2222222222222222, \"#7201a8\"], [0.3333333333333333, \"#9c179e\"], [0.4444444444444444, \"#bd3786\"], [0.5555555555555556, \"#d8576b\"], [0.6666666666666666, \"#ed7953\"], [0.7777777777777778, \"#fb9f3a\"], [0.8888888888888888, \"#fdca26\"], [1.0, \"#f0f921\"]], \"sequentialminus\": [[0.0, \"#0d0887\"], [0.1111111111111111, \"#46039f\"], [0.2222222222222222, \"#7201a8\"], [0.3333333333333333, \"#9c179e\"], [0.4444444444444444, \"#bd3786\"], [0.5555555555555556, \"#d8576b\"], [0.6666666666666666, \"#ed7953\"], [0.7777777777777778, \"#fb9f3a\"], [0.8888888888888888, \"#fdca26\"], [1.0, \"#f0f921\"]]}, \"colorway\": [\"#636efa\", \"#EF553B\", \"#00cc96\", \"#ab63fa\", \"#FFA15A\", \"#19d3f3\", \"#FF6692\", \"#B6E880\", \"#FF97FF\", \"#FECB52\"], \"font\": {\"color\": \"#2a3f5f\"}, \"geo\": {\"bgcolor\": \"white\", \"lakecolor\": \"white\", \"landcolor\": \"#E5ECF6\", \"showlakes\": true, \"showland\": true, \"subunitcolor\": \"white\"}, \"hoverlabel\": {\"align\": \"left\"}, \"hovermode\": \"closest\", \"mapbox\": {\"style\": \"light\"}, \"paper_bgcolor\": \"white\", \"plot_bgcolor\": \"#E5ECF6\", \"polar\": {\"angularaxis\": {\"gridcolor\": \"white\", \"linecolor\": \"white\", \"ticks\": \"\"}, \"bgcolor\": \"#E5ECF6\", \"radialaxis\": {\"gridcolor\": \"white\", \"linecolor\": \"white\", \"ticks\": \"\"}}, \"scene\": {\"xaxis\": {\"backgroundcolor\": \"#E5ECF6\", \"gridcolor\": \"white\", \"gridwidth\": 2, \"linecolor\": \"white\", \"showbackground\": true, \"ticks\": \"\", \"zerolinecolor\": \"white\"}, \"yaxis\": {\"backgroundcolor\": \"#E5ECF6\", \"gridcolor\": \"white\", \"gridwidth\": 2, \"linecolor\": \"white\", \"showbackground\": true, \"ticks\": \"\", \"zerolinecolor\": \"white\"}, \"zaxis\": {\"backgroundcolor\": \"#E5ECF6\", \"gridcolor\": \"white\", \"gridwidth\": 2, \"linecolor\": \"white\", \"showbackground\": true, \"ticks\": \"\", \"zerolinecolor\": \"white\"}}, \"shapedefaults\": {\"line\": {\"color\": \"#2a3f5f\"}}, \"ternary\": {\"aaxis\": {\"gridcolor\": \"white\", \"linecolor\": \"white\", \"ticks\": \"\"}, \"baxis\": {\"gridcolor\": \"white\", \"linecolor\": \"white\", \"ticks\": \"\"}, \"bgcolor\": \"#E5ECF6\", \"caxis\": {\"gridcolor\": \"white\", \"linecolor\": \"white\", \"ticks\": \"\"}}, \"title\": {\"x\": 0.05}, \"xaxis\": {\"automargin\": true, \"gridcolor\": \"white\", \"linecolor\": \"white\", \"ticks\": \"\", \"title\": {\"standoff\": 15}, \"zerolinecolor\": \"white\", \"zerolinewidth\": 2}, \"yaxis\": {\"automargin\": true, \"gridcolor\": \"white\", \"linecolor\": \"white\", \"ticks\": \"\", \"title\": {\"standoff\": 15}, \"zerolinecolor\": \"white\", \"zerolinewidth\": 2}}}, \"title\": {\"text\": \"<b>Average Yearly Km/min by Constructor</b>\", \"xanchor\": \"left\", \"y\": 0.92, \"yanchor\": \"top\"}, \"width\": 1000, \"xaxis\": {\"dtick\": 2, \"gridcolor\": \"lightGray\", \"linecolor\": \"black\", \"linewidth\": 2, \"range\": [1995, 2021], \"showline\": true, \"tick0\": 1996, \"ticklen\": 10, \"tickprefix\": \"<b>\", \"ticks\": \"outside\", \"ticksuffix\": \"</b>\", \"tickwidth\": 2, \"title\": {\"text\": \"<b>Year</b>\"}}, \"yaxis\": {\"gridcolor\": \"lightGray\", \"linecolor\": \"black\", \"linewidth\": 2, \"range\": [2.9, 3.58], \"showline\": true, \"tickfont\": {\"size\": 15}, \"ticklen\": 10, \"tickprefix\": \"<b>\", \"ticks\": \"outside\", \"ticksuffix\": \"</b>\", \"tickwidth\": 2, \"title\": {\"text\": \"<b>Km/min</b>\"}}},                        {\"responsive\": true}                    ).then(function(){\n",
       "                            \n",
       "var gd = document.getElementById('b0723853-936f-413e-b379-e3a104b706fb');\n",
       "var x = new MutationObserver(function (mutations, observer) {{\n",
       "        var display = window.getComputedStyle(gd).display;\n",
       "        if (!display || display === 'none') {{\n",
       "            console.log([gd, 'removed!']);\n",
       "            Plotly.purge(gd);\n",
       "            observer.disconnect();\n",
       "        }}\n",
       "}});\n",
       "\n",
       "// Listen for the removal of the full notebook cells\n",
       "var notebookContainer = gd.closest('#notebook-container');\n",
       "if (notebookContainer) {{\n",
       "    x.observe(notebookContainer, {childList: true});\n",
       "}}\n",
       "\n",
       "// Listen for the clearing of the current output cell\n",
       "var outputEl = gd.closest('.output');\n",
       "if (outputEl) {{\n",
       "    x.observe(outputEl, {childList: true});\n",
       "}}\n",
       "\n",
       "                        })                };                });            </script>        </div>"
      ]
     },
     "metadata": {},
     "output_type": "display_data"
    }
   ],
   "source": [
    "fig = go.Figure()\n",
    "\n",
    "df = avg_lap_speed#.loc[avg_lap_speed.constructorRef_mapped == 'mercedes', :]\n",
    "\n",
    "for key, grp in df.groupby(['constructorRef_mapped']):\n",
    "    \n",
    "    fig.add_trace(go.Scatter(x=grp['year'], y=grp['avg_lap_speed'],\n",
    "                    mode='lines',\n",
    "                    line=dict(color=col_map[key], dash=line_map[key]),\n",
    "                    name=df.loc[df.constructorRef_mapped == key, 'constructor_name'].unique()[0],  #constructor_names[key],\n",
    "                    hovertemplate =\n",
    "                     f'<b>Constructor:</b> {constructor_names[key]} <br>' +\n",
    "                     '<b>Drivers:</b> %{text}<extra></extra>',\n",
    "                     text = df.loc[(df.constructorRef_mapped == key), \"drivers\"],))\n",
    "    \n",
    "fig.add_vrect(\n",
    "    x0=\"1996\", x1=\"2005\",\n",
    "    fillcolor=\"azure\", #opacity=0.5,\n",
    "    layer=\"below\", line_width=0,\n",
    "),\n",
    "\n",
    "fig.add_vrect(\n",
    "    x0=\"2006\", x1=\"2013\",\n",
    "    fillcolor=\"cornsilk\", #opacity=0.5,\n",
    "    layer=\"below\", line_width=0,\n",
    "),\n",
    "\n",
    "fig.add_vrect(\n",
    "    x0=\"2014\", x1=\"2020\",\n",
    "    fillcolor=\"honeydew\", #opacity=0.5,\n",
    "    layer=\"below\", line_width=0,\n",
    "),\n",
    "\n",
    "fig.add_annotation(x=2005, y=3.53,\n",
    "            xref = \"x\", yref = \"y\", ax=1996, ay=3.53,\n",
    "            axref = \"x\", ayref = \"y\",\n",
    "            arrowhead = 5, arrowside=\"end+start\", arrowsize=1.5, arrowcolor='teal')\n",
    "\n",
    "fig.add_annotation(x=2000.5, y=3.55, text=\"<b>V10/12 Engines</b>\",\n",
    "            showarrow=False, font=dict(size=18, color='teal'))\n",
    "\n",
    "fig.add_annotation(x=2006, y=3.53,\n",
    "            xref = \"x\", yref = \"y\", ax=2013, ay=3.53,\n",
    "            axref = \"x\", ayref = \"y\",\n",
    "            arrowhead = 5, arrowside=\"end+start\", arrowsize=1.5, arrowcolor='IndianRed')\n",
    "\n",
    "fig.add_annotation(x=2009.5, y=3.55, text=\"<b>V8 Engines</b>\",\n",
    "            showarrow=False, font=dict(size=18, color='IndianRed'))\n",
    "\n",
    "fig.add_annotation(x=2020, y=3.53,\n",
    "            xref = \"x\", yref = \"y\", ax=2014, ay=3.53,\n",
    "            axref = \"x\", ayref = \"y\",\n",
    "            arrowhead = 5, arrowside=\"end+start\", arrowsize=1.5, arrowcolor='darkgreen')\n",
    "\n",
    "fig.add_annotation(x=2017, y=3.55, text=\"<b>V6 Hybrid Engines</b>\",\n",
    "            showarrow=False, font=dict(size=18, color='darkgreen'))\n",
    "\n",
    "                 \n",
    "fig.update_layout(\n",
    "    autosize=False,\n",
    "    width=1000,\n",
    "    height=800,\n",
    "    \n",
    "    plot_bgcolor='rgba(0,0,0,0)',\n",
    "    \n",
    "    title = dict(\n",
    "        text=\"<b>Average Yearly Km/min by Constructor</b>\",\n",
    "        xanchor='left',\n",
    "        yanchor='top',\n",
    "        y=0.92,\n",
    "        #x=0.1\n",
    "    ),\n",
    "    \n",
    "    legend=dict(\n",
    "        title_text=\"<b>Constructors</b>\",\n",
    "    ),\n",
    "    \n",
    "    yaxis=dict(\n",
    "        range=[2.9,3.58],\n",
    "        title_text=\"<b>Km/min</b>\",\n",
    "        tickwidth=2,\n",
    "        ticks=\"outside\",\n",
    "        ticklen=10,\n",
    "        tickprefix=\"<b>\",ticksuffix =\"</b>\",\n",
    "        tickfont=dict(size=15),\n",
    "        showline=True,\n",
    "        linewidth=2,\n",
    "        linecolor='black',\n",
    "        gridcolor='lightGray'\n",
    "    ),\n",
    "    \n",
    "    xaxis=dict(\n",
    "        range=[1995,2021],\n",
    "        tick0=1996,\n",
    "        dtick=2,\n",
    "        title_text=\"<b>Year</b>\",\n",
    "        tickwidth=2,\n",
    "        ticks=\"outside\",\n",
    "        tickprefix=\"<b>\",ticksuffix =\"</b>\",\n",
    "        ticklen=10,\n",
    "        showline=True,\n",
    "        linewidth=2,\n",
    "        linecolor='black',\n",
    "        gridcolor='lightGray'\n",
    "    ),\n",
    "    \n",
    "    font=dict(\n",
    "        size=15,\n",
    "    color='black')\n",
    ")\n",
    "\n",
    "fig.show()"
   ]
  },
  {
   "cell_type": "code",
   "execution_count": null,
   "metadata": {},
   "outputs": [],
   "source": []
  }
 ],
 "metadata": {
  "kernelspec": {
   "display_name": "Python 3",
   "language": "python",
   "name": "python3"
  },
  "language_info": {
   "codemirror_mode": {
    "name": "ipython",
    "version": 3
   },
   "file_extension": ".py",
   "mimetype": "text/x-python",
   "name": "python",
   "nbconvert_exporter": "python",
   "pygments_lexer": "ipython3",
   "version": "3.7.3"
  }
 },
 "nbformat": 4,
 "nbformat_minor": 2
}
